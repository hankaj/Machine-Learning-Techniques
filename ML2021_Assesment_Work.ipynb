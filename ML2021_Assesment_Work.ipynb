{
  "nbformat": 4,
  "nbformat_minor": 0,
  "metadata": {
    "colab": {
      "name": "ML2021 - Assesment Work",
      "provenance": [],
      "include_colab_link": true
    },
    "kernelspec": {
      "name": "python3",
      "display_name": "Python 3"
    },
    "language_info": {
      "name": "python"
    }
  },
  "cells": [
    {
      "cell_type": "markdown",
      "metadata": {
        "id": "view-in-github",
        "colab_type": "text"
      },
      "source": [
        "<a href=\"https://colab.research.google.com/github/hankaj/Machine-Learning-Techniques/blob/master/ML2021_Assesment_Work.ipynb\" target=\"_parent\"><img src=\"https://colab.research.google.com/assets/colab-badge.svg\" alt=\"Open In Colab\"/></a>"
      ]
    },
    {
      "cell_type": "markdown",
      "metadata": {
        "id": "OPk5xckzHjrR"
      },
      "source": [
        "## ML2021 - Assesment Work (Regression)\n",
        "\n",
        "The challenge is to predict Workers Compensation claims using realistic data.\n",
        "\n",
        "**Model Evaluation**: MSE, $R^2$, ..."
      ]
    },
    {
      "cell_type": "markdown",
      "metadata": {
        "id": "GAVRtiK_E5Hw"
      },
      "source": [
        "## Data Loading \n",
        "\n",
        "\n"
      ]
    },
    {
      "cell_type": "markdown",
      "metadata": {
        "id": "L4H9r5NVwK-_"
      },
      "source": [
        "1. Download the train data"
      ]
    },
    {
      "cell_type": "code",
      "metadata": {
        "colab": {
          "base_uri": "https://localhost:8080/"
        },
        "id": "viWr48ISEnyE",
        "outputId": "a5288f08-5d89-4d86-b44e-73a3e06ab904"
      },
      "source": [
        "!wget https://github.com/curso-iabd-uclm/machinelearning/raw/main/insurance/train.csv"
      ],
      "execution_count": 95,
      "outputs": [
        {
          "output_type": "stream",
          "name": "stdout",
          "text": [
            "--2022-01-23 16:33:48--  https://github.com/curso-iabd-uclm/machinelearning/raw/main/insurance/train.csv\n",
            "Resolving github.com (github.com)... 140.82.112.3\n",
            "Connecting to github.com (github.com)|140.82.112.3|:443... connected.\n",
            "HTTP request sent, awaiting response... 302 Found\n",
            "Location: https://raw.githubusercontent.com/curso-iabd-uclm/machinelearning/main/insurance/train.csv [following]\n",
            "--2022-01-23 16:33:49--  https://raw.githubusercontent.com/curso-iabd-uclm/machinelearning/main/insurance/train.csv\n",
            "Resolving raw.githubusercontent.com (raw.githubusercontent.com)... 185.199.108.133, 185.199.109.133, 185.199.110.133, ...\n",
            "Connecting to raw.githubusercontent.com (raw.githubusercontent.com)|185.199.108.133|:443... connected.\n",
            "HTTP request sent, awaiting response... 200 OK\n",
            "Length: 4942050 (4.7M) [text/plain]\n",
            "Saving to: ‘train.csv.2’\n",
            "\n",
            "train.csv.2         100%[===================>]   4.71M  --.-KB/s    in 0.06s   \n",
            "\n",
            "2022-01-23 16:33:49 (81.1 MB/s) - ‘train.csv.2’ saved [4942050/4942050]\n",
            "\n"
          ]
        }
      ]
    },
    {
      "cell_type": "code",
      "metadata": {
        "colab": {
          "base_uri": "https://localhost:8080/",
          "height": 477
        },
        "id": "zViX1JlTE-B1",
        "outputId": "87572375-a957-43bd-f986-2461d1b46cea"
      },
      "source": [
        "import pandas as pd\n",
        "df = pd.read_csv(\"train.csv\")\n",
        "df.head()"
      ],
      "execution_count": 96,
      "outputs": [
        {
          "output_type": "execute_result",
          "data": {
            "text/html": [
              "\n",
              "  <div id=\"df-b435e0bf-dfef-4716-ad9e-a391bed8abc9\">\n",
              "    <div class=\"colab-df-container\">\n",
              "      <div>\n",
              "<style scoped>\n",
              "    .dataframe tbody tr th:only-of-type {\n",
              "        vertical-align: middle;\n",
              "    }\n",
              "\n",
              "    .dataframe tbody tr th {\n",
              "        vertical-align: top;\n",
              "    }\n",
              "\n",
              "    .dataframe thead th {\n",
              "        text-align: right;\n",
              "    }\n",
              "</style>\n",
              "<table border=\"1\" class=\"dataframe\">\n",
              "  <thead>\n",
              "    <tr style=\"text-align: right;\">\n",
              "      <th></th>\n",
              "      <th>ClaimNumber</th>\n",
              "      <th>DateTimeOfAccident</th>\n",
              "      <th>DateReported</th>\n",
              "      <th>Age</th>\n",
              "      <th>Gender</th>\n",
              "      <th>MaritalStatus</th>\n",
              "      <th>DependentChildren</th>\n",
              "      <th>DependentsOther</th>\n",
              "      <th>WeeklyWages</th>\n",
              "      <th>PartTimeFullTime</th>\n",
              "      <th>HoursWorkedPerWeek</th>\n",
              "      <th>DaysWorkedPerWeek</th>\n",
              "      <th>ClaimDescription</th>\n",
              "      <th>InitialIncurredCalimsCost</th>\n",
              "      <th>UltimateIncurredClaimCost</th>\n",
              "    </tr>\n",
              "  </thead>\n",
              "  <tbody>\n",
              "    <tr>\n",
              "      <th>0</th>\n",
              "      <td>WC8205482</td>\n",
              "      <td>2002-04-09T07:00:00Z</td>\n",
              "      <td>2002-07-05T00:00:00Z</td>\n",
              "      <td>48</td>\n",
              "      <td>M</td>\n",
              "      <td>M</td>\n",
              "      <td>0</td>\n",
              "      <td>0</td>\n",
              "      <td>500.00</td>\n",
              "      <td>F</td>\n",
              "      <td>38.0</td>\n",
              "      <td>5</td>\n",
              "      <td>LIFTING TYRE INJURY TO RIGHT ARM AND WRIST INJURY</td>\n",
              "      <td>1500</td>\n",
              "      <td>4748.203388</td>\n",
              "    </tr>\n",
              "    <tr>\n",
              "      <th>1</th>\n",
              "      <td>WC6922469</td>\n",
              "      <td>1999-01-07T11:00:00Z</td>\n",
              "      <td>1999-01-20T00:00:00Z</td>\n",
              "      <td>43</td>\n",
              "      <td>F</td>\n",
              "      <td>M</td>\n",
              "      <td>0</td>\n",
              "      <td>0</td>\n",
              "      <td>509.34</td>\n",
              "      <td>F</td>\n",
              "      <td>37.5</td>\n",
              "      <td>5</td>\n",
              "      <td>STEPPED AROUND CRATES AND TRUCK TRAY FRACTURE ...</td>\n",
              "      <td>5500</td>\n",
              "      <td>6326.285819</td>\n",
              "    </tr>\n",
              "    <tr>\n",
              "      <th>2</th>\n",
              "      <td>WC5442654</td>\n",
              "      <td>1996-03-25T00:00:00Z</td>\n",
              "      <td>1996-04-14T00:00:00Z</td>\n",
              "      <td>30</td>\n",
              "      <td>M</td>\n",
              "      <td>U</td>\n",
              "      <td>0</td>\n",
              "      <td>0</td>\n",
              "      <td>709.10</td>\n",
              "      <td>F</td>\n",
              "      <td>38.0</td>\n",
              "      <td>5</td>\n",
              "      <td>CUT ON SHARP EDGE CUT LEFT THUMB</td>\n",
              "      <td>1700</td>\n",
              "      <td>2293.949087</td>\n",
              "    </tr>\n",
              "    <tr>\n",
              "      <th>3</th>\n",
              "      <td>WC9796897</td>\n",
              "      <td>2005-06-22T13:00:00Z</td>\n",
              "      <td>2005-07-22T00:00:00Z</td>\n",
              "      <td>41</td>\n",
              "      <td>M</td>\n",
              "      <td>S</td>\n",
              "      <td>0</td>\n",
              "      <td>0</td>\n",
              "      <td>555.46</td>\n",
              "      <td>F</td>\n",
              "      <td>38.0</td>\n",
              "      <td>5</td>\n",
              "      <td>DIGGING LOWER BACK LOWER BACK STRAIN</td>\n",
              "      <td>15000</td>\n",
              "      <td>17786.487170</td>\n",
              "    </tr>\n",
              "    <tr>\n",
              "      <th>4</th>\n",
              "      <td>WC2603726</td>\n",
              "      <td>1990-08-29T08:00:00Z</td>\n",
              "      <td>1990-09-27T00:00:00Z</td>\n",
              "      <td>36</td>\n",
              "      <td>M</td>\n",
              "      <td>M</td>\n",
              "      <td>0</td>\n",
              "      <td>0</td>\n",
              "      <td>377.10</td>\n",
              "      <td>F</td>\n",
              "      <td>38.0</td>\n",
              "      <td>5</td>\n",
              "      <td>REACHING ABOVE SHOULDER LEVEL ACUTE MUSCLE STR...</td>\n",
              "      <td>2800</td>\n",
              "      <td>4014.002925</td>\n",
              "    </tr>\n",
              "  </tbody>\n",
              "</table>\n",
              "</div>\n",
              "      <button class=\"colab-df-convert\" onclick=\"convertToInteractive('df-b435e0bf-dfef-4716-ad9e-a391bed8abc9')\"\n",
              "              title=\"Convert this dataframe to an interactive table.\"\n",
              "              style=\"display:none;\">\n",
              "        \n",
              "  <svg xmlns=\"http://www.w3.org/2000/svg\" height=\"24px\"viewBox=\"0 0 24 24\"\n",
              "       width=\"24px\">\n",
              "    <path d=\"M0 0h24v24H0V0z\" fill=\"none\"/>\n",
              "    <path d=\"M18.56 5.44l.94 2.06.94-2.06 2.06-.94-2.06-.94-.94-2.06-.94 2.06-2.06.94zm-11 1L8.5 8.5l.94-2.06 2.06-.94-2.06-.94L8.5 2.5l-.94 2.06-2.06.94zm10 10l.94 2.06.94-2.06 2.06-.94-2.06-.94-.94-2.06-.94 2.06-2.06.94z\"/><path d=\"M17.41 7.96l-1.37-1.37c-.4-.4-.92-.59-1.43-.59-.52 0-1.04.2-1.43.59L10.3 9.45l-7.72 7.72c-.78.78-.78 2.05 0 2.83L4 21.41c.39.39.9.59 1.41.59.51 0 1.02-.2 1.41-.59l7.78-7.78 2.81-2.81c.8-.78.8-2.07 0-2.86zM5.41 20L4 18.59l7.72-7.72 1.47 1.35L5.41 20z\"/>\n",
              "  </svg>\n",
              "      </button>\n",
              "      \n",
              "  <style>\n",
              "    .colab-df-container {\n",
              "      display:flex;\n",
              "      flex-wrap:wrap;\n",
              "      gap: 12px;\n",
              "    }\n",
              "\n",
              "    .colab-df-convert {\n",
              "      background-color: #E8F0FE;\n",
              "      border: none;\n",
              "      border-radius: 50%;\n",
              "      cursor: pointer;\n",
              "      display: none;\n",
              "      fill: #1967D2;\n",
              "      height: 32px;\n",
              "      padding: 0 0 0 0;\n",
              "      width: 32px;\n",
              "    }\n",
              "\n",
              "    .colab-df-convert:hover {\n",
              "      background-color: #E2EBFA;\n",
              "      box-shadow: 0px 1px 2px rgba(60, 64, 67, 0.3), 0px 1px 3px 1px rgba(60, 64, 67, 0.15);\n",
              "      fill: #174EA6;\n",
              "    }\n",
              "\n",
              "    [theme=dark] .colab-df-convert {\n",
              "      background-color: #3B4455;\n",
              "      fill: #D2E3FC;\n",
              "    }\n",
              "\n",
              "    [theme=dark] .colab-df-convert:hover {\n",
              "      background-color: #434B5C;\n",
              "      box-shadow: 0px 1px 3px 1px rgba(0, 0, 0, 0.15);\n",
              "      filter: drop-shadow(0px 1px 2px rgba(0, 0, 0, 0.3));\n",
              "      fill: #FFFFFF;\n",
              "    }\n",
              "  </style>\n",
              "\n",
              "      <script>\n",
              "        const buttonEl =\n",
              "          document.querySelector('#df-b435e0bf-dfef-4716-ad9e-a391bed8abc9 button.colab-df-convert');\n",
              "        buttonEl.style.display =\n",
              "          google.colab.kernel.accessAllowed ? 'block' : 'none';\n",
              "\n",
              "        async function convertToInteractive(key) {\n",
              "          const element = document.querySelector('#df-b435e0bf-dfef-4716-ad9e-a391bed8abc9');\n",
              "          const dataTable =\n",
              "            await google.colab.kernel.invokeFunction('convertToInteractive',\n",
              "                                                     [key], {});\n",
              "          if (!dataTable) return;\n",
              "\n",
              "          const docLinkHtml = 'Like what you see? Visit the ' +\n",
              "            '<a target=\"_blank\" href=https://colab.research.google.com/notebooks/data_table.ipynb>data table notebook</a>'\n",
              "            + ' to learn more about interactive tables.';\n",
              "          element.innerHTML = '';\n",
              "          dataTable['output_type'] = 'display_data';\n",
              "          await google.colab.output.renderOutput(dataTable, element);\n",
              "          const docLink = document.createElement('div');\n",
              "          docLink.innerHTML = docLinkHtml;\n",
              "          element.appendChild(docLink);\n",
              "        }\n",
              "      </script>\n",
              "    </div>\n",
              "  </div>\n",
              "  "
            ],
            "text/plain": [
              "  ClaimNumber  ... UltimateIncurredClaimCost\n",
              "0   WC8205482  ...               4748.203388\n",
              "1   WC6922469  ...               6326.285819\n",
              "2   WC5442654  ...               2293.949087\n",
              "3   WC9796897  ...              17786.487170\n",
              "4   WC2603726  ...               4014.002925\n",
              "\n",
              "[5 rows x 15 columns]"
            ]
          },
          "metadata": {},
          "execution_count": 96
        }
      ]
    },
    {
      "cell_type": "markdown",
      "metadata": {
        "id": "ZBwLYis_Hxx-"
      },
      "source": [
        "The training set containing 30,000 insurance policies that you can use to train your model.\n",
        "\n",
        "**Data fields**\n",
        "\n",
        "-  ClaimNumber: Unique policy identifier\n",
        "- DateTimeOfAccident: Date and time of accident\n",
        "- DateReported: Date that accident was reported\n",
        "- Age: Age of worker\n",
        "- Gender: Gender of worker\n",
        "- MaritalStatus: Martial status of worker. (M)arried, (S)ingle, (U)unknown.\n",
        "- DependentChildren: The number of dependent children\n",
        "- DependentsOther: The number of dependants excluding children\n",
        "- WeeklyWages: Total weekly wage\n",
        "- PartTimeFullTime: Binary (P) or (F)\n",
        "- HoursWorkedPerWeek: Total hours worked per week\n",
        "- DaysWorkedPerWeek: Number of days worked per week\n",
        "- ClaimDescription: Free text description of the claim\n",
        "- InitialIncurredClaimCost: Initial estimate by the insurer of the claim cost\n",
        "- **UltimateIncurredClaimCost**: Total claims payments by the insurance company. This is the field you are asked to predict in the test set."
      ]
    },
    {
      "cell_type": "code",
      "metadata": {
        "colab": {
          "base_uri": "https://localhost:8080/"
        },
        "id": "xo8mIxNfG1QI",
        "outputId": "cd3334a9-b83b-47d2-de46-a3ccb309425b"
      },
      "source": [
        "df.columns"
      ],
      "execution_count": 97,
      "outputs": [
        {
          "output_type": "execute_result",
          "data": {
            "text/plain": [
              "Index(['ClaimNumber', 'DateTimeOfAccident', 'DateReported', 'Age', 'Gender',\n",
              "       'MaritalStatus', 'DependentChildren', 'DependentsOther', 'WeeklyWages',\n",
              "       'PartTimeFullTime', 'HoursWorkedPerWeek', 'DaysWorkedPerWeek',\n",
              "       'ClaimDescription', 'InitialIncurredCalimsCost',\n",
              "       'UltimateIncurredClaimCost'],\n",
              "      dtype='object')"
            ]
          },
          "metadata": {},
          "execution_count": 97
        }
      ]
    },
    {
      "cell_type": "code",
      "metadata": {
        "colab": {
          "base_uri": "https://localhost:8080/",
          "height": 477
        },
        "id": "7lLOI06NI-RP",
        "outputId": "54223564-fbef-43e4-96e2-031e6acac44f"
      },
      "source": [
        "df.head()"
      ],
      "execution_count": 98,
      "outputs": [
        {
          "output_type": "execute_result",
          "data": {
            "text/html": [
              "\n",
              "  <div id=\"df-a95a0a91-1e44-40ca-a524-3e34d4554ff3\">\n",
              "    <div class=\"colab-df-container\">\n",
              "      <div>\n",
              "<style scoped>\n",
              "    .dataframe tbody tr th:only-of-type {\n",
              "        vertical-align: middle;\n",
              "    }\n",
              "\n",
              "    .dataframe tbody tr th {\n",
              "        vertical-align: top;\n",
              "    }\n",
              "\n",
              "    .dataframe thead th {\n",
              "        text-align: right;\n",
              "    }\n",
              "</style>\n",
              "<table border=\"1\" class=\"dataframe\">\n",
              "  <thead>\n",
              "    <tr style=\"text-align: right;\">\n",
              "      <th></th>\n",
              "      <th>ClaimNumber</th>\n",
              "      <th>DateTimeOfAccident</th>\n",
              "      <th>DateReported</th>\n",
              "      <th>Age</th>\n",
              "      <th>Gender</th>\n",
              "      <th>MaritalStatus</th>\n",
              "      <th>DependentChildren</th>\n",
              "      <th>DependentsOther</th>\n",
              "      <th>WeeklyWages</th>\n",
              "      <th>PartTimeFullTime</th>\n",
              "      <th>HoursWorkedPerWeek</th>\n",
              "      <th>DaysWorkedPerWeek</th>\n",
              "      <th>ClaimDescription</th>\n",
              "      <th>InitialIncurredCalimsCost</th>\n",
              "      <th>UltimateIncurredClaimCost</th>\n",
              "    </tr>\n",
              "  </thead>\n",
              "  <tbody>\n",
              "    <tr>\n",
              "      <th>0</th>\n",
              "      <td>WC8205482</td>\n",
              "      <td>2002-04-09T07:00:00Z</td>\n",
              "      <td>2002-07-05T00:00:00Z</td>\n",
              "      <td>48</td>\n",
              "      <td>M</td>\n",
              "      <td>M</td>\n",
              "      <td>0</td>\n",
              "      <td>0</td>\n",
              "      <td>500.00</td>\n",
              "      <td>F</td>\n",
              "      <td>38.0</td>\n",
              "      <td>5</td>\n",
              "      <td>LIFTING TYRE INJURY TO RIGHT ARM AND WRIST INJURY</td>\n",
              "      <td>1500</td>\n",
              "      <td>4748.203388</td>\n",
              "    </tr>\n",
              "    <tr>\n",
              "      <th>1</th>\n",
              "      <td>WC6922469</td>\n",
              "      <td>1999-01-07T11:00:00Z</td>\n",
              "      <td>1999-01-20T00:00:00Z</td>\n",
              "      <td>43</td>\n",
              "      <td>F</td>\n",
              "      <td>M</td>\n",
              "      <td>0</td>\n",
              "      <td>0</td>\n",
              "      <td>509.34</td>\n",
              "      <td>F</td>\n",
              "      <td>37.5</td>\n",
              "      <td>5</td>\n",
              "      <td>STEPPED AROUND CRATES AND TRUCK TRAY FRACTURE ...</td>\n",
              "      <td>5500</td>\n",
              "      <td>6326.285819</td>\n",
              "    </tr>\n",
              "    <tr>\n",
              "      <th>2</th>\n",
              "      <td>WC5442654</td>\n",
              "      <td>1996-03-25T00:00:00Z</td>\n",
              "      <td>1996-04-14T00:00:00Z</td>\n",
              "      <td>30</td>\n",
              "      <td>M</td>\n",
              "      <td>U</td>\n",
              "      <td>0</td>\n",
              "      <td>0</td>\n",
              "      <td>709.10</td>\n",
              "      <td>F</td>\n",
              "      <td>38.0</td>\n",
              "      <td>5</td>\n",
              "      <td>CUT ON SHARP EDGE CUT LEFT THUMB</td>\n",
              "      <td>1700</td>\n",
              "      <td>2293.949087</td>\n",
              "    </tr>\n",
              "    <tr>\n",
              "      <th>3</th>\n",
              "      <td>WC9796897</td>\n",
              "      <td>2005-06-22T13:00:00Z</td>\n",
              "      <td>2005-07-22T00:00:00Z</td>\n",
              "      <td>41</td>\n",
              "      <td>M</td>\n",
              "      <td>S</td>\n",
              "      <td>0</td>\n",
              "      <td>0</td>\n",
              "      <td>555.46</td>\n",
              "      <td>F</td>\n",
              "      <td>38.0</td>\n",
              "      <td>5</td>\n",
              "      <td>DIGGING LOWER BACK LOWER BACK STRAIN</td>\n",
              "      <td>15000</td>\n",
              "      <td>17786.487170</td>\n",
              "    </tr>\n",
              "    <tr>\n",
              "      <th>4</th>\n",
              "      <td>WC2603726</td>\n",
              "      <td>1990-08-29T08:00:00Z</td>\n",
              "      <td>1990-09-27T00:00:00Z</td>\n",
              "      <td>36</td>\n",
              "      <td>M</td>\n",
              "      <td>M</td>\n",
              "      <td>0</td>\n",
              "      <td>0</td>\n",
              "      <td>377.10</td>\n",
              "      <td>F</td>\n",
              "      <td>38.0</td>\n",
              "      <td>5</td>\n",
              "      <td>REACHING ABOVE SHOULDER LEVEL ACUTE MUSCLE STR...</td>\n",
              "      <td>2800</td>\n",
              "      <td>4014.002925</td>\n",
              "    </tr>\n",
              "  </tbody>\n",
              "</table>\n",
              "</div>\n",
              "      <button class=\"colab-df-convert\" onclick=\"convertToInteractive('df-a95a0a91-1e44-40ca-a524-3e34d4554ff3')\"\n",
              "              title=\"Convert this dataframe to an interactive table.\"\n",
              "              style=\"display:none;\">\n",
              "        \n",
              "  <svg xmlns=\"http://www.w3.org/2000/svg\" height=\"24px\"viewBox=\"0 0 24 24\"\n",
              "       width=\"24px\">\n",
              "    <path d=\"M0 0h24v24H0V0z\" fill=\"none\"/>\n",
              "    <path d=\"M18.56 5.44l.94 2.06.94-2.06 2.06-.94-2.06-.94-.94-2.06-.94 2.06-2.06.94zm-11 1L8.5 8.5l.94-2.06 2.06-.94-2.06-.94L8.5 2.5l-.94 2.06-2.06.94zm10 10l.94 2.06.94-2.06 2.06-.94-2.06-.94-.94-2.06-.94 2.06-2.06.94z\"/><path d=\"M17.41 7.96l-1.37-1.37c-.4-.4-.92-.59-1.43-.59-.52 0-1.04.2-1.43.59L10.3 9.45l-7.72 7.72c-.78.78-.78 2.05 0 2.83L4 21.41c.39.39.9.59 1.41.59.51 0 1.02-.2 1.41-.59l7.78-7.78 2.81-2.81c.8-.78.8-2.07 0-2.86zM5.41 20L4 18.59l7.72-7.72 1.47 1.35L5.41 20z\"/>\n",
              "  </svg>\n",
              "      </button>\n",
              "      \n",
              "  <style>\n",
              "    .colab-df-container {\n",
              "      display:flex;\n",
              "      flex-wrap:wrap;\n",
              "      gap: 12px;\n",
              "    }\n",
              "\n",
              "    .colab-df-convert {\n",
              "      background-color: #E8F0FE;\n",
              "      border: none;\n",
              "      border-radius: 50%;\n",
              "      cursor: pointer;\n",
              "      display: none;\n",
              "      fill: #1967D2;\n",
              "      height: 32px;\n",
              "      padding: 0 0 0 0;\n",
              "      width: 32px;\n",
              "    }\n",
              "\n",
              "    .colab-df-convert:hover {\n",
              "      background-color: #E2EBFA;\n",
              "      box-shadow: 0px 1px 2px rgba(60, 64, 67, 0.3), 0px 1px 3px 1px rgba(60, 64, 67, 0.15);\n",
              "      fill: #174EA6;\n",
              "    }\n",
              "\n",
              "    [theme=dark] .colab-df-convert {\n",
              "      background-color: #3B4455;\n",
              "      fill: #D2E3FC;\n",
              "    }\n",
              "\n",
              "    [theme=dark] .colab-df-convert:hover {\n",
              "      background-color: #434B5C;\n",
              "      box-shadow: 0px 1px 3px 1px rgba(0, 0, 0, 0.15);\n",
              "      filter: drop-shadow(0px 1px 2px rgba(0, 0, 0, 0.3));\n",
              "      fill: #FFFFFF;\n",
              "    }\n",
              "  </style>\n",
              "\n",
              "      <script>\n",
              "        const buttonEl =\n",
              "          document.querySelector('#df-a95a0a91-1e44-40ca-a524-3e34d4554ff3 button.colab-df-convert');\n",
              "        buttonEl.style.display =\n",
              "          google.colab.kernel.accessAllowed ? 'block' : 'none';\n",
              "\n",
              "        async function convertToInteractive(key) {\n",
              "          const element = document.querySelector('#df-a95a0a91-1e44-40ca-a524-3e34d4554ff3');\n",
              "          const dataTable =\n",
              "            await google.colab.kernel.invokeFunction('convertToInteractive',\n",
              "                                                     [key], {});\n",
              "          if (!dataTable) return;\n",
              "\n",
              "          const docLinkHtml = 'Like what you see? Visit the ' +\n",
              "            '<a target=\"_blank\" href=https://colab.research.google.com/notebooks/data_table.ipynb>data table notebook</a>'\n",
              "            + ' to learn more about interactive tables.';\n",
              "          element.innerHTML = '';\n",
              "          dataTable['output_type'] = 'display_data';\n",
              "          await google.colab.output.renderOutput(dataTable, element);\n",
              "          const docLink = document.createElement('div');\n",
              "          docLink.innerHTML = docLinkHtml;\n",
              "          element.appendChild(docLink);\n",
              "        }\n",
              "      </script>\n",
              "    </div>\n",
              "  </div>\n",
              "  "
            ],
            "text/plain": [
              "  ClaimNumber  ... UltimateIncurredClaimCost\n",
              "0   WC8205482  ...               4748.203388\n",
              "1   WC6922469  ...               6326.285819\n",
              "2   WC5442654  ...               2293.949087\n",
              "3   WC9796897  ...              17786.487170\n",
              "4   WC2603726  ...               4014.002925\n",
              "\n",
              "[5 rows x 15 columns]"
            ]
          },
          "metadata": {},
          "execution_count": 98
        }
      ]
    },
    {
      "cell_type": "markdown",
      "metadata": {
        "id": "2FXmzPmmIQZY"
      },
      "source": [
        "## Preprocessing\n",
        "\n",
        "We transform the data in order to allow us the posterior use of the algorithms to build prediction models, for example, missing values, from categories to numbers, ...\n",
        "\n"
      ]
    },
    {
      "cell_type": "markdown",
      "source": [
        "####Descriptive statistics using describe funtion\n"
      ],
      "metadata": {
        "id": "gjKNx_c01iZU"
      }
    },
    {
      "cell_type": "code",
      "source": [
        "df.describe()"
      ],
      "metadata": {
        "id": "tcZo5kvf1ccn",
        "outputId": "b98fedd9-a78b-48b3-a9f9-ab403841ab58",
        "colab": {
          "base_uri": "https://localhost:8080/",
          "height": 349
        }
      },
      "execution_count": 118,
      "outputs": [
        {
          "output_type": "execute_result",
          "data": {
            "text/html": [
              "\n",
              "  <div id=\"df-8b2cf368-89fb-46ab-bf80-fa77f3f33dc5\">\n",
              "    <div class=\"colab-df-container\">\n",
              "      <div>\n",
              "<style scoped>\n",
              "    .dataframe tbody tr th:only-of-type {\n",
              "        vertical-align: middle;\n",
              "    }\n",
              "\n",
              "    .dataframe tbody tr th {\n",
              "        vertical-align: top;\n",
              "    }\n",
              "\n",
              "    .dataframe thead th {\n",
              "        text-align: right;\n",
              "    }\n",
              "</style>\n",
              "<table border=\"1\" class=\"dataframe\">\n",
              "  <thead>\n",
              "    <tr style=\"text-align: right;\">\n",
              "      <th></th>\n",
              "      <th>Age</th>\n",
              "      <th>DependentChildren</th>\n",
              "      <th>DependentsOther</th>\n",
              "      <th>WeeklyWages</th>\n",
              "      <th>HoursWorkedPerWeek</th>\n",
              "      <th>DaysWorkedPerWeek</th>\n",
              "      <th>InitialIncurredCalimsCost</th>\n",
              "      <th>UltimateIncurredClaimCost</th>\n",
              "    </tr>\n",
              "  </thead>\n",
              "  <tbody>\n",
              "    <tr>\n",
              "      <th>count</th>\n",
              "      <td>36049.000000</td>\n",
              "      <td>36049.000000</td>\n",
              "      <td>36049.000000</td>\n",
              "      <td>36049.000000</td>\n",
              "      <td>36049.000000</td>\n",
              "      <td>36049.000000</td>\n",
              "      <td>36049.000000</td>\n",
              "      <td>3.604900e+04</td>\n",
              "    </tr>\n",
              "    <tr>\n",
              "      <th>mean</th>\n",
              "      <td>33.793781</td>\n",
              "      <td>0.121279</td>\n",
              "      <td>0.009570</td>\n",
              "      <td>416.450612</td>\n",
              "      <td>37.766010</td>\n",
              "      <td>4.905684</td>\n",
              "      <td>7749.943993</td>\n",
              "      <td>1.096396e+04</td>\n",
              "    </tr>\n",
              "    <tr>\n",
              "      <th>std</th>\n",
              "      <td>12.117152</td>\n",
              "      <td>0.525212</td>\n",
              "      <td>0.106348</td>\n",
              "      <td>243.985721</td>\n",
              "      <td>12.505018</td>\n",
              "      <td>0.547290</td>\n",
              "      <td>18236.222960</td>\n",
              "      <td>3.534762e+04</td>\n",
              "    </tr>\n",
              "    <tr>\n",
              "      <th>min</th>\n",
              "      <td>13.000000</td>\n",
              "      <td>0.000000</td>\n",
              "      <td>0.000000</td>\n",
              "      <td>1.000000</td>\n",
              "      <td>0.000000</td>\n",
              "      <td>1.000000</td>\n",
              "      <td>1.000000</td>\n",
              "      <td>1.218868e+02</td>\n",
              "    </tr>\n",
              "    <tr>\n",
              "      <th>25%</th>\n",
              "      <td>23.000000</td>\n",
              "      <td>0.000000</td>\n",
              "      <td>0.000000</td>\n",
              "      <td>200.000000</td>\n",
              "      <td>38.000000</td>\n",
              "      <td>5.000000</td>\n",
              "      <td>700.000000</td>\n",
              "      <td>9.268274e+02</td>\n",
              "    </tr>\n",
              "    <tr>\n",
              "      <th>50%</th>\n",
              "      <td>32.000000</td>\n",
              "      <td>0.000000</td>\n",
              "      <td>0.000000</td>\n",
              "      <td>393.300000</td>\n",
              "      <td>38.000000</td>\n",
              "      <td>5.000000</td>\n",
              "      <td>2000.000000</td>\n",
              "      <td>3.373446e+03</td>\n",
              "    </tr>\n",
              "    <tr>\n",
              "      <th>75%</th>\n",
              "      <td>43.000000</td>\n",
              "      <td>0.000000</td>\n",
              "      <td>0.000000</td>\n",
              "      <td>500.000000</td>\n",
              "      <td>40.000000</td>\n",
              "      <td>5.000000</td>\n",
              "      <td>9500.000000</td>\n",
              "      <td>8.192168e+03</td>\n",
              "    </tr>\n",
              "    <tr>\n",
              "      <th>max</th>\n",
              "      <td>79.000000</td>\n",
              "      <td>9.000000</td>\n",
              "      <td>3.000000</td>\n",
              "      <td>7497.000000</td>\n",
              "      <td>640.000000</td>\n",
              "      <td>7.000000</td>\n",
              "      <td>830000.000000</td>\n",
              "      <td>4.027136e+06</td>\n",
              "    </tr>\n",
              "  </tbody>\n",
              "</table>\n",
              "</div>\n",
              "      <button class=\"colab-df-convert\" onclick=\"convertToInteractive('df-8b2cf368-89fb-46ab-bf80-fa77f3f33dc5')\"\n",
              "              title=\"Convert this dataframe to an interactive table.\"\n",
              "              style=\"display:none;\">\n",
              "        \n",
              "  <svg xmlns=\"http://www.w3.org/2000/svg\" height=\"24px\"viewBox=\"0 0 24 24\"\n",
              "       width=\"24px\">\n",
              "    <path d=\"M0 0h24v24H0V0z\" fill=\"none\"/>\n",
              "    <path d=\"M18.56 5.44l.94 2.06.94-2.06 2.06-.94-2.06-.94-.94-2.06-.94 2.06-2.06.94zm-11 1L8.5 8.5l.94-2.06 2.06-.94-2.06-.94L8.5 2.5l-.94 2.06-2.06.94zm10 10l.94 2.06.94-2.06 2.06-.94-2.06-.94-.94-2.06-.94 2.06-2.06.94z\"/><path d=\"M17.41 7.96l-1.37-1.37c-.4-.4-.92-.59-1.43-.59-.52 0-1.04.2-1.43.59L10.3 9.45l-7.72 7.72c-.78.78-.78 2.05 0 2.83L4 21.41c.39.39.9.59 1.41.59.51 0 1.02-.2 1.41-.59l7.78-7.78 2.81-2.81c.8-.78.8-2.07 0-2.86zM5.41 20L4 18.59l7.72-7.72 1.47 1.35L5.41 20z\"/>\n",
              "  </svg>\n",
              "      </button>\n",
              "      \n",
              "  <style>\n",
              "    .colab-df-container {\n",
              "      display:flex;\n",
              "      flex-wrap:wrap;\n",
              "      gap: 12px;\n",
              "    }\n",
              "\n",
              "    .colab-df-convert {\n",
              "      background-color: #E8F0FE;\n",
              "      border: none;\n",
              "      border-radius: 50%;\n",
              "      cursor: pointer;\n",
              "      display: none;\n",
              "      fill: #1967D2;\n",
              "      height: 32px;\n",
              "      padding: 0 0 0 0;\n",
              "      width: 32px;\n",
              "    }\n",
              "\n",
              "    .colab-df-convert:hover {\n",
              "      background-color: #E2EBFA;\n",
              "      box-shadow: 0px 1px 2px rgba(60, 64, 67, 0.3), 0px 1px 3px 1px rgba(60, 64, 67, 0.15);\n",
              "      fill: #174EA6;\n",
              "    }\n",
              "\n",
              "    [theme=dark] .colab-df-convert {\n",
              "      background-color: #3B4455;\n",
              "      fill: #D2E3FC;\n",
              "    }\n",
              "\n",
              "    [theme=dark] .colab-df-convert:hover {\n",
              "      background-color: #434B5C;\n",
              "      box-shadow: 0px 1px 3px 1px rgba(0, 0, 0, 0.15);\n",
              "      filter: drop-shadow(0px 1px 2px rgba(0, 0, 0, 0.3));\n",
              "      fill: #FFFFFF;\n",
              "    }\n",
              "  </style>\n",
              "\n",
              "      <script>\n",
              "        const buttonEl =\n",
              "          document.querySelector('#df-8b2cf368-89fb-46ab-bf80-fa77f3f33dc5 button.colab-df-convert');\n",
              "        buttonEl.style.display =\n",
              "          google.colab.kernel.accessAllowed ? 'block' : 'none';\n",
              "\n",
              "        async function convertToInteractive(key) {\n",
              "          const element = document.querySelector('#df-8b2cf368-89fb-46ab-bf80-fa77f3f33dc5');\n",
              "          const dataTable =\n",
              "            await google.colab.kernel.invokeFunction('convertToInteractive',\n",
              "                                                     [key], {});\n",
              "          if (!dataTable) return;\n",
              "\n",
              "          const docLinkHtml = 'Like what you see? Visit the ' +\n",
              "            '<a target=\"_blank\" href=https://colab.research.google.com/notebooks/data_table.ipynb>data table notebook</a>'\n",
              "            + ' to learn more about interactive tables.';\n",
              "          element.innerHTML = '';\n",
              "          dataTable['output_type'] = 'display_data';\n",
              "          await google.colab.output.renderOutput(dataTable, element);\n",
              "          const docLink = document.createElement('div');\n",
              "          docLink.innerHTML = docLinkHtml;\n",
              "          element.appendChild(docLink);\n",
              "        }\n",
              "      </script>\n",
              "    </div>\n",
              "  </div>\n",
              "  "
            ],
            "text/plain": [
              "                Age  ...  UltimateIncurredClaimCost\n",
              "count  36049.000000  ...               3.604900e+04\n",
              "mean      33.793781  ...               1.096396e+04\n",
              "std       12.117152  ...               3.534762e+04\n",
              "min       13.000000  ...               1.218868e+02\n",
              "25%       23.000000  ...               9.268274e+02\n",
              "50%       32.000000  ...               3.373446e+03\n",
              "75%       43.000000  ...               8.192168e+03\n",
              "max       79.000000  ...               4.027136e+06\n",
              "\n",
              "[8 rows x 8 columns]"
            ]
          },
          "metadata": {},
          "execution_count": 118
        }
      ]
    },
    {
      "cell_type": "markdown",
      "metadata": {
        "id": "rNrdJPQzxQlr"
      },
      "source": [
        "### Missing Values"
      ]
    },
    {
      "cell_type": "code",
      "metadata": {
        "colab": {
          "base_uri": "https://localhost:8080/"
        },
        "id": "iI2ncaH7w5Z_",
        "outputId": "b7241de2-814f-4246-fd2c-6e6b72dc2779"
      },
      "source": [
        "df.shape"
      ],
      "execution_count": 99,
      "outputs": [
        {
          "output_type": "execute_result",
          "data": {
            "text/plain": [
              "(36176, 15)"
            ]
          },
          "metadata": {},
          "execution_count": 99
        }
      ]
    },
    {
      "cell_type": "code",
      "metadata": {
        "colab": {
          "base_uri": "https://localhost:8080/"
        },
        "id": "Sm17UcXKwt2Z",
        "outputId": "beefc88e-e2f9-4939-d845-c1fcedf4cff5"
      },
      "source": [
        "pd.isnull(df).any()"
      ],
      "execution_count": 100,
      "outputs": [
        {
          "output_type": "execute_result",
          "data": {
            "text/plain": [
              "ClaimNumber                  False\n",
              "DateTimeOfAccident           False\n",
              "DateReported                 False\n",
              "Age                          False\n",
              "Gender                       False\n",
              "MaritalStatus                 True\n",
              "DependentChildren            False\n",
              "DependentsOther              False\n",
              "WeeklyWages                   True\n",
              "PartTimeFullTime             False\n",
              "HoursWorkedPerWeek            True\n",
              "DaysWorkedPerWeek            False\n",
              "ClaimDescription             False\n",
              "InitialIncurredCalimsCost    False\n",
              "UltimateIncurredClaimCost    False\n",
              "dtype: bool"
            ]
          },
          "metadata": {},
          "execution_count": 100
        }
      ]
    },
    {
      "cell_type": "code",
      "metadata": {
        "id": "g6UCt-5Nw8LD"
      },
      "source": [
        "df.dropna(axis=0, how='any', thresh=None, subset=None, inplace=True)"
      ],
      "execution_count": 101,
      "outputs": []
    },
    {
      "cell_type": "code",
      "metadata": {
        "colab": {
          "base_uri": "https://localhost:8080/"
        },
        "id": "Q3NBTGXQxMKj",
        "outputId": "24d1b676-ac24-4af8-a361-c36a9ca63d04"
      },
      "source": [
        "df.shape"
      ],
      "execution_count": 102,
      "outputs": [
        {
          "output_type": "execute_result",
          "data": {
            "text/plain": [
              "(36049, 15)"
            ]
          },
          "metadata": {},
          "execution_count": 102
        }
      ]
    },
    {
      "cell_type": "markdown",
      "source": [
        "To find a concise summary of the dataframe we use info function "
      ],
      "metadata": {
        "id": "UmvZDqGLybCQ"
      }
    },
    {
      "cell_type": "code",
      "source": [
        "df.info()"
      ],
      "metadata": {
        "id": "SNuakf8eymBK",
        "outputId": "c043233d-32b1-4b5f-9e16-f55f886c8405",
        "colab": {
          "base_uri": "https://localhost:8080/"
        }
      },
      "execution_count": 103,
      "outputs": [
        {
          "output_type": "stream",
          "name": "stdout",
          "text": [
            "<class 'pandas.core.frame.DataFrame'>\n",
            "Int64Index: 36049 entries, 0 to 36175\n",
            "Data columns (total 15 columns):\n",
            " #   Column                     Non-Null Count  Dtype  \n",
            "---  ------                     --------------  -----  \n",
            " 0   ClaimNumber                36049 non-null  object \n",
            " 1   DateTimeOfAccident         36049 non-null  object \n",
            " 2   DateReported               36049 non-null  object \n",
            " 3   Age                        36049 non-null  int64  \n",
            " 4   Gender                     36049 non-null  object \n",
            " 5   MaritalStatus              36049 non-null  object \n",
            " 6   DependentChildren          36049 non-null  int64  \n",
            " 7   DependentsOther            36049 non-null  int64  \n",
            " 8   WeeklyWages                36049 non-null  float64\n",
            " 9   PartTimeFullTime           36049 non-null  object \n",
            " 10  HoursWorkedPerWeek         36049 non-null  float64\n",
            " 11  DaysWorkedPerWeek          36049 non-null  int64  \n",
            " 12  ClaimDescription           36049 non-null  object \n",
            " 13  InitialIncurredCalimsCost  36049 non-null  int64  \n",
            " 14  UltimateIncurredClaimCost  36049 non-null  float64\n",
            "dtypes: float64(3), int64(5), object(7)\n",
            "memory usage: 4.4+ MB\n"
          ]
        }
      ]
    },
    {
      "cell_type": "markdown",
      "metadata": {
        "id": "-QBuZHrztPli"
      },
      "source": [
        "### OneHotEncoding \n",
        "\n",
        "[OneHotEncoding](https://scikit-learn.org/stable/modules/generated/sklearn.preprocessing.OneHotEncoder.html)"
      ]
    },
    {
      "cell_type": "code",
      "metadata": {
        "colab": {
          "base_uri": "https://localhost:8080/",
          "height": 419
        },
        "id": "uBo2_XBEKxgn",
        "outputId": "fa27d7c5-081d-415e-c203-b6394786821d"
      },
      "source": [
        "df_OneHot = pd.get_dummies(df[['Gender','MaritalStatus', 'PartTimeFullTime']])\n",
        "df_OneHot"
      ],
      "execution_count": 104,
      "outputs": [
        {
          "output_type": "execute_result",
          "data": {
            "text/html": [
              "\n",
              "  <div id=\"df-7a57ac3e-f3ae-45ed-bdff-2edba8f8bcc5\">\n",
              "    <div class=\"colab-df-container\">\n",
              "      <div>\n",
              "<style scoped>\n",
              "    .dataframe tbody tr th:only-of-type {\n",
              "        vertical-align: middle;\n",
              "    }\n",
              "\n",
              "    .dataframe tbody tr th {\n",
              "        vertical-align: top;\n",
              "    }\n",
              "\n",
              "    .dataframe thead th {\n",
              "        text-align: right;\n",
              "    }\n",
              "</style>\n",
              "<table border=\"1\" class=\"dataframe\">\n",
              "  <thead>\n",
              "    <tr style=\"text-align: right;\">\n",
              "      <th></th>\n",
              "      <th>Gender_F</th>\n",
              "      <th>Gender_M</th>\n",
              "      <th>Gender_U</th>\n",
              "      <th>MaritalStatus_M</th>\n",
              "      <th>MaritalStatus_S</th>\n",
              "      <th>MaritalStatus_U</th>\n",
              "      <th>PartTimeFullTime_F</th>\n",
              "      <th>PartTimeFullTime_P</th>\n",
              "    </tr>\n",
              "  </thead>\n",
              "  <tbody>\n",
              "    <tr>\n",
              "      <th>0</th>\n",
              "      <td>0</td>\n",
              "      <td>1</td>\n",
              "      <td>0</td>\n",
              "      <td>1</td>\n",
              "      <td>0</td>\n",
              "      <td>0</td>\n",
              "      <td>1</td>\n",
              "      <td>0</td>\n",
              "    </tr>\n",
              "    <tr>\n",
              "      <th>1</th>\n",
              "      <td>1</td>\n",
              "      <td>0</td>\n",
              "      <td>0</td>\n",
              "      <td>1</td>\n",
              "      <td>0</td>\n",
              "      <td>0</td>\n",
              "      <td>1</td>\n",
              "      <td>0</td>\n",
              "    </tr>\n",
              "    <tr>\n",
              "      <th>2</th>\n",
              "      <td>0</td>\n",
              "      <td>1</td>\n",
              "      <td>0</td>\n",
              "      <td>0</td>\n",
              "      <td>0</td>\n",
              "      <td>1</td>\n",
              "      <td>1</td>\n",
              "      <td>0</td>\n",
              "    </tr>\n",
              "    <tr>\n",
              "      <th>3</th>\n",
              "      <td>0</td>\n",
              "      <td>1</td>\n",
              "      <td>0</td>\n",
              "      <td>0</td>\n",
              "      <td>1</td>\n",
              "      <td>0</td>\n",
              "      <td>1</td>\n",
              "      <td>0</td>\n",
              "    </tr>\n",
              "    <tr>\n",
              "      <th>4</th>\n",
              "      <td>0</td>\n",
              "      <td>1</td>\n",
              "      <td>0</td>\n",
              "      <td>1</td>\n",
              "      <td>0</td>\n",
              "      <td>0</td>\n",
              "      <td>1</td>\n",
              "      <td>0</td>\n",
              "    </tr>\n",
              "    <tr>\n",
              "      <th>...</th>\n",
              "      <td>...</td>\n",
              "      <td>...</td>\n",
              "      <td>...</td>\n",
              "      <td>...</td>\n",
              "      <td>...</td>\n",
              "      <td>...</td>\n",
              "      <td>...</td>\n",
              "      <td>...</td>\n",
              "    </tr>\n",
              "    <tr>\n",
              "      <th>36171</th>\n",
              "      <td>1</td>\n",
              "      <td>0</td>\n",
              "      <td>0</td>\n",
              "      <td>0</td>\n",
              "      <td>1</td>\n",
              "      <td>0</td>\n",
              "      <td>1</td>\n",
              "      <td>0</td>\n",
              "    </tr>\n",
              "    <tr>\n",
              "      <th>36172</th>\n",
              "      <td>0</td>\n",
              "      <td>1</td>\n",
              "      <td>0</td>\n",
              "      <td>1</td>\n",
              "      <td>0</td>\n",
              "      <td>0</td>\n",
              "      <td>1</td>\n",
              "      <td>0</td>\n",
              "    </tr>\n",
              "    <tr>\n",
              "      <th>36173</th>\n",
              "      <td>1</td>\n",
              "      <td>0</td>\n",
              "      <td>0</td>\n",
              "      <td>1</td>\n",
              "      <td>0</td>\n",
              "      <td>0</td>\n",
              "      <td>0</td>\n",
              "      <td>1</td>\n",
              "    </tr>\n",
              "    <tr>\n",
              "      <th>36174</th>\n",
              "      <td>0</td>\n",
              "      <td>1</td>\n",
              "      <td>0</td>\n",
              "      <td>1</td>\n",
              "      <td>0</td>\n",
              "      <td>0</td>\n",
              "      <td>1</td>\n",
              "      <td>0</td>\n",
              "    </tr>\n",
              "    <tr>\n",
              "      <th>36175</th>\n",
              "      <td>0</td>\n",
              "      <td>1</td>\n",
              "      <td>0</td>\n",
              "      <td>0</td>\n",
              "      <td>1</td>\n",
              "      <td>0</td>\n",
              "      <td>1</td>\n",
              "      <td>0</td>\n",
              "    </tr>\n",
              "  </tbody>\n",
              "</table>\n",
              "<p>36049 rows × 8 columns</p>\n",
              "</div>\n",
              "      <button class=\"colab-df-convert\" onclick=\"convertToInteractive('df-7a57ac3e-f3ae-45ed-bdff-2edba8f8bcc5')\"\n",
              "              title=\"Convert this dataframe to an interactive table.\"\n",
              "              style=\"display:none;\">\n",
              "        \n",
              "  <svg xmlns=\"http://www.w3.org/2000/svg\" height=\"24px\"viewBox=\"0 0 24 24\"\n",
              "       width=\"24px\">\n",
              "    <path d=\"M0 0h24v24H0V0z\" fill=\"none\"/>\n",
              "    <path d=\"M18.56 5.44l.94 2.06.94-2.06 2.06-.94-2.06-.94-.94-2.06-.94 2.06-2.06.94zm-11 1L8.5 8.5l.94-2.06 2.06-.94-2.06-.94L8.5 2.5l-.94 2.06-2.06.94zm10 10l.94 2.06.94-2.06 2.06-.94-2.06-.94-.94-2.06-.94 2.06-2.06.94z\"/><path d=\"M17.41 7.96l-1.37-1.37c-.4-.4-.92-.59-1.43-.59-.52 0-1.04.2-1.43.59L10.3 9.45l-7.72 7.72c-.78.78-.78 2.05 0 2.83L4 21.41c.39.39.9.59 1.41.59.51 0 1.02-.2 1.41-.59l7.78-7.78 2.81-2.81c.8-.78.8-2.07 0-2.86zM5.41 20L4 18.59l7.72-7.72 1.47 1.35L5.41 20z\"/>\n",
              "  </svg>\n",
              "      </button>\n",
              "      \n",
              "  <style>\n",
              "    .colab-df-container {\n",
              "      display:flex;\n",
              "      flex-wrap:wrap;\n",
              "      gap: 12px;\n",
              "    }\n",
              "\n",
              "    .colab-df-convert {\n",
              "      background-color: #E8F0FE;\n",
              "      border: none;\n",
              "      border-radius: 50%;\n",
              "      cursor: pointer;\n",
              "      display: none;\n",
              "      fill: #1967D2;\n",
              "      height: 32px;\n",
              "      padding: 0 0 0 0;\n",
              "      width: 32px;\n",
              "    }\n",
              "\n",
              "    .colab-df-convert:hover {\n",
              "      background-color: #E2EBFA;\n",
              "      box-shadow: 0px 1px 2px rgba(60, 64, 67, 0.3), 0px 1px 3px 1px rgba(60, 64, 67, 0.15);\n",
              "      fill: #174EA6;\n",
              "    }\n",
              "\n",
              "    [theme=dark] .colab-df-convert {\n",
              "      background-color: #3B4455;\n",
              "      fill: #D2E3FC;\n",
              "    }\n",
              "\n",
              "    [theme=dark] .colab-df-convert:hover {\n",
              "      background-color: #434B5C;\n",
              "      box-shadow: 0px 1px 3px 1px rgba(0, 0, 0, 0.15);\n",
              "      filter: drop-shadow(0px 1px 2px rgba(0, 0, 0, 0.3));\n",
              "      fill: #FFFFFF;\n",
              "    }\n",
              "  </style>\n",
              "\n",
              "      <script>\n",
              "        const buttonEl =\n",
              "          document.querySelector('#df-7a57ac3e-f3ae-45ed-bdff-2edba8f8bcc5 button.colab-df-convert');\n",
              "        buttonEl.style.display =\n",
              "          google.colab.kernel.accessAllowed ? 'block' : 'none';\n",
              "\n",
              "        async function convertToInteractive(key) {\n",
              "          const element = document.querySelector('#df-7a57ac3e-f3ae-45ed-bdff-2edba8f8bcc5');\n",
              "          const dataTable =\n",
              "            await google.colab.kernel.invokeFunction('convertToInteractive',\n",
              "                                                     [key], {});\n",
              "          if (!dataTable) return;\n",
              "\n",
              "          const docLinkHtml = 'Like what you see? Visit the ' +\n",
              "            '<a target=\"_blank\" href=https://colab.research.google.com/notebooks/data_table.ipynb>data table notebook</a>'\n",
              "            + ' to learn more about interactive tables.';\n",
              "          element.innerHTML = '';\n",
              "          dataTable['output_type'] = 'display_data';\n",
              "          await google.colab.output.renderOutput(dataTable, element);\n",
              "          const docLink = document.createElement('div');\n",
              "          docLink.innerHTML = docLinkHtml;\n",
              "          element.appendChild(docLink);\n",
              "        }\n",
              "      </script>\n",
              "    </div>\n",
              "  </div>\n",
              "  "
            ],
            "text/plain": [
              "       Gender_F  Gender_M  ...  PartTimeFullTime_F  PartTimeFullTime_P\n",
              "0             0         1  ...                   1                   0\n",
              "1             1         0  ...                   1                   0\n",
              "2             0         1  ...                   1                   0\n",
              "3             0         1  ...                   1                   0\n",
              "4             0         1  ...                   1                   0\n",
              "...         ...       ...  ...                 ...                 ...\n",
              "36171         1         0  ...                   1                   0\n",
              "36172         0         1  ...                   1                   0\n",
              "36173         1         0  ...                   0                   1\n",
              "36174         0         1  ...                   1                   0\n",
              "36175         0         1  ...                   1                   0\n",
              "\n",
              "[36049 rows x 8 columns]"
            ]
          },
          "metadata": {},
          "execution_count": 104
        }
      ]
    },
    {
      "cell_type": "markdown",
      "metadata": {
        "id": "fiYq75iNhSqB"
      },
      "source": [
        "> At the begining only the numerical and the encoded features must be considered.\n",
        "\n",
        "> At the end of the work you can include text, date information and so on."
      ]
    },
    {
      "cell_type": "code",
      "metadata": {
        "colab": {
          "base_uri": "https://localhost:8080/",
          "height": 477
        },
        "id": "yXDuAG8jvK3W",
        "outputId": "3f9db59d-e138-420b-9f6d-5ad2da08a481"
      },
      "source": [
        "df_full = pd.concat([df, df_OneHot], axis = 1)\n",
        "df_full.head()"
      ],
      "execution_count": 105,
      "outputs": [
        {
          "output_type": "execute_result",
          "data": {
            "text/html": [
              "\n",
              "  <div id=\"df-6a9b5eb0-5c71-410c-8165-7b9f604e1a32\">\n",
              "    <div class=\"colab-df-container\">\n",
              "      <div>\n",
              "<style scoped>\n",
              "    .dataframe tbody tr th:only-of-type {\n",
              "        vertical-align: middle;\n",
              "    }\n",
              "\n",
              "    .dataframe tbody tr th {\n",
              "        vertical-align: top;\n",
              "    }\n",
              "\n",
              "    .dataframe thead th {\n",
              "        text-align: right;\n",
              "    }\n",
              "</style>\n",
              "<table border=\"1\" class=\"dataframe\">\n",
              "  <thead>\n",
              "    <tr style=\"text-align: right;\">\n",
              "      <th></th>\n",
              "      <th>ClaimNumber</th>\n",
              "      <th>DateTimeOfAccident</th>\n",
              "      <th>DateReported</th>\n",
              "      <th>Age</th>\n",
              "      <th>Gender</th>\n",
              "      <th>MaritalStatus</th>\n",
              "      <th>DependentChildren</th>\n",
              "      <th>DependentsOther</th>\n",
              "      <th>WeeklyWages</th>\n",
              "      <th>PartTimeFullTime</th>\n",
              "      <th>HoursWorkedPerWeek</th>\n",
              "      <th>DaysWorkedPerWeek</th>\n",
              "      <th>ClaimDescription</th>\n",
              "      <th>InitialIncurredCalimsCost</th>\n",
              "      <th>UltimateIncurredClaimCost</th>\n",
              "      <th>Gender_F</th>\n",
              "      <th>Gender_M</th>\n",
              "      <th>Gender_U</th>\n",
              "      <th>MaritalStatus_M</th>\n",
              "      <th>MaritalStatus_S</th>\n",
              "      <th>MaritalStatus_U</th>\n",
              "      <th>PartTimeFullTime_F</th>\n",
              "      <th>PartTimeFullTime_P</th>\n",
              "    </tr>\n",
              "  </thead>\n",
              "  <tbody>\n",
              "    <tr>\n",
              "      <th>0</th>\n",
              "      <td>WC8205482</td>\n",
              "      <td>2002-04-09T07:00:00Z</td>\n",
              "      <td>2002-07-05T00:00:00Z</td>\n",
              "      <td>48</td>\n",
              "      <td>M</td>\n",
              "      <td>M</td>\n",
              "      <td>0</td>\n",
              "      <td>0</td>\n",
              "      <td>500.00</td>\n",
              "      <td>F</td>\n",
              "      <td>38.0</td>\n",
              "      <td>5</td>\n",
              "      <td>LIFTING TYRE INJURY TO RIGHT ARM AND WRIST INJURY</td>\n",
              "      <td>1500</td>\n",
              "      <td>4748.203388</td>\n",
              "      <td>0</td>\n",
              "      <td>1</td>\n",
              "      <td>0</td>\n",
              "      <td>1</td>\n",
              "      <td>0</td>\n",
              "      <td>0</td>\n",
              "      <td>1</td>\n",
              "      <td>0</td>\n",
              "    </tr>\n",
              "    <tr>\n",
              "      <th>1</th>\n",
              "      <td>WC6922469</td>\n",
              "      <td>1999-01-07T11:00:00Z</td>\n",
              "      <td>1999-01-20T00:00:00Z</td>\n",
              "      <td>43</td>\n",
              "      <td>F</td>\n",
              "      <td>M</td>\n",
              "      <td>0</td>\n",
              "      <td>0</td>\n",
              "      <td>509.34</td>\n",
              "      <td>F</td>\n",
              "      <td>37.5</td>\n",
              "      <td>5</td>\n",
              "      <td>STEPPED AROUND CRATES AND TRUCK TRAY FRACTURE ...</td>\n",
              "      <td>5500</td>\n",
              "      <td>6326.285819</td>\n",
              "      <td>1</td>\n",
              "      <td>0</td>\n",
              "      <td>0</td>\n",
              "      <td>1</td>\n",
              "      <td>0</td>\n",
              "      <td>0</td>\n",
              "      <td>1</td>\n",
              "      <td>0</td>\n",
              "    </tr>\n",
              "    <tr>\n",
              "      <th>2</th>\n",
              "      <td>WC5442654</td>\n",
              "      <td>1996-03-25T00:00:00Z</td>\n",
              "      <td>1996-04-14T00:00:00Z</td>\n",
              "      <td>30</td>\n",
              "      <td>M</td>\n",
              "      <td>U</td>\n",
              "      <td>0</td>\n",
              "      <td>0</td>\n",
              "      <td>709.10</td>\n",
              "      <td>F</td>\n",
              "      <td>38.0</td>\n",
              "      <td>5</td>\n",
              "      <td>CUT ON SHARP EDGE CUT LEFT THUMB</td>\n",
              "      <td>1700</td>\n",
              "      <td>2293.949087</td>\n",
              "      <td>0</td>\n",
              "      <td>1</td>\n",
              "      <td>0</td>\n",
              "      <td>0</td>\n",
              "      <td>0</td>\n",
              "      <td>1</td>\n",
              "      <td>1</td>\n",
              "      <td>0</td>\n",
              "    </tr>\n",
              "    <tr>\n",
              "      <th>3</th>\n",
              "      <td>WC9796897</td>\n",
              "      <td>2005-06-22T13:00:00Z</td>\n",
              "      <td>2005-07-22T00:00:00Z</td>\n",
              "      <td>41</td>\n",
              "      <td>M</td>\n",
              "      <td>S</td>\n",
              "      <td>0</td>\n",
              "      <td>0</td>\n",
              "      <td>555.46</td>\n",
              "      <td>F</td>\n",
              "      <td>38.0</td>\n",
              "      <td>5</td>\n",
              "      <td>DIGGING LOWER BACK LOWER BACK STRAIN</td>\n",
              "      <td>15000</td>\n",
              "      <td>17786.487170</td>\n",
              "      <td>0</td>\n",
              "      <td>1</td>\n",
              "      <td>0</td>\n",
              "      <td>0</td>\n",
              "      <td>1</td>\n",
              "      <td>0</td>\n",
              "      <td>1</td>\n",
              "      <td>0</td>\n",
              "    </tr>\n",
              "    <tr>\n",
              "      <th>4</th>\n",
              "      <td>WC2603726</td>\n",
              "      <td>1990-08-29T08:00:00Z</td>\n",
              "      <td>1990-09-27T00:00:00Z</td>\n",
              "      <td>36</td>\n",
              "      <td>M</td>\n",
              "      <td>M</td>\n",
              "      <td>0</td>\n",
              "      <td>0</td>\n",
              "      <td>377.10</td>\n",
              "      <td>F</td>\n",
              "      <td>38.0</td>\n",
              "      <td>5</td>\n",
              "      <td>REACHING ABOVE SHOULDER LEVEL ACUTE MUSCLE STR...</td>\n",
              "      <td>2800</td>\n",
              "      <td>4014.002925</td>\n",
              "      <td>0</td>\n",
              "      <td>1</td>\n",
              "      <td>0</td>\n",
              "      <td>1</td>\n",
              "      <td>0</td>\n",
              "      <td>0</td>\n",
              "      <td>1</td>\n",
              "      <td>0</td>\n",
              "    </tr>\n",
              "  </tbody>\n",
              "</table>\n",
              "</div>\n",
              "      <button class=\"colab-df-convert\" onclick=\"convertToInteractive('df-6a9b5eb0-5c71-410c-8165-7b9f604e1a32')\"\n",
              "              title=\"Convert this dataframe to an interactive table.\"\n",
              "              style=\"display:none;\">\n",
              "        \n",
              "  <svg xmlns=\"http://www.w3.org/2000/svg\" height=\"24px\"viewBox=\"0 0 24 24\"\n",
              "       width=\"24px\">\n",
              "    <path d=\"M0 0h24v24H0V0z\" fill=\"none\"/>\n",
              "    <path d=\"M18.56 5.44l.94 2.06.94-2.06 2.06-.94-2.06-.94-.94-2.06-.94 2.06-2.06.94zm-11 1L8.5 8.5l.94-2.06 2.06-.94-2.06-.94L8.5 2.5l-.94 2.06-2.06.94zm10 10l.94 2.06.94-2.06 2.06-.94-2.06-.94-.94-2.06-.94 2.06-2.06.94z\"/><path d=\"M17.41 7.96l-1.37-1.37c-.4-.4-.92-.59-1.43-.59-.52 0-1.04.2-1.43.59L10.3 9.45l-7.72 7.72c-.78.78-.78 2.05 0 2.83L4 21.41c.39.39.9.59 1.41.59.51 0 1.02-.2 1.41-.59l7.78-7.78 2.81-2.81c.8-.78.8-2.07 0-2.86zM5.41 20L4 18.59l7.72-7.72 1.47 1.35L5.41 20z\"/>\n",
              "  </svg>\n",
              "      </button>\n",
              "      \n",
              "  <style>\n",
              "    .colab-df-container {\n",
              "      display:flex;\n",
              "      flex-wrap:wrap;\n",
              "      gap: 12px;\n",
              "    }\n",
              "\n",
              "    .colab-df-convert {\n",
              "      background-color: #E8F0FE;\n",
              "      border: none;\n",
              "      border-radius: 50%;\n",
              "      cursor: pointer;\n",
              "      display: none;\n",
              "      fill: #1967D2;\n",
              "      height: 32px;\n",
              "      padding: 0 0 0 0;\n",
              "      width: 32px;\n",
              "    }\n",
              "\n",
              "    .colab-df-convert:hover {\n",
              "      background-color: #E2EBFA;\n",
              "      box-shadow: 0px 1px 2px rgba(60, 64, 67, 0.3), 0px 1px 3px 1px rgba(60, 64, 67, 0.15);\n",
              "      fill: #174EA6;\n",
              "    }\n",
              "\n",
              "    [theme=dark] .colab-df-convert {\n",
              "      background-color: #3B4455;\n",
              "      fill: #D2E3FC;\n",
              "    }\n",
              "\n",
              "    [theme=dark] .colab-df-convert:hover {\n",
              "      background-color: #434B5C;\n",
              "      box-shadow: 0px 1px 3px 1px rgba(0, 0, 0, 0.15);\n",
              "      filter: drop-shadow(0px 1px 2px rgba(0, 0, 0, 0.3));\n",
              "      fill: #FFFFFF;\n",
              "    }\n",
              "  </style>\n",
              "\n",
              "      <script>\n",
              "        const buttonEl =\n",
              "          document.querySelector('#df-6a9b5eb0-5c71-410c-8165-7b9f604e1a32 button.colab-df-convert');\n",
              "        buttonEl.style.display =\n",
              "          google.colab.kernel.accessAllowed ? 'block' : 'none';\n",
              "\n",
              "        async function convertToInteractive(key) {\n",
              "          const element = document.querySelector('#df-6a9b5eb0-5c71-410c-8165-7b9f604e1a32');\n",
              "          const dataTable =\n",
              "            await google.colab.kernel.invokeFunction('convertToInteractive',\n",
              "                                                     [key], {});\n",
              "          if (!dataTable) return;\n",
              "\n",
              "          const docLinkHtml = 'Like what you see? Visit the ' +\n",
              "            '<a target=\"_blank\" href=https://colab.research.google.com/notebooks/data_table.ipynb>data table notebook</a>'\n",
              "            + ' to learn more about interactive tables.';\n",
              "          element.innerHTML = '';\n",
              "          dataTable['output_type'] = 'display_data';\n",
              "          await google.colab.output.renderOutput(dataTable, element);\n",
              "          const docLink = document.createElement('div');\n",
              "          docLink.innerHTML = docLinkHtml;\n",
              "          element.appendChild(docLink);\n",
              "        }\n",
              "      </script>\n",
              "    </div>\n",
              "  </div>\n",
              "  "
            ],
            "text/plain": [
              "  ClaimNumber    DateTimeOfAccident  ... PartTimeFullTime_F  PartTimeFullTime_P\n",
              "0   WC8205482  2002-04-09T07:00:00Z  ...                  1                   0\n",
              "1   WC6922469  1999-01-07T11:00:00Z  ...                  1                   0\n",
              "2   WC5442654  1996-03-25T00:00:00Z  ...                  1                   0\n",
              "3   WC9796897  2005-06-22T13:00:00Z  ...                  1                   0\n",
              "4   WC2603726  1990-08-29T08:00:00Z  ...                  1                   0\n",
              "\n",
              "[5 rows x 23 columns]"
            ]
          },
          "metadata": {},
          "execution_count": 105
        }
      ]
    },
    {
      "cell_type": "markdown",
      "metadata": {
        "id": "BCM_nCRZJ4gu"
      },
      "source": [
        "### Train and test split"
      ]
    },
    {
      "cell_type": "code",
      "metadata": {
        "id": "FXbG4xo6L9Hf"
      },
      "source": [
        "x_features = ['WeeklyWages', 'HoursWorkedPerWeek', 'InitialIncurredCalimsCost']\n"
      ],
      "execution_count": 106,
      "outputs": []
    },
    {
      "cell_type": "code",
      "metadata": {
        "id": "Ne6Ymbyirzn-"
      },
      "source": [
        "from sklearn.model_selection import train_test_split\n",
        "X = df[x_features]\n",
        "y = df['UltimateIncurredClaimCost']\n",
        "\n",
        "X_train, X_test, y_train, y_test = train_test_split( X, y, test_size=0.33, random_state=42)\n"
      ],
      "execution_count": 107,
      "outputs": []
    },
    {
      "cell_type": "markdown",
      "metadata": {
        "id": "YiOENl5jr0C3"
      },
      "source": [
        "## Basic Modeling \n",
        "\n",
        "We’ll be exploring Linear Regression using scikit-learn in python.\n",
        "\n",
        "We will use the selected features to predict the results. \n",
        "\n",
        "Linear regression produces a model in the form:\n",
        "\n",
        "\n",
        " $$\n",
        " Y_{t}=\\beta _{0}+\\beta _{1}X_{1}+\\beta _{2}X_{2}+\\cdots +\\beta _{p}X_{p}+\\varepsilon\n",
        " $$\n",
        "\n",
        "The way this is accomplished is by minimising the residual sum of squares, given by the equation below:\n",
        "$$\n",
        "RSS=Σni=1(yi–y^i)2\n",
        "$$\n",
        "\n",
        "$$\n",
        "RSS=Σni=1(yi–β0^–β1^x1–β2^x2–…–βp^xp)\n",
        "$$\n",
        "\n",
        "\n",
        "Scikit-learn provides a LinearRegression function for doing this job.\n",
        "Linear Regression (Dummy Model)"
      ]
    },
    {
      "cell_type": "code",
      "metadata": {
        "colab": {
          "base_uri": "https://localhost:8080/"
        },
        "id": "bwateNbgwgP2",
        "outputId": "876ad364-0718-47c8-e306-37e35c4d8db0"
      },
      "source": [
        "from sklearn import linear_model\n",
        "model = linear_model.LinearRegression()\n",
        "model.fit(X_train, y_train)\n"
      ],
      "execution_count": 108,
      "outputs": [
        {
          "output_type": "execute_result",
          "data": {
            "text/plain": [
              "LinearRegression()"
            ]
          },
          "metadata": {},
          "execution_count": 108
        }
      ]
    },
    {
      "cell_type": "markdown",
      "metadata": {
        "id": "s1-7sJbex2GV"
      },
      "source": [
        "Now that our model is trained, we can view the coefficients of the model using regression_model.coef_, which is an array of tuples of coefficients."
      ]
    },
    {
      "cell_type": "code",
      "metadata": {
        "colab": {
          "base_uri": "https://localhost:8080/"
        },
        "id": "XiqrZXoqx6LB",
        "outputId": "cbda005b-1b1a-4d24-941a-b0f7349ae584"
      },
      "source": [
        "for idx, col_name in enumerate(X_train.columns):\n",
        "    print(\"The coefficient for {} is {}\".format(col_name, model.coef_[idx]))"
      ],
      "execution_count": 109,
      "outputs": [
        {
          "output_type": "stream",
          "name": "stdout",
          "text": [
            "The coefficient for WeeklyWages is 9.794779343746388\n",
            "The coefficient for HoursWorkedPerWeek is -25.675661234818307\n",
            "The coefficient for InitialIncurredCalimsCost is 0.7743349854415342\n"
          ]
        }
      ]
    },
    {
      "cell_type": "markdown",
      "metadata": {
        "id": "8IxMzIU5x_6A"
      },
      "source": [
        "Note that, because we’ve not done any feature scaling or dimensionality reduction, we can’t say anything about the relative importance of each of our features given these coefficients because the features are not of the same scale."
      ]
    },
    {
      "cell_type": "code",
      "metadata": {
        "id": "ZBI8gNTLyUP-"
      },
      "source": [
        "y_pred = model.predict(X_test)"
      ],
      "execution_count": 110,
      "outputs": []
    },
    {
      "cell_type": "code",
      "metadata": {
        "colab": {
          "base_uri": "https://localhost:8080/"
        },
        "id": "xgjUsWp9yWj5",
        "outputId": "8c9a3d7d-624d-4191-8a7a-98f0fb9a9d8a"
      },
      "source": [
        "from sklearn import metrics\n",
        "print (\"MAE:\", metrics.mean_absolute_error(y_pred , y_test))\n",
        "print (\"MAPE:\", metrics.mean_absolute_percentage_error(y_pred , y_test))\n",
        "print (\"MSE:\", metrics.mean_squared_error(y_pred , y_test))\n",
        "print (\"R^2:\", metrics.r2_score(y_pred , y_test))\n"
      ],
      "execution_count": 111,
      "outputs": [
        {
          "output_type": "stream",
          "name": "stdout",
          "text": [
            "MAE: 7979.755264779615\n",
            "MAPE: 0.8024366465210745\n",
            "MSE: 547594288.9830517\n",
            "R^2: -1.5990659116870134\n"
          ]
        }
      ]
    },
    {
      "cell_type": "markdown",
      "source": [
        "###Analysis\n"
      ],
      "metadata": {
        "id": "MlP2QL2Z13WQ"
      }
    },
    {
      "cell_type": "markdown",
      "source": [
        "Analysing the count of different freautures using count plot\n"
      ],
      "metadata": {
        "id": "1EkQGys516nx"
      }
    },
    {
      "cell_type": "code",
      "source": [
        "import matplotlib.pyplot as plt\n",
        "import seaborn as sns \n",
        "univariate=['Age','Gender','MaritalStatus','DependentChildren','DependentsOther','PartTimeFullTime','DaysWorkedPerWeek']\n",
        "for col in univariate:\n",
        "    plt.figure(figsize = (6,4))\n",
        "    sns.countplot(x=col,data =df)"
      ],
      "metadata": {
        "id": "YveL2MPW19vM"
      },
      "execution_count": null,
      "outputs": []
    },
    {
      "cell_type": "markdown",
      "source": [
        "Viewing the distribution of target variable using dist plot\n"
      ],
      "metadata": {
        "id": "b62h60rB2D7K"
      }
    },
    {
      "cell_type": "code",
      "source": [
        "import warnings\n",
        "warnings.filterwarnings(\"ignore\")\n",
        "df['UltimateIncurredClaimCost'].hist(bins=25)\n",
        "plt.show()\n",
        "sns.distplot(df['UltimateIncurredClaimCost'],color='g')\n",
        "plt.show()\n",
        "sns.boxplot(df['UltimateIncurredClaimCost'],color='r')"
      ],
      "metadata": {
        "id": "aRz0R71Q2Gru"
      },
      "execution_count": null,
      "outputs": []
    },
    {
      "cell_type": "markdown",
      "source": [
        "Comparison of the insurance paid depending on the Age\n"
      ],
      "metadata": {
        "id": "s5wKvaES2OZM"
      }
    },
    {
      "cell_type": "code",
      "source": [
        "sns.barplot(x='Age',y='UltimateIncurredClaimCost',data=df)\n"
      ],
      "metadata": {
        "id": "zMaZ3S_C2PMh"
      },
      "execution_count": null,
      "outputs": []
    },
    {
      "cell_type": "markdown",
      "source": [
        "Comparison of the insurance paid depending on the quantity of days worked per week"
      ],
      "metadata": {
        "id": "KIqJVw6I2RDN"
      }
    },
    {
      "cell_type": "code",
      "source": [
        "sns.barplot(x='DaysWorkedPerWeek',y='UltimateIncurredClaimCost',data=df)\n"
      ],
      "metadata": {
        "id": "ODAN0K7q2Q2p"
      },
      "execution_count": null,
      "outputs": []
    },
    {
      "cell_type": "markdown",
      "metadata": {
        "id": "XqeJVOqoIaeT"
      },
      "source": [
        "# 1. BaseLine (kNN or DecisionTrees)"
      ]
    },
    {
      "cell_type": "markdown",
      "metadata": {
        "id": "7SXj3U9SIqvd"
      },
      "source": [
        "- Feature Selection\n",
        "- CrossValidation \n",
        "   - kNN: k, weights, metric (manhattan, euclidean)\n",
        "   - Decisiontrees: max_depth\n"
      ]
    },
    {
      "cell_type": "markdown",
      "source": [
        "####Feature Selection\n"
      ],
      "metadata": {
        "id": "mhjSUYiT4oeO"
      }
    },
    {
      "cell_type": "code",
      "source": [
        "from sklearn.datasets import make_regression\n",
        "from sklearn.model_selection import train_test_split\n",
        "from sklearn.feature_selection import SelectKBest\n",
        "from sklearn.feature_selection import f_regression\n",
        "from matplotlib import pyplot\n",
        " \n",
        "def select_features(X_train, y_train, X_test):\n",
        "\t# configure to select all features\n",
        "\tfs = SelectKBest(score_func=f_regression, k='all')\n",
        "\t# learn relationship from training data\n",
        "\tfs.fit(X_train, y_train)\n",
        "\t# transform train input data\n",
        "\tX_train_fs = fs.transform(X_train)\n",
        "\t# transform test input data\n",
        "\tX_test_fs = fs.transform(X_test)\n",
        "\treturn X_train_fs, X_test_fs, fs\n",
        "\n",
        "# X, y = make_regression(n_samples=30000, n_features=14, n_informative=10, noise=0.1, random_state=42)\n",
        "# split into train and test sets\n",
        "X_train, X_test, y_train, y_test = train_test_split(X, y, test_size=0.33, random_state=42)\n",
        "# feature selection\n",
        "X_train_fs, X_test_fs, fs = select_features(X_train, y_train, X_test)\n",
        "# what are scores for the features\n",
        "for i in range(len(fs.scores_)):\n",
        "\tprint('Feature %d: %f' % (i, fs.scores_[i]))\n",
        "# plot the scores\n",
        "pyplot.bar([i for i in range(len(fs.scores_))], fs.scores_)\n",
        "pyplot.show()\n",
        "\n",
        " "
      ],
      "metadata": {
        "colab": {
          "base_uri": "https://localhost:8080/",
          "height": 503
        },
        "id": "yCBLKRrV4tCB",
        "outputId": "88c14994-7cb7-4b03-a199-9c925814ce16"
      },
      "execution_count": 115,
      "outputs": [
        {
          "output_type": "stream",
          "name": "stdout",
          "text": [
            "Feature 0: 0.732583\n",
            "Feature 1: 1564.329098\n",
            "Feature 2: 749.574925\n",
            "Feature 3: 0.279625\n",
            "Feature 4: 0.054579\n",
            "Feature 5: 68.987792\n",
            "Feature 6: 4547.396388\n",
            "Feature 7: 4105.057271\n",
            "Feature 8: 211.976187\n",
            "Feature 9: 4021.261110\n",
            "Feature 10: 4568.377806\n",
            "Feature 11: 0.634457\n",
            "Feature 12: 598.764591\n",
            "Feature 13: 2882.657353\n"
          ]
        },
        {
          "output_type": "display_data",
          "data": {
            "image/png": "[encoded data removed]",
            "text/plain": [
              "<Figure size 432x288 with 1 Axes>"
            ]
          },
          "metadata": {
            "needs_background": "light"
          }
        }
      ]
    },
    {
      "cell_type": "markdown",
      "source": [
        ""
      ],
      "metadata": {
        "id": "dHNCbJoV4kKz"
      }
    },
    {
      "cell_type": "markdown",
      "source": [
        "####Cross validaton\n"
      ],
      "metadata": {
        "id": "ijya0x4P6vQT"
      }
    },
    {
      "cell_type": "markdown",
      "source": [
        "#####Training the model with the training data\n"
      ],
      "metadata": {
        "id": "mKI6HGxu4fpV"
      }
    },
    {
      "cell_type": "markdown",
      "source": [
        "Throughtout testing the different values, to chosen 35 in the range iccured to be sufficent"
      ],
      "metadata": {
        "id": "1OVP2ehLzjp7"
      }
    },
    {
      "cell_type": "code",
      "source": [
        "from numpy import mean\n",
        "from numpy import std\n",
        "from sklearn.datasets import make_classification\n",
        "from sklearn.model_selection import KFold\n",
        "from sklearn import neighbors\n",
        "import matplotlib.pyplot as plt\n",
        "from sklearn.model_selection import cross_val_score\n",
        "from sklearn.linear_model import LogisticRegression\n",
        "from sklearn import metrics\n",
        "import numpy as np\n",
        "\n",
        "\n",
        "\n",
        "cv = KFold(n_splits = 10, shuffle = True)\n",
        "for i, weights in enumerate(['uniform', 'distance']):\n",
        "   total_scores = []\n",
        "   for n_neighbors in range(1,35):\n",
        "       fold_accuracy = []\n",
        "       knn = neighbors.KNeighborsRegressor(n_neighbors, weights=weights)\n",
        "       for train_index, test_index in cv.split(X):\n",
        "          X_train_fs, X_test_fs = X[train_index], X[test_index] \n",
        "          y_train, y_test = y[train_index], y[test_index]\n",
        "          # entrenamiento y ejecución del modelo\n",
        "          knn.fit(X_train_fs, y_train)\n",
        "          y_pred = knn.predict(X_test_fs)\n",
        "          # evaluación del modelo\n",
        "          mae = metrics.mean_absolute_error(y_pred , y_test)\n",
        "          fold_accuracy.append(mae)\n",
        "       total_scores.append(sum(fold_accuracy)/len(fold_accuracy))\n",
        "   \n",
        "   plt.plot(range(1,len(total_scores)+1), total_scores, \n",
        "             marker='o', label=weights)\n",
        "   print ('Min Value ' +  weights + \" : \" +  str(min(total_scores)) +\" (\" + str(np.argmin(total_scores) + 1) + \")\")\n",
        "   plt.ylabel('MAE')      \n",
        "    \n",
        "\n",
        "plt.legend()\n",
        "plt.show() \n",
        "\n"
      ],
      "metadata": {
        "colab": {
          "base_uri": "https://localhost:8080/",
          "height": 299
        },
        "id": "jhq1u5kr6Jqk",
        "outputId": "aadf6076-eb7c-452b-ee51-3c5796ca4bcb"
      },
      "execution_count": 117,
      "outputs": [
        {
          "output_type": "stream",
          "name": "stdout",
          "text": [
            "Min Value uniform : 62.399243143684984 (11)\n",
            "Min Value distance : 61.999881762633 (11)\n"
          ]
        },
        {
          "output_type": "display_data",
          "data": {
            "image/png": "[encoded data removed]",
            "text/plain": [
              "<Figure size 432x288 with 1 Axes>"
            ]
          },
          "metadata": {
            "needs_background": "light"
          }
        }
      ]
    },
    {
      "cell_type": "markdown",
      "source": [
        "Now we know the best parametrization, so we can now execute the model"
      ],
      "metadata": {
        "id": "gfFky-Gy4Kah"
      }
    },
    {
      "cell_type": "markdown",
      "source": [
        "The number of neighbors chosen occured to optimal "
      ],
      "metadata": {
        "id": "hohHhxZez3aU"
      }
    },
    {
      "cell_type": "code",
      "source": [
        "from sklearn import metrics\n",
        "# constructor\n",
        "n_neighbors = 15\n",
        "weights = 'uniform'\n",
        "knn = neighbors.KNeighborsRegressor(n_neighbors= n_neighbors, weights=weights) \n",
        "# fit and predict\n",
        "\n",
        "knn.fit(X_train_fs, y_train)\n",
        "y_pred = knn.predict(X_test_fs)\n",
        "mae= metrics.mean_absolute_error(y_test, y_pred)\n",
        "print('MAE', mae)\n"
      ],
      "metadata": {
        "colab": {
          "base_uri": "https://localhost:8080/"
        },
        "id": "SSG5_y5-4apI",
        "outputId": "40cf305d-4450-4930-bba6-d032e27fc63f"
      },
      "execution_count": 119,
      "outputs": [
        {
          "output_type": "stream",
          "name": "stdout",
          "text": [
            "MAE 62.724844865423485\n"
          ]
        }
      ]
    },
    {
      "cell_type": "markdown",
      "source": [
        "Here we are visualising our prediction:"
      ],
      "metadata": {
        "id": "T1nPmgcnQ_tm"
      }
    },
    {
      "cell_type": "code",
      "source": [
        "from sklearn.metrics import mean_absolute_error\n",
        "                    \n",
        "# x axis for plotting\n",
        "import numpy as np\n",
        "xx = np.stack(i for i in range(len(y_test)))\n",
        "plt.plot(xx, y_test, c='r', label='data')\n",
        "#plt.plot(xx, y, c='k', label='data')\n",
        "plt.plot(xx, y_pred, c='g', label='prediction')\n",
        "plt.axis('tight')\n",
        "plt.legend()\n",
        "plt.title(\"KNeighborsRegressor (k = %i, weights = '%s')\" % (n_neighbors,\n",
        "                                                                weights))\n"
      ],
      "metadata": {
        "colab": {
          "base_uri": "https://localhost:8080/",
          "height": 298
        },
        "id": "qc9yOn-pRGrt",
        "outputId": "b735bc4c-43bd-4a47-e162-14d6eb2c9479"
      },
      "execution_count": 120,
      "outputs": [
        {
          "output_type": "execute_result",
          "data": {
            "text/plain": [
              "Text(0.5, 1.0, \"KNeighborsRegressor (k = 15, weights = 'uniform')\")"
            ]
          },
          "metadata": {},
          "execution_count": 120
        },
        {
          "output_type": "display_data",
          "data": {
            "image/png": "[encoded data removed]",
            "text/plain": [
              "<Figure size 432x288 with 1 Axes>"
            ]
          },
          "metadata": {
            "needs_background": "light"
          }
        }
      ]
    },
    {
      "cell_type": "markdown",
      "metadata": {
        "id": "uf4vlllSIdgK"
      },
      "source": [
        "# 2. Optimized Model (RandomForests, Boosting + Hyperparameter Optimization)"
      ]
    },
    {
      "cell_type": "markdown",
      "source": [
        "Due to hyperparameter optimization: observations showed that the number '100' of estimators is optimal"
      ],
      "metadata": {
        "id": "brAE43Bx0Q9l"
      }
    },
    {
      "cell_type": "code",
      "source": [
        "from sklearn.ensemble import RandomForestRegressor\n",
        "def RandomForest(X_train, X_test):\n",
        "    #1.1 Model Parametrization \n",
        "    regressor = RandomForestRegressor(n_estimators= 100, max_depth = 5, criterion='mae', random_state=0)\n",
        "    #1.2 Model construction\n",
        "    regressor.fit(X_train_fs, y_train)\n",
        "    # Test\n",
        "    y_pred = regressor.predict(X_test)\n",
        "    # mae = metrics.mean_absolute_error(y_test,y_pred)\n",
        "    print (\"Error Measure \",  mae, \"\\n\")\n",
        "    xx = np.stack(i for i in range(len(y_test)))\n",
        "    plt.scatter(xx, y_test, c='r', label='data')\n",
        "    plt.plot(xx, y_pred, c='g', label='prediction')\n",
        "    plt.axis('tight')\n",
        "    plt.legend()\n",
        "    plt.title(\"RandomForests Regressor\")\n",
        "\n",
        "    plt.show()\n",
        "    return regressor"
      ],
      "metadata": {
        "id": "KQtgkoLCRj1m"
      },
      "execution_count": 121,
      "outputs": []
    },
    {
      "cell_type": "code",
      "source": [
        "from sklearn.ensemble import RandomForestRegressor\n",
        "model = RandomForest(X_train_fs, X_test_fs)"
      ],
      "metadata": {
        "colab": {
          "base_uri": "https://localhost:8080/",
          "height": 315
        },
        "id": "GQt2OZMnSvCr",
        "outputId": "9b4ecc59-fb21-4465-bc06-82ba58098b8a"
      },
      "execution_count": 122,
      "outputs": [
        {
          "output_type": "stream",
          "name": "stdout",
          "text": [
            "Error Measure  62.724844865423485 \n",
            "\n"
          ]
        },
        {
          "output_type": "display_data",
          "data": {
            "image/png": "[encoded data removed]",
            "text/plain": [
              "<Figure size 432x288 with 1 Axes>"
            ]
          },
          "metadata": {
            "needs_background": "light"
          }
        }
      ]
    },
    {
      "cell_type": "markdown",
      "source": [
        ""
      ],
      "metadata": {
        "id": "CuZOXjp6Yb0g"
      }
    },
    {
      "cell_type": "markdown",
      "source": [
        "Boosting:"
      ],
      "metadata": {
        "id": "V8iJNTvkYZsi"
      }
    },
    {
      "cell_type": "markdown",
      "source": [
        "Hyperparameter optimization: again, optimal chosen number of estimators and maxdepth"
      ],
      "metadata": {
        "id": "uBTd5DZR0p3d"
      }
    },
    {
      "cell_type": "code",
      "source": [
        "import warnings\n",
        "warnings.filterwarnings(\"ignore\")\n",
        "from sklearn.preprocessing import MinMaxScaler, StandardScaler\n",
        "from sklearn.model_selection import train_test_split\n",
        "\n",
        "from sklearn.ensemble import GradientBoostingRegressor\n",
        "\n",
        "\n",
        "import numpy as np    \n",
        "from sklearn.metrics import mean_absolute_error \n",
        "def Boosting(X_train_fs, X_test_fs):\n",
        "    # Model Parametrization \n",
        "    regressor = GradientBoostingRegressor(n_estimators= 100, max_depth = 5, criterion='mae', random_state=0)\n",
        "    # Model construction\n",
        "    regressor.fit(X_train_fs, y_train)\n",
        "    # Test\n",
        "    y_pred = regressor.predict(X_test_fs)\n",
        "    mae = mean_absolute_error(y_test,y_pred)\n",
        "    print (\"Error Measure \",  mae, \"\\n\")\n",
        "    xx = np.stack(i for i in range(len(y_test)))\n",
        "    plt.scatter(xx, y_test, c='r', label='data')\n",
        "    plt.plot(xx, y_pred, c='g', label='prediction')\n",
        "    plt.axis('tight')\n",
        "    plt.legend()\n",
        "    plt.title(\"RandomForests Regressor\")\n",
        "\n",
        "    plt.show()\n",
        "    return regressor"
      ],
      "metadata": {
        "id": "tCyNwsfSYdBD"
      },
      "execution_count": 124,
      "outputs": []
    },
    {
      "cell_type": "code",
      "source": [
        "model = Boosting(X_train_fs, X_test_fs)"
      ],
      "metadata": {
        "id": "wlbjseWMZHlF",
        "outputId": "581d71ac-9a69-4d25-b1e9-49869e11b01b",
        "colab": {
          "base_uri": "https://localhost:8080/",
          "height": 315
        }
      },
      "execution_count": 125,
      "outputs": [
        {
          "output_type": "stream",
          "name": "stdout",
          "text": [
            "Error Measure  25.04172748559429 \n",
            "\n"
          ]
        },
        {
          "output_type": "display_data",
          "data": {
            "image/png": "[encoded data removed]",
            "text/plain": [
              "<Figure size 432x288 with 1 Axes>"
            ]
          },
          "metadata": {
            "needs_background": "light"
          }
        }
      ]
    },
    {
      "cell_type": "markdown",
      "metadata": {
        "id": "8efLC2ZSIlea"
      },
      "source": [
        "# 3. Improvements (Include text data, other changes)"
      ]
    },
    {
      "cell_type": "markdown",
      "source": [
        "Improvements performed: Description of the data, analysis of the influence of particular data"
      ],
      "metadata": {
        "id": "Bw9i-f3-0thh"
      }
    }
  ]
}