{
  "nbformat": 4,
  "nbformat_minor": 0,
  "metadata": {
    "colab": {
      "name": "ML2021 - Assesment Work",
      "provenance": [],
      "include_colab_link": true
    },
    "kernelspec": {
      "name": "python3",
      "display_name": "Python 3"
    },
    "language_info": {
      "name": "python"
    }
  },
  "cells": [
    {
      "cell_type": "markdown",
      "metadata": {
        "id": "view-in-github",
        "colab_type": "text"
      },
      "source": [
        "<a href=\"https://colab.research.google.com/github/hankaj/Machine-Learning-Techniques/blob/master/ML2021_Assesment_Work.ipynb\" target=\"_parent\"><img src=\"https://colab.research.google.com/assets/colab-badge.svg\" alt=\"Open In Colab\"/></a>"
      ]
    },
    {
      "cell_type": "markdown",
      "metadata": {
        "id": "OPk5xckzHjrR"
      },
      "source": [
        "## ML2021 - Assesment Work (Regression)\n",
        "\n",
        "The challenge is to predict Workers Compensation claims using realistic data.\n",
        "\n",
        "**Model Evaluation**: MSE, $R^2$, ..."
      ]
    },
    {
      "cell_type": "markdown",
      "metadata": {
        "id": "GAVRtiK_E5Hw"
      },
      "source": [
        "## Data Loading \n",
        "\n",
        "\n"
      ]
    },
    {
      "cell_type": "markdown",
      "metadata": {
        "id": "L4H9r5NVwK-_"
      },
      "source": [
        "1. Download the train data"
      ]
    },
    {
      "cell_type": "code",
      "metadata": {
        "colab": {
          "base_uri": "https://localhost:8080/"
        },
        "id": "viWr48ISEnyE",
        "outputId": "114af443-8ea2-460f-fbc6-3b64310a3064"
      },
      "source": [
        "!wget https://github.com/curso-iabd-uclm/machinelearning/raw/main/insurance/train.csv"
      ],
      "execution_count": 2,
      "outputs": [
        {
          "output_type": "stream",
          "name": "stdout",
          "text": [
            "--2022-01-21 20:40:15--  https://github.com/curso-iabd-uclm/machinelearning/raw/main/insurance/train.csv\n",
            "Resolving github.com (github.com)... 140.82.112.4\n",
            "Connecting to github.com (github.com)|140.82.112.4|:443... connected.\n",
            "HTTP request sent, awaiting response... 302 Found\n",
            "Location: https://raw.githubusercontent.com/curso-iabd-uclm/machinelearning/main/insurance/train.csv [following]\n",
            "--2022-01-21 20:40:16--  https://raw.githubusercontent.com/curso-iabd-uclm/machinelearning/main/insurance/train.csv\n",
            "Resolving raw.githubusercontent.com (raw.githubusercontent.com)... 185.199.108.133, 185.199.109.133, 185.199.110.133, ...\n",
            "Connecting to raw.githubusercontent.com (raw.githubusercontent.com)|185.199.108.133|:443... connected.\n",
            "HTTP request sent, awaiting response... 200 OK\n",
            "Length: 4942050 (4.7M) [text/plain]\n",
            "Saving to: ‘train.csv’\n",
            "\n",
            "train.csv           100%[===================>]   4.71M  --.-KB/s    in 0.07s   \n",
            "\n",
            "2022-01-21 20:40:16 (65.3 MB/s) - ‘train.csv’ saved [4942050/4942050]\n",
            "\n"
          ]
        }
      ]
    },
    {
      "cell_type": "code",
      "metadata": {
        "colab": {
          "base_uri": "https://localhost:8080/",
          "height": 477
        },
        "id": "zViX1JlTE-B1",
        "outputId": "26c275f8-a21e-403e-eef9-9f9426ac7de6"
      },
      "source": [
        "import pandas as pd\n",
        "df = pd.read_csv(\"train.csv\")\n",
        "df.head()"
      ],
      "execution_count": 3,
      "outputs": [
        {
          "output_type": "execute_result",
          "data": {
            "text/html": [
              "\n",
              "  <div id=\"df-856d2f17-9356-4b83-847b-1fbdd87a68c6\">\n",
              "    <div class=\"colab-df-container\">\n",
              "      <div>\n",
              "<style scoped>\n",
              "    .dataframe tbody tr th:only-of-type {\n",
              "        vertical-align: middle;\n",
              "    }\n",
              "\n",
              "    .dataframe tbody tr th {\n",
              "        vertical-align: top;\n",
              "    }\n",
              "\n",
              "    .dataframe thead th {\n",
              "        text-align: right;\n",
              "    }\n",
              "</style>\n",
              "<table border=\"1\" class=\"dataframe\">\n",
              "  <thead>\n",
              "    <tr style=\"text-align: right;\">\n",
              "      <th></th>\n",
              "      <th>ClaimNumber</th>\n",
              "      <th>DateTimeOfAccident</th>\n",
              "      <th>DateReported</th>\n",
              "      <th>Age</th>\n",
              "      <th>Gender</th>\n",
              "      <th>MaritalStatus</th>\n",
              "      <th>DependentChildren</th>\n",
              "      <th>DependentsOther</th>\n",
              "      <th>WeeklyWages</th>\n",
              "      <th>PartTimeFullTime</th>\n",
              "      <th>HoursWorkedPerWeek</th>\n",
              "      <th>DaysWorkedPerWeek</th>\n",
              "      <th>ClaimDescription</th>\n",
              "      <th>InitialIncurredCalimsCost</th>\n",
              "      <th>UltimateIncurredClaimCost</th>\n",
              "    </tr>\n",
              "  </thead>\n",
              "  <tbody>\n",
              "    <tr>\n",
              "      <th>0</th>\n",
              "      <td>WC8205482</td>\n",
              "      <td>2002-04-09T07:00:00Z</td>\n",
              "      <td>2002-07-05T00:00:00Z</td>\n",
              "      <td>48</td>\n",
              "      <td>M</td>\n",
              "      <td>M</td>\n",
              "      <td>0</td>\n",
              "      <td>0</td>\n",
              "      <td>500.00</td>\n",
              "      <td>F</td>\n",
              "      <td>38.0</td>\n",
              "      <td>5</td>\n",
              "      <td>LIFTING TYRE INJURY TO RIGHT ARM AND WRIST INJURY</td>\n",
              "      <td>1500</td>\n",
              "      <td>4748.203388</td>\n",
              "    </tr>\n",
              "    <tr>\n",
              "      <th>1</th>\n",
              "      <td>WC6922469</td>\n",
              "      <td>1999-01-07T11:00:00Z</td>\n",
              "      <td>1999-01-20T00:00:00Z</td>\n",
              "      <td>43</td>\n",
              "      <td>F</td>\n",
              "      <td>M</td>\n",
              "      <td>0</td>\n",
              "      <td>0</td>\n",
              "      <td>509.34</td>\n",
              "      <td>F</td>\n",
              "      <td>37.5</td>\n",
              "      <td>5</td>\n",
              "      <td>STEPPED AROUND CRATES AND TRUCK TRAY FRACTURE ...</td>\n",
              "      <td>5500</td>\n",
              "      <td>6326.285819</td>\n",
              "    </tr>\n",
              "    <tr>\n",
              "      <th>2</th>\n",
              "      <td>WC5442654</td>\n",
              "      <td>1996-03-25T00:00:00Z</td>\n",
              "      <td>1996-04-14T00:00:00Z</td>\n",
              "      <td>30</td>\n",
              "      <td>M</td>\n",
              "      <td>U</td>\n",
              "      <td>0</td>\n",
              "      <td>0</td>\n",
              "      <td>709.10</td>\n",
              "      <td>F</td>\n",
              "      <td>38.0</td>\n",
              "      <td>5</td>\n",
              "      <td>CUT ON SHARP EDGE CUT LEFT THUMB</td>\n",
              "      <td>1700</td>\n",
              "      <td>2293.949087</td>\n",
              "    </tr>\n",
              "    <tr>\n",
              "      <th>3</th>\n",
              "      <td>WC9796897</td>\n",
              "      <td>2005-06-22T13:00:00Z</td>\n",
              "      <td>2005-07-22T00:00:00Z</td>\n",
              "      <td>41</td>\n",
              "      <td>M</td>\n",
              "      <td>S</td>\n",
              "      <td>0</td>\n",
              "      <td>0</td>\n",
              "      <td>555.46</td>\n",
              "      <td>F</td>\n",
              "      <td>38.0</td>\n",
              "      <td>5</td>\n",
              "      <td>DIGGING LOWER BACK LOWER BACK STRAIN</td>\n",
              "      <td>15000</td>\n",
              "      <td>17786.487170</td>\n",
              "    </tr>\n",
              "    <tr>\n",
              "      <th>4</th>\n",
              "      <td>WC2603726</td>\n",
              "      <td>1990-08-29T08:00:00Z</td>\n",
              "      <td>1990-09-27T00:00:00Z</td>\n",
              "      <td>36</td>\n",
              "      <td>M</td>\n",
              "      <td>M</td>\n",
              "      <td>0</td>\n",
              "      <td>0</td>\n",
              "      <td>377.10</td>\n",
              "      <td>F</td>\n",
              "      <td>38.0</td>\n",
              "      <td>5</td>\n",
              "      <td>REACHING ABOVE SHOULDER LEVEL ACUTE MUSCLE STR...</td>\n",
              "      <td>2800</td>\n",
              "      <td>4014.002925</td>\n",
              "    </tr>\n",
              "  </tbody>\n",
              "</table>\n",
              "</div>\n",
              "      <button class=\"colab-df-convert\" onclick=\"convertToInteractive('df-856d2f17-9356-4b83-847b-1fbdd87a68c6')\"\n",
              "              title=\"Convert this dataframe to an interactive table.\"\n",
              "              style=\"display:none;\">\n",
              "        \n",
              "  <svg xmlns=\"http://www.w3.org/2000/svg\" height=\"24px\"viewBox=\"0 0 24 24\"\n",
              "       width=\"24px\">\n",
              "    <path d=\"M0 0h24v24H0V0z\" fill=\"none\"/>\n",
              "    <path d=\"M18.56 5.44l.94 2.06.94-2.06 2.06-.94-2.06-.94-.94-2.06-.94 2.06-2.06.94zm-11 1L8.5 8.5l.94-2.06 2.06-.94-2.06-.94L8.5 2.5l-.94 2.06-2.06.94zm10 10l.94 2.06.94-2.06 2.06-.94-2.06-.94-.94-2.06-.94 2.06-2.06.94z\"/><path d=\"M17.41 7.96l-1.37-1.37c-.4-.4-.92-.59-1.43-.59-.52 0-1.04.2-1.43.59L10.3 9.45l-7.72 7.72c-.78.78-.78 2.05 0 2.83L4 21.41c.39.39.9.59 1.41.59.51 0 1.02-.2 1.41-.59l7.78-7.78 2.81-2.81c.8-.78.8-2.07 0-2.86zM5.41 20L4 18.59l7.72-7.72 1.47 1.35L5.41 20z\"/>\n",
              "  </svg>\n",
              "      </button>\n",
              "      \n",
              "  <style>\n",
              "    .colab-df-container {\n",
              "      display:flex;\n",
              "      flex-wrap:wrap;\n",
              "      gap: 12px;\n",
              "    }\n",
              "\n",
              "    .colab-df-convert {\n",
              "      background-color: #E8F0FE;\n",
              "      border: none;\n",
              "      border-radius: 50%;\n",
              "      cursor: pointer;\n",
              "      display: none;\n",
              "      fill: #1967D2;\n",
              "      height: 32px;\n",
              "      padding: 0 0 0 0;\n",
              "      width: 32px;\n",
              "    }\n",
              "\n",
              "    .colab-df-convert:hover {\n",
              "      background-color: #E2EBFA;\n",
              "      box-shadow: 0px 1px 2px rgba(60, 64, 67, 0.3), 0px 1px 3px 1px rgba(60, 64, 67, 0.15);\n",
              "      fill: #174EA6;\n",
              "    }\n",
              "\n",
              "    [theme=dark] .colab-df-convert {\n",
              "      background-color: #3B4455;\n",
              "      fill: #D2E3FC;\n",
              "    }\n",
              "\n",
              "    [theme=dark] .colab-df-convert:hover {\n",
              "      background-color: #434B5C;\n",
              "      box-shadow: 0px 1px 3px 1px rgba(0, 0, 0, 0.15);\n",
              "      filter: drop-shadow(0px 1px 2px rgba(0, 0, 0, 0.3));\n",
              "      fill: #FFFFFF;\n",
              "    }\n",
              "  </style>\n",
              "\n",
              "      <script>\n",
              "        const buttonEl =\n",
              "          document.querySelector('#df-856d2f17-9356-4b83-847b-1fbdd87a68c6 button.colab-df-convert');\n",
              "        buttonEl.style.display =\n",
              "          google.colab.kernel.accessAllowed ? 'block' : 'none';\n",
              "\n",
              "        async function convertToInteractive(key) {\n",
              "          const element = document.querySelector('#df-856d2f17-9356-4b83-847b-1fbdd87a68c6');\n",
              "          const dataTable =\n",
              "            await google.colab.kernel.invokeFunction('convertToInteractive',\n",
              "                                                     [key], {});\n",
              "          if (!dataTable) return;\n",
              "\n",
              "          const docLinkHtml = 'Like what you see? Visit the ' +\n",
              "            '<a target=\"_blank\" href=https://colab.research.google.com/notebooks/data_table.ipynb>data table notebook</a>'\n",
              "            + ' to learn more about interactive tables.';\n",
              "          element.innerHTML = '';\n",
              "          dataTable['output_type'] = 'display_data';\n",
              "          await google.colab.output.renderOutput(dataTable, element);\n",
              "          const docLink = document.createElement('div');\n",
              "          docLink.innerHTML = docLinkHtml;\n",
              "          element.appendChild(docLink);\n",
              "        }\n",
              "      </script>\n",
              "    </div>\n",
              "  </div>\n",
              "  "
            ],
            "text/plain": [
              "  ClaimNumber  ... UltimateIncurredClaimCost\n",
              "0   WC8205482  ...               4748.203388\n",
              "1   WC6922469  ...               6326.285819\n",
              "2   WC5442654  ...               2293.949087\n",
              "3   WC9796897  ...              17786.487170\n",
              "4   WC2603726  ...               4014.002925\n",
              "\n",
              "[5 rows x 15 columns]"
            ]
          },
          "metadata": {},
          "execution_count": 3
        }
      ]
    },
    {
      "cell_type": "markdown",
      "metadata": {
        "id": "ZBwLYis_Hxx-"
      },
      "source": [
        "The training set containing 30,000 insurance policies that you can use to train your model.\n",
        "\n",
        "**Data fields**\n",
        "\n",
        "-  ClaimNumber: Unique policy identifier\n",
        "- DateTimeOfAccident: Date and time of accident\n",
        "- DateReported: Date that accident was reported\n",
        "- Age: Age of worker\n",
        "- Gender: Gender of worker\n",
        "- MaritalStatus: Martial status of worker. (M)arried, (S)ingle, (U)unknown.\n",
        "- DependentChildren: The number of dependent children\n",
        "- DependentsOther: The number of dependants excluding children\n",
        "- WeeklyWages: Total weekly wage\n",
        "- PartTimeFullTime: Binary (P) or (F)\n",
        "- HoursWorkedPerWeek: Total hours worked per week\n",
        "- DaysWorkedPerWeek: Number of days worked per week\n",
        "- ClaimDescription: Free text description of the claim\n",
        "- InitialIncurredClaimCost: Initial estimate by the insurer of the claim cost\n",
        "- **UltimateIncurredClaimCost**: Total claims payments by the insurance company. This is the field you are asked to predict in the test set."
      ]
    },
    {
      "cell_type": "code",
      "metadata": {
        "colab": {
          "base_uri": "https://localhost:8080/"
        },
        "id": "xo8mIxNfG1QI",
        "outputId": "f9afd4a5-e707-4a21-f829-9d6f5191d172"
      },
      "source": [
        "df.columns"
      ],
      "execution_count": 4,
      "outputs": [
        {
          "output_type": "execute_result",
          "data": {
            "text/plain": [
              "Index(['ClaimNumber', 'DateTimeOfAccident', 'DateReported', 'Age', 'Gender',\n",
              "       'MaritalStatus', 'DependentChildren', 'DependentsOther', 'WeeklyWages',\n",
              "       'PartTimeFullTime', 'HoursWorkedPerWeek', 'DaysWorkedPerWeek',\n",
              "       'ClaimDescription', 'InitialIncurredCalimsCost',\n",
              "       'UltimateIncurredClaimCost'],\n",
              "      dtype='object')"
            ]
          },
          "metadata": {},
          "execution_count": 4
        }
      ]
    },
    {
      "cell_type": "code",
      "metadata": {
        "colab": {
          "base_uri": "https://localhost:8080/",
          "height": 477
        },
        "id": "7lLOI06NI-RP",
        "outputId": "06088372-d973-4acc-936a-f4fb095ddb48"
      },
      "source": [
        "df.head()"
      ],
      "execution_count": 5,
      "outputs": [
        {
          "output_type": "execute_result",
          "data": {
            "text/html": [
              "\n",
              "  <div id=\"df-d401660c-5117-453f-8a52-ce1dc0648036\">\n",
              "    <div class=\"colab-df-container\">\n",
              "      <div>\n",
              "<style scoped>\n",
              "    .dataframe tbody tr th:only-of-type {\n",
              "        vertical-align: middle;\n",
              "    }\n",
              "\n",
              "    .dataframe tbody tr th {\n",
              "        vertical-align: top;\n",
              "    }\n",
              "\n",
              "    .dataframe thead th {\n",
              "        text-align: right;\n",
              "    }\n",
              "</style>\n",
              "<table border=\"1\" class=\"dataframe\">\n",
              "  <thead>\n",
              "    <tr style=\"text-align: right;\">\n",
              "      <th></th>\n",
              "      <th>ClaimNumber</th>\n",
              "      <th>DateTimeOfAccident</th>\n",
              "      <th>DateReported</th>\n",
              "      <th>Age</th>\n",
              "      <th>Gender</th>\n",
              "      <th>MaritalStatus</th>\n",
              "      <th>DependentChildren</th>\n",
              "      <th>DependentsOther</th>\n",
              "      <th>WeeklyWages</th>\n",
              "      <th>PartTimeFullTime</th>\n",
              "      <th>HoursWorkedPerWeek</th>\n",
              "      <th>DaysWorkedPerWeek</th>\n",
              "      <th>ClaimDescription</th>\n",
              "      <th>InitialIncurredCalimsCost</th>\n",
              "      <th>UltimateIncurredClaimCost</th>\n",
              "    </tr>\n",
              "  </thead>\n",
              "  <tbody>\n",
              "    <tr>\n",
              "      <th>0</th>\n",
              "      <td>WC8205482</td>\n",
              "      <td>2002-04-09T07:00:00Z</td>\n",
              "      <td>2002-07-05T00:00:00Z</td>\n",
              "      <td>48</td>\n",
              "      <td>M</td>\n",
              "      <td>M</td>\n",
              "      <td>0</td>\n",
              "      <td>0</td>\n",
              "      <td>500.00</td>\n",
              "      <td>F</td>\n",
              "      <td>38.0</td>\n",
              "      <td>5</td>\n",
              "      <td>LIFTING TYRE INJURY TO RIGHT ARM AND WRIST INJURY</td>\n",
              "      <td>1500</td>\n",
              "      <td>4748.203388</td>\n",
              "    </tr>\n",
              "    <tr>\n",
              "      <th>1</th>\n",
              "      <td>WC6922469</td>\n",
              "      <td>1999-01-07T11:00:00Z</td>\n",
              "      <td>1999-01-20T00:00:00Z</td>\n",
              "      <td>43</td>\n",
              "      <td>F</td>\n",
              "      <td>M</td>\n",
              "      <td>0</td>\n",
              "      <td>0</td>\n",
              "      <td>509.34</td>\n",
              "      <td>F</td>\n",
              "      <td>37.5</td>\n",
              "      <td>5</td>\n",
              "      <td>STEPPED AROUND CRATES AND TRUCK TRAY FRACTURE ...</td>\n",
              "      <td>5500</td>\n",
              "      <td>6326.285819</td>\n",
              "    </tr>\n",
              "    <tr>\n",
              "      <th>2</th>\n",
              "      <td>WC5442654</td>\n",
              "      <td>1996-03-25T00:00:00Z</td>\n",
              "      <td>1996-04-14T00:00:00Z</td>\n",
              "      <td>30</td>\n",
              "      <td>M</td>\n",
              "      <td>U</td>\n",
              "      <td>0</td>\n",
              "      <td>0</td>\n",
              "      <td>709.10</td>\n",
              "      <td>F</td>\n",
              "      <td>38.0</td>\n",
              "      <td>5</td>\n",
              "      <td>CUT ON SHARP EDGE CUT LEFT THUMB</td>\n",
              "      <td>1700</td>\n",
              "      <td>2293.949087</td>\n",
              "    </tr>\n",
              "    <tr>\n",
              "      <th>3</th>\n",
              "      <td>WC9796897</td>\n",
              "      <td>2005-06-22T13:00:00Z</td>\n",
              "      <td>2005-07-22T00:00:00Z</td>\n",
              "      <td>41</td>\n",
              "      <td>M</td>\n",
              "      <td>S</td>\n",
              "      <td>0</td>\n",
              "      <td>0</td>\n",
              "      <td>555.46</td>\n",
              "      <td>F</td>\n",
              "      <td>38.0</td>\n",
              "      <td>5</td>\n",
              "      <td>DIGGING LOWER BACK LOWER BACK STRAIN</td>\n",
              "      <td>15000</td>\n",
              "      <td>17786.487170</td>\n",
              "    </tr>\n",
              "    <tr>\n",
              "      <th>4</th>\n",
              "      <td>WC2603726</td>\n",
              "      <td>1990-08-29T08:00:00Z</td>\n",
              "      <td>1990-09-27T00:00:00Z</td>\n",
              "      <td>36</td>\n",
              "      <td>M</td>\n",
              "      <td>M</td>\n",
              "      <td>0</td>\n",
              "      <td>0</td>\n",
              "      <td>377.10</td>\n",
              "      <td>F</td>\n",
              "      <td>38.0</td>\n",
              "      <td>5</td>\n",
              "      <td>REACHING ABOVE SHOULDER LEVEL ACUTE MUSCLE STR...</td>\n",
              "      <td>2800</td>\n",
              "      <td>4014.002925</td>\n",
              "    </tr>\n",
              "  </tbody>\n",
              "</table>\n",
              "</div>\n",
              "      <button class=\"colab-df-convert\" onclick=\"convertToInteractive('df-d401660c-5117-453f-8a52-ce1dc0648036')\"\n",
              "              title=\"Convert this dataframe to an interactive table.\"\n",
              "              style=\"display:none;\">\n",
              "        \n",
              "  <svg xmlns=\"http://www.w3.org/2000/svg\" height=\"24px\"viewBox=\"0 0 24 24\"\n",
              "       width=\"24px\">\n",
              "    <path d=\"M0 0h24v24H0V0z\" fill=\"none\"/>\n",
              "    <path d=\"M18.56 5.44l.94 2.06.94-2.06 2.06-.94-2.06-.94-.94-2.06-.94 2.06-2.06.94zm-11 1L8.5 8.5l.94-2.06 2.06-.94-2.06-.94L8.5 2.5l-.94 2.06-2.06.94zm10 10l.94 2.06.94-2.06 2.06-.94-2.06-.94-.94-2.06-.94 2.06-2.06.94z\"/><path d=\"M17.41 7.96l-1.37-1.37c-.4-.4-.92-.59-1.43-.59-.52 0-1.04.2-1.43.59L10.3 9.45l-7.72 7.72c-.78.78-.78 2.05 0 2.83L4 21.41c.39.39.9.59 1.41.59.51 0 1.02-.2 1.41-.59l7.78-7.78 2.81-2.81c.8-.78.8-2.07 0-2.86zM5.41 20L4 18.59l7.72-7.72 1.47 1.35L5.41 20z\"/>\n",
              "  </svg>\n",
              "      </button>\n",
              "      \n",
              "  <style>\n",
              "    .colab-df-container {\n",
              "      display:flex;\n",
              "      flex-wrap:wrap;\n",
              "      gap: 12px;\n",
              "    }\n",
              "\n",
              "    .colab-df-convert {\n",
              "      background-color: #E8F0FE;\n",
              "      border: none;\n",
              "      border-radius: 50%;\n",
              "      cursor: pointer;\n",
              "      display: none;\n",
              "      fill: #1967D2;\n",
              "      height: 32px;\n",
              "      padding: 0 0 0 0;\n",
              "      width: 32px;\n",
              "    }\n",
              "\n",
              "    .colab-df-convert:hover {\n",
              "      background-color: #E2EBFA;\n",
              "      box-shadow: 0px 1px 2px rgba(60, 64, 67, 0.3), 0px 1px 3px 1px rgba(60, 64, 67, 0.15);\n",
              "      fill: #174EA6;\n",
              "    }\n",
              "\n",
              "    [theme=dark] .colab-df-convert {\n",
              "      background-color: #3B4455;\n",
              "      fill: #D2E3FC;\n",
              "    }\n",
              "\n",
              "    [theme=dark] .colab-df-convert:hover {\n",
              "      background-color: #434B5C;\n",
              "      box-shadow: 0px 1px 3px 1px rgba(0, 0, 0, 0.15);\n",
              "      filter: drop-shadow(0px 1px 2px rgba(0, 0, 0, 0.3));\n",
              "      fill: #FFFFFF;\n",
              "    }\n",
              "  </style>\n",
              "\n",
              "      <script>\n",
              "        const buttonEl =\n",
              "          document.querySelector('#df-d401660c-5117-453f-8a52-ce1dc0648036 button.colab-df-convert');\n",
              "        buttonEl.style.display =\n",
              "          google.colab.kernel.accessAllowed ? 'block' : 'none';\n",
              "\n",
              "        async function convertToInteractive(key) {\n",
              "          const element = document.querySelector('#df-d401660c-5117-453f-8a52-ce1dc0648036');\n",
              "          const dataTable =\n",
              "            await google.colab.kernel.invokeFunction('convertToInteractive',\n",
              "                                                     [key], {});\n",
              "          if (!dataTable) return;\n",
              "\n",
              "          const docLinkHtml = 'Like what you see? Visit the ' +\n",
              "            '<a target=\"_blank\" href=https://colab.research.google.com/notebooks/data_table.ipynb>data table notebook</a>'\n",
              "            + ' to learn more about interactive tables.';\n",
              "          element.innerHTML = '';\n",
              "          dataTable['output_type'] = 'display_data';\n",
              "          await google.colab.output.renderOutput(dataTable, element);\n",
              "          const docLink = document.createElement('div');\n",
              "          docLink.innerHTML = docLinkHtml;\n",
              "          element.appendChild(docLink);\n",
              "        }\n",
              "      </script>\n",
              "    </div>\n",
              "  </div>\n",
              "  "
            ],
            "text/plain": [
              "  ClaimNumber  ... UltimateIncurredClaimCost\n",
              "0   WC8205482  ...               4748.203388\n",
              "1   WC6922469  ...               6326.285819\n",
              "2   WC5442654  ...               2293.949087\n",
              "3   WC9796897  ...              17786.487170\n",
              "4   WC2603726  ...               4014.002925\n",
              "\n",
              "[5 rows x 15 columns]"
            ]
          },
          "metadata": {},
          "execution_count": 5
        }
      ]
    },
    {
      "cell_type": "markdown",
      "metadata": {
        "id": "2FXmzPmmIQZY"
      },
      "source": [
        "## Preprocessing\n",
        "\n",
        "We transform the data in order to allow us the posterior use of the algorithms to build prediction models, for example, missing values, from categories to numbers, ...\n",
        "\n"
      ]
    },
    {
      "cell_type": "markdown",
      "metadata": {
        "id": "rNrdJPQzxQlr"
      },
      "source": [
        "### Missing Values"
      ]
    },
    {
      "cell_type": "markdown",
      "metadata": {
        "id": "Mbxp48a6w0c3"
      },
      "source": [
        "It is necessary to address the missing values to improve the quality of the data that will be used to generate the models. "
      ]
    },
    {
      "cell_type": "code",
      "metadata": {
        "colab": {
          "base_uri": "https://localhost:8080/"
        },
        "id": "iI2ncaH7w5Z_",
        "outputId": "8c3d90d3-b7c3-4c99-ea24-7d1442967124"
      },
      "source": [
        "df.shape"
      ],
      "execution_count": 6,
      "outputs": [
        {
          "output_type": "execute_result",
          "data": {
            "text/plain": [
              "(36176, 15)"
            ]
          },
          "metadata": {},
          "execution_count": 6
        }
      ]
    },
    {
      "cell_type": "code",
      "metadata": {
        "colab": {
          "base_uri": "https://localhost:8080/"
        },
        "id": "Sm17UcXKwt2Z",
        "outputId": "af50f580-0af1-4667-9db4-83657db7a19d"
      },
      "source": [
        "pd.isnull(df).any()"
      ],
      "execution_count": 7,
      "outputs": [
        {
          "output_type": "execute_result",
          "data": {
            "text/plain": [
              "ClaimNumber                  False\n",
              "DateTimeOfAccident           False\n",
              "DateReported                 False\n",
              "Age                          False\n",
              "Gender                       False\n",
              "MaritalStatus                 True\n",
              "DependentChildren            False\n",
              "DependentsOther              False\n",
              "WeeklyWages                   True\n",
              "PartTimeFullTime             False\n",
              "HoursWorkedPerWeek            True\n",
              "DaysWorkedPerWeek            False\n",
              "ClaimDescription             False\n",
              "InitialIncurredCalimsCost    False\n",
              "UltimateIncurredClaimCost    False\n",
              "dtype: bool"
            ]
          },
          "metadata": {},
          "execution_count": 7
        }
      ]
    },
    {
      "cell_type": "code",
      "metadata": {
        "id": "g6UCt-5Nw8LD"
      },
      "source": [
        "df.dropna(axis=0, how='any', thresh=None, subset=None, inplace=True)"
      ],
      "execution_count": 8,
      "outputs": []
    },
    {
      "cell_type": "code",
      "metadata": {
        "colab": {
          "base_uri": "https://localhost:8080/"
        },
        "id": "Q3NBTGXQxMKj",
        "outputId": "53be923f-57a5-4a1e-a8a8-ecd4863732a8"
      },
      "source": [
        "df.shape"
      ],
      "execution_count": 9,
      "outputs": [
        {
          "output_type": "execute_result",
          "data": {
            "text/plain": [
              "(36049, 15)"
            ]
          },
          "metadata": {},
          "execution_count": 9
        }
      ]
    },
    {
      "cell_type": "markdown",
      "metadata": {
        "id": "-QBuZHrztPli"
      },
      "source": [
        "### OneHotEncoding \n",
        "\n",
        "[OneHotEncoding](https://scikit-learn.org/stable/modules/generated/sklearn.preprocessing.OneHotEncoder.html)"
      ]
    },
    {
      "cell_type": "code",
      "metadata": {
        "colab": {
          "base_uri": "https://localhost:8080/",
          "height": 419
        },
        "id": "uBo2_XBEKxgn",
        "outputId": "96562f34-e62c-4ddd-d554-69dcf5d0a974"
      },
      "source": [
        "df_OneHot = pd.get_dummies(df[['Gender','MaritalStatus', 'PartTimeFullTime']])\n",
        "df_OneHot"
      ],
      "execution_count": 10,
      "outputs": [
        {
          "output_type": "execute_result",
          "data": {
            "text/html": [
              "\n",
              "  <div id=\"df-15a6826b-561d-456f-b3f9-a6bdce117bb1\">\n",
              "    <div class=\"colab-df-container\">\n",
              "      <div>\n",
              "<style scoped>\n",
              "    .dataframe tbody tr th:only-of-type {\n",
              "        vertical-align: middle;\n",
              "    }\n",
              "\n",
              "    .dataframe tbody tr th {\n",
              "        vertical-align: top;\n",
              "    }\n",
              "\n",
              "    .dataframe thead th {\n",
              "        text-align: right;\n",
              "    }\n",
              "</style>\n",
              "<table border=\"1\" class=\"dataframe\">\n",
              "  <thead>\n",
              "    <tr style=\"text-align: right;\">\n",
              "      <th></th>\n",
              "      <th>Gender_F</th>\n",
              "      <th>Gender_M</th>\n",
              "      <th>Gender_U</th>\n",
              "      <th>MaritalStatus_M</th>\n",
              "      <th>MaritalStatus_S</th>\n",
              "      <th>MaritalStatus_U</th>\n",
              "      <th>PartTimeFullTime_F</th>\n",
              "      <th>PartTimeFullTime_P</th>\n",
              "    </tr>\n",
              "  </thead>\n",
              "  <tbody>\n",
              "    <tr>\n",
              "      <th>0</th>\n",
              "      <td>0</td>\n",
              "      <td>1</td>\n",
              "      <td>0</td>\n",
              "      <td>1</td>\n",
              "      <td>0</td>\n",
              "      <td>0</td>\n",
              "      <td>1</td>\n",
              "      <td>0</td>\n",
              "    </tr>\n",
              "    <tr>\n",
              "      <th>1</th>\n",
              "      <td>1</td>\n",
              "      <td>0</td>\n",
              "      <td>0</td>\n",
              "      <td>1</td>\n",
              "      <td>0</td>\n",
              "      <td>0</td>\n",
              "      <td>1</td>\n",
              "      <td>0</td>\n",
              "    </tr>\n",
              "    <tr>\n",
              "      <th>2</th>\n",
              "      <td>0</td>\n",
              "      <td>1</td>\n",
              "      <td>0</td>\n",
              "      <td>0</td>\n",
              "      <td>0</td>\n",
              "      <td>1</td>\n",
              "      <td>1</td>\n",
              "      <td>0</td>\n",
              "    </tr>\n",
              "    <tr>\n",
              "      <th>3</th>\n",
              "      <td>0</td>\n",
              "      <td>1</td>\n",
              "      <td>0</td>\n",
              "      <td>0</td>\n",
              "      <td>1</td>\n",
              "      <td>0</td>\n",
              "      <td>1</td>\n",
              "      <td>0</td>\n",
              "    </tr>\n",
              "    <tr>\n",
              "      <th>4</th>\n",
              "      <td>0</td>\n",
              "      <td>1</td>\n",
              "      <td>0</td>\n",
              "      <td>1</td>\n",
              "      <td>0</td>\n",
              "      <td>0</td>\n",
              "      <td>1</td>\n",
              "      <td>0</td>\n",
              "    </tr>\n",
              "    <tr>\n",
              "      <th>...</th>\n",
              "      <td>...</td>\n",
              "      <td>...</td>\n",
              "      <td>...</td>\n",
              "      <td>...</td>\n",
              "      <td>...</td>\n",
              "      <td>...</td>\n",
              "      <td>...</td>\n",
              "      <td>...</td>\n",
              "    </tr>\n",
              "    <tr>\n",
              "      <th>36171</th>\n",
              "      <td>1</td>\n",
              "      <td>0</td>\n",
              "      <td>0</td>\n",
              "      <td>0</td>\n",
              "      <td>1</td>\n",
              "      <td>0</td>\n",
              "      <td>1</td>\n",
              "      <td>0</td>\n",
              "    </tr>\n",
              "    <tr>\n",
              "      <th>36172</th>\n",
              "      <td>0</td>\n",
              "      <td>1</td>\n",
              "      <td>0</td>\n",
              "      <td>1</td>\n",
              "      <td>0</td>\n",
              "      <td>0</td>\n",
              "      <td>1</td>\n",
              "      <td>0</td>\n",
              "    </tr>\n",
              "    <tr>\n",
              "      <th>36173</th>\n",
              "      <td>1</td>\n",
              "      <td>0</td>\n",
              "      <td>0</td>\n",
              "      <td>1</td>\n",
              "      <td>0</td>\n",
              "      <td>0</td>\n",
              "      <td>0</td>\n",
              "      <td>1</td>\n",
              "    </tr>\n",
              "    <tr>\n",
              "      <th>36174</th>\n",
              "      <td>0</td>\n",
              "      <td>1</td>\n",
              "      <td>0</td>\n",
              "      <td>1</td>\n",
              "      <td>0</td>\n",
              "      <td>0</td>\n",
              "      <td>1</td>\n",
              "      <td>0</td>\n",
              "    </tr>\n",
              "    <tr>\n",
              "      <th>36175</th>\n",
              "      <td>0</td>\n",
              "      <td>1</td>\n",
              "      <td>0</td>\n",
              "      <td>0</td>\n",
              "      <td>1</td>\n",
              "      <td>0</td>\n",
              "      <td>1</td>\n",
              "      <td>0</td>\n",
              "    </tr>\n",
              "  </tbody>\n",
              "</table>\n",
              "<p>36049 rows × 8 columns</p>\n",
              "</div>\n",
              "      <button class=\"colab-df-convert\" onclick=\"convertToInteractive('df-15a6826b-561d-456f-b3f9-a6bdce117bb1')\"\n",
              "              title=\"Convert this dataframe to an interactive table.\"\n",
              "              style=\"display:none;\">\n",
              "        \n",
              "  <svg xmlns=\"http://www.w3.org/2000/svg\" height=\"24px\"viewBox=\"0 0 24 24\"\n",
              "       width=\"24px\">\n",
              "    <path d=\"M0 0h24v24H0V0z\" fill=\"none\"/>\n",
              "    <path d=\"M18.56 5.44l.94 2.06.94-2.06 2.06-.94-2.06-.94-.94-2.06-.94 2.06-2.06.94zm-11 1L8.5 8.5l.94-2.06 2.06-.94-2.06-.94L8.5 2.5l-.94 2.06-2.06.94zm10 10l.94 2.06.94-2.06 2.06-.94-2.06-.94-.94-2.06-.94 2.06-2.06.94z\"/><path d=\"M17.41 7.96l-1.37-1.37c-.4-.4-.92-.59-1.43-.59-.52 0-1.04.2-1.43.59L10.3 9.45l-7.72 7.72c-.78.78-.78 2.05 0 2.83L4 21.41c.39.39.9.59 1.41.59.51 0 1.02-.2 1.41-.59l7.78-7.78 2.81-2.81c.8-.78.8-2.07 0-2.86zM5.41 20L4 18.59l7.72-7.72 1.47 1.35L5.41 20z\"/>\n",
              "  </svg>\n",
              "      </button>\n",
              "      \n",
              "  <style>\n",
              "    .colab-df-container {\n",
              "      display:flex;\n",
              "      flex-wrap:wrap;\n",
              "      gap: 12px;\n",
              "    }\n",
              "\n",
              "    .colab-df-convert {\n",
              "      background-color: #E8F0FE;\n",
              "      border: none;\n",
              "      border-radius: 50%;\n",
              "      cursor: pointer;\n",
              "      display: none;\n",
              "      fill: #1967D2;\n",
              "      height: 32px;\n",
              "      padding: 0 0 0 0;\n",
              "      width: 32px;\n",
              "    }\n",
              "\n",
              "    .colab-df-convert:hover {\n",
              "      background-color: #E2EBFA;\n",
              "      box-shadow: 0px 1px 2px rgba(60, 64, 67, 0.3), 0px 1px 3px 1px rgba(60, 64, 67, 0.15);\n",
              "      fill: #174EA6;\n",
              "    }\n",
              "\n",
              "    [theme=dark] .colab-df-convert {\n",
              "      background-color: #3B4455;\n",
              "      fill: #D2E3FC;\n",
              "    }\n",
              "\n",
              "    [theme=dark] .colab-df-convert:hover {\n",
              "      background-color: #434B5C;\n",
              "      box-shadow: 0px 1px 3px 1px rgba(0, 0, 0, 0.15);\n",
              "      filter: drop-shadow(0px 1px 2px rgba(0, 0, 0, 0.3));\n",
              "      fill: #FFFFFF;\n",
              "    }\n",
              "  </style>\n",
              "\n",
              "      <script>\n",
              "        const buttonEl =\n",
              "          document.querySelector('#df-15a6826b-561d-456f-b3f9-a6bdce117bb1 button.colab-df-convert');\n",
              "        buttonEl.style.display =\n",
              "          google.colab.kernel.accessAllowed ? 'block' : 'none';\n",
              "\n",
              "        async function convertToInteractive(key) {\n",
              "          const element = document.querySelector('#df-15a6826b-561d-456f-b3f9-a6bdce117bb1');\n",
              "          const dataTable =\n",
              "            await google.colab.kernel.invokeFunction('convertToInteractive',\n",
              "                                                     [key], {});\n",
              "          if (!dataTable) return;\n",
              "\n",
              "          const docLinkHtml = 'Like what you see? Visit the ' +\n",
              "            '<a target=\"_blank\" href=https://colab.research.google.com/notebooks/data_table.ipynb>data table notebook</a>'\n",
              "            + ' to learn more about interactive tables.';\n",
              "          element.innerHTML = '';\n",
              "          dataTable['output_type'] = 'display_data';\n",
              "          await google.colab.output.renderOutput(dataTable, element);\n",
              "          const docLink = document.createElement('div');\n",
              "          docLink.innerHTML = docLinkHtml;\n",
              "          element.appendChild(docLink);\n",
              "        }\n",
              "      </script>\n",
              "    </div>\n",
              "  </div>\n",
              "  "
            ],
            "text/plain": [
              "       Gender_F  Gender_M  ...  PartTimeFullTime_F  PartTimeFullTime_P\n",
              "0             0         1  ...                   1                   0\n",
              "1             1         0  ...                   1                   0\n",
              "2             0         1  ...                   1                   0\n",
              "3             0         1  ...                   1                   0\n",
              "4             0         1  ...                   1                   0\n",
              "...         ...       ...  ...                 ...                 ...\n",
              "36171         1         0  ...                   1                   0\n",
              "36172         0         1  ...                   1                   0\n",
              "36173         1         0  ...                   0                   1\n",
              "36174         0         1  ...                   1                   0\n",
              "36175         0         1  ...                   1                   0\n",
              "\n",
              "[36049 rows x 8 columns]"
            ]
          },
          "metadata": {},
          "execution_count": 10
        }
      ]
    },
    {
      "cell_type": "markdown",
      "metadata": {
        "id": "fiYq75iNhSqB"
      },
      "source": [
        "> At the begining only the numerical and the encoded features must be considered.\n",
        "\n",
        "> At the end of the work you can include text, date information and so on."
      ]
    },
    {
      "cell_type": "code",
      "metadata": {
        "colab": {
          "base_uri": "https://localhost:8080/",
          "height": 477
        },
        "id": "yXDuAG8jvK3W",
        "outputId": "d79221da-0968-42b4-d127-511af053415c"
      },
      "source": [
        "df_full = pd.concat([df, df_OneHot], axis = 1)\n",
        "df_full.head()"
      ],
      "execution_count": 11,
      "outputs": [
        {
          "output_type": "execute_result",
          "data": {
            "text/html": [
              "\n",
              "  <div id=\"df-0facd0f6-80b4-4cdd-9048-a9e95873d69f\">\n",
              "    <div class=\"colab-df-container\">\n",
              "      <div>\n",
              "<style scoped>\n",
              "    .dataframe tbody tr th:only-of-type {\n",
              "        vertical-align: middle;\n",
              "    }\n",
              "\n",
              "    .dataframe tbody tr th {\n",
              "        vertical-align: top;\n",
              "    }\n",
              "\n",
              "    .dataframe thead th {\n",
              "        text-align: right;\n",
              "    }\n",
              "</style>\n",
              "<table border=\"1\" class=\"dataframe\">\n",
              "  <thead>\n",
              "    <tr style=\"text-align: right;\">\n",
              "      <th></th>\n",
              "      <th>ClaimNumber</th>\n",
              "      <th>DateTimeOfAccident</th>\n",
              "      <th>DateReported</th>\n",
              "      <th>Age</th>\n",
              "      <th>Gender</th>\n",
              "      <th>MaritalStatus</th>\n",
              "      <th>DependentChildren</th>\n",
              "      <th>DependentsOther</th>\n",
              "      <th>WeeklyWages</th>\n",
              "      <th>PartTimeFullTime</th>\n",
              "      <th>HoursWorkedPerWeek</th>\n",
              "      <th>DaysWorkedPerWeek</th>\n",
              "      <th>ClaimDescription</th>\n",
              "      <th>InitialIncurredCalimsCost</th>\n",
              "      <th>UltimateIncurredClaimCost</th>\n",
              "      <th>Gender_F</th>\n",
              "      <th>Gender_M</th>\n",
              "      <th>Gender_U</th>\n",
              "      <th>MaritalStatus_M</th>\n",
              "      <th>MaritalStatus_S</th>\n",
              "      <th>MaritalStatus_U</th>\n",
              "      <th>PartTimeFullTime_F</th>\n",
              "      <th>PartTimeFullTime_P</th>\n",
              "    </tr>\n",
              "  </thead>\n",
              "  <tbody>\n",
              "    <tr>\n",
              "      <th>0</th>\n",
              "      <td>WC8205482</td>\n",
              "      <td>2002-04-09T07:00:00Z</td>\n",
              "      <td>2002-07-05T00:00:00Z</td>\n",
              "      <td>48</td>\n",
              "      <td>M</td>\n",
              "      <td>M</td>\n",
              "      <td>0</td>\n",
              "      <td>0</td>\n",
              "      <td>500.00</td>\n",
              "      <td>F</td>\n",
              "      <td>38.0</td>\n",
              "      <td>5</td>\n",
              "      <td>LIFTING TYRE INJURY TO RIGHT ARM AND WRIST INJURY</td>\n",
              "      <td>1500</td>\n",
              "      <td>4748.203388</td>\n",
              "      <td>0</td>\n",
              "      <td>1</td>\n",
              "      <td>0</td>\n",
              "      <td>1</td>\n",
              "      <td>0</td>\n",
              "      <td>0</td>\n",
              "      <td>1</td>\n",
              "      <td>0</td>\n",
              "    </tr>\n",
              "    <tr>\n",
              "      <th>1</th>\n",
              "      <td>WC6922469</td>\n",
              "      <td>1999-01-07T11:00:00Z</td>\n",
              "      <td>1999-01-20T00:00:00Z</td>\n",
              "      <td>43</td>\n",
              "      <td>F</td>\n",
              "      <td>M</td>\n",
              "      <td>0</td>\n",
              "      <td>0</td>\n",
              "      <td>509.34</td>\n",
              "      <td>F</td>\n",
              "      <td>37.5</td>\n",
              "      <td>5</td>\n",
              "      <td>STEPPED AROUND CRATES AND TRUCK TRAY FRACTURE ...</td>\n",
              "      <td>5500</td>\n",
              "      <td>6326.285819</td>\n",
              "      <td>1</td>\n",
              "      <td>0</td>\n",
              "      <td>0</td>\n",
              "      <td>1</td>\n",
              "      <td>0</td>\n",
              "      <td>0</td>\n",
              "      <td>1</td>\n",
              "      <td>0</td>\n",
              "    </tr>\n",
              "    <tr>\n",
              "      <th>2</th>\n",
              "      <td>WC5442654</td>\n",
              "      <td>1996-03-25T00:00:00Z</td>\n",
              "      <td>1996-04-14T00:00:00Z</td>\n",
              "      <td>30</td>\n",
              "      <td>M</td>\n",
              "      <td>U</td>\n",
              "      <td>0</td>\n",
              "      <td>0</td>\n",
              "      <td>709.10</td>\n",
              "      <td>F</td>\n",
              "      <td>38.0</td>\n",
              "      <td>5</td>\n",
              "      <td>CUT ON SHARP EDGE CUT LEFT THUMB</td>\n",
              "      <td>1700</td>\n",
              "      <td>2293.949087</td>\n",
              "      <td>0</td>\n",
              "      <td>1</td>\n",
              "      <td>0</td>\n",
              "      <td>0</td>\n",
              "      <td>0</td>\n",
              "      <td>1</td>\n",
              "      <td>1</td>\n",
              "      <td>0</td>\n",
              "    </tr>\n",
              "    <tr>\n",
              "      <th>3</th>\n",
              "      <td>WC9796897</td>\n",
              "      <td>2005-06-22T13:00:00Z</td>\n",
              "      <td>2005-07-22T00:00:00Z</td>\n",
              "      <td>41</td>\n",
              "      <td>M</td>\n",
              "      <td>S</td>\n",
              "      <td>0</td>\n",
              "      <td>0</td>\n",
              "      <td>555.46</td>\n",
              "      <td>F</td>\n",
              "      <td>38.0</td>\n",
              "      <td>5</td>\n",
              "      <td>DIGGING LOWER BACK LOWER BACK STRAIN</td>\n",
              "      <td>15000</td>\n",
              "      <td>17786.487170</td>\n",
              "      <td>0</td>\n",
              "      <td>1</td>\n",
              "      <td>0</td>\n",
              "      <td>0</td>\n",
              "      <td>1</td>\n",
              "      <td>0</td>\n",
              "      <td>1</td>\n",
              "      <td>0</td>\n",
              "    </tr>\n",
              "    <tr>\n",
              "      <th>4</th>\n",
              "      <td>WC2603726</td>\n",
              "      <td>1990-08-29T08:00:00Z</td>\n",
              "      <td>1990-09-27T00:00:00Z</td>\n",
              "      <td>36</td>\n",
              "      <td>M</td>\n",
              "      <td>M</td>\n",
              "      <td>0</td>\n",
              "      <td>0</td>\n",
              "      <td>377.10</td>\n",
              "      <td>F</td>\n",
              "      <td>38.0</td>\n",
              "      <td>5</td>\n",
              "      <td>REACHING ABOVE SHOULDER LEVEL ACUTE MUSCLE STR...</td>\n",
              "      <td>2800</td>\n",
              "      <td>4014.002925</td>\n",
              "      <td>0</td>\n",
              "      <td>1</td>\n",
              "      <td>0</td>\n",
              "      <td>1</td>\n",
              "      <td>0</td>\n",
              "      <td>0</td>\n",
              "      <td>1</td>\n",
              "      <td>0</td>\n",
              "    </tr>\n",
              "  </tbody>\n",
              "</table>\n",
              "</div>\n",
              "      <button class=\"colab-df-convert\" onclick=\"convertToInteractive('df-0facd0f6-80b4-4cdd-9048-a9e95873d69f')\"\n",
              "              title=\"Convert this dataframe to an interactive table.\"\n",
              "              style=\"display:none;\">\n",
              "        \n",
              "  <svg xmlns=\"http://www.w3.org/2000/svg\" height=\"24px\"viewBox=\"0 0 24 24\"\n",
              "       width=\"24px\">\n",
              "    <path d=\"M0 0h24v24H0V0z\" fill=\"none\"/>\n",
              "    <path d=\"M18.56 5.44l.94 2.06.94-2.06 2.06-.94-2.06-.94-.94-2.06-.94 2.06-2.06.94zm-11 1L8.5 8.5l.94-2.06 2.06-.94-2.06-.94L8.5 2.5l-.94 2.06-2.06.94zm10 10l.94 2.06.94-2.06 2.06-.94-2.06-.94-.94-2.06-.94 2.06-2.06.94z\"/><path d=\"M17.41 7.96l-1.37-1.37c-.4-.4-.92-.59-1.43-.59-.52 0-1.04.2-1.43.59L10.3 9.45l-7.72 7.72c-.78.78-.78 2.05 0 2.83L4 21.41c.39.39.9.59 1.41.59.51 0 1.02-.2 1.41-.59l7.78-7.78 2.81-2.81c.8-.78.8-2.07 0-2.86zM5.41 20L4 18.59l7.72-7.72 1.47 1.35L5.41 20z\"/>\n",
              "  </svg>\n",
              "      </button>\n",
              "      \n",
              "  <style>\n",
              "    .colab-df-container {\n",
              "      display:flex;\n",
              "      flex-wrap:wrap;\n",
              "      gap: 12px;\n",
              "    }\n",
              "\n",
              "    .colab-df-convert {\n",
              "      background-color: #E8F0FE;\n",
              "      border: none;\n",
              "      border-radius: 50%;\n",
              "      cursor: pointer;\n",
              "      display: none;\n",
              "      fill: #1967D2;\n",
              "      height: 32px;\n",
              "      padding: 0 0 0 0;\n",
              "      width: 32px;\n",
              "    }\n",
              "\n",
              "    .colab-df-convert:hover {\n",
              "      background-color: #E2EBFA;\n",
              "      box-shadow: 0px 1px 2px rgba(60, 64, 67, 0.3), 0px 1px 3px 1px rgba(60, 64, 67, 0.15);\n",
              "      fill: #174EA6;\n",
              "    }\n",
              "\n",
              "    [theme=dark] .colab-df-convert {\n",
              "      background-color: #3B4455;\n",
              "      fill: #D2E3FC;\n",
              "    }\n",
              "\n",
              "    [theme=dark] .colab-df-convert:hover {\n",
              "      background-color: #434B5C;\n",
              "      box-shadow: 0px 1px 3px 1px rgba(0, 0, 0, 0.15);\n",
              "      filter: drop-shadow(0px 1px 2px rgba(0, 0, 0, 0.3));\n",
              "      fill: #FFFFFF;\n",
              "    }\n",
              "  </style>\n",
              "\n",
              "      <script>\n",
              "        const buttonEl =\n",
              "          document.querySelector('#df-0facd0f6-80b4-4cdd-9048-a9e95873d69f button.colab-df-convert');\n",
              "        buttonEl.style.display =\n",
              "          google.colab.kernel.accessAllowed ? 'block' : 'none';\n",
              "\n",
              "        async function convertToInteractive(key) {\n",
              "          const element = document.querySelector('#df-0facd0f6-80b4-4cdd-9048-a9e95873d69f');\n",
              "          const dataTable =\n",
              "            await google.colab.kernel.invokeFunction('convertToInteractive',\n",
              "                                                     [key], {});\n",
              "          if (!dataTable) return;\n",
              "\n",
              "          const docLinkHtml = 'Like what you see? Visit the ' +\n",
              "            '<a target=\"_blank\" href=https://colab.research.google.com/notebooks/data_table.ipynb>data table notebook</a>'\n",
              "            + ' to learn more about interactive tables.';\n",
              "          element.innerHTML = '';\n",
              "          dataTable['output_type'] = 'display_data';\n",
              "          await google.colab.output.renderOutput(dataTable, element);\n",
              "          const docLink = document.createElement('div');\n",
              "          docLink.innerHTML = docLinkHtml;\n",
              "          element.appendChild(docLink);\n",
              "        }\n",
              "      </script>\n",
              "    </div>\n",
              "  </div>\n",
              "  "
            ],
            "text/plain": [
              "  ClaimNumber    DateTimeOfAccident  ... PartTimeFullTime_F  PartTimeFullTime_P\n",
              "0   WC8205482  2002-04-09T07:00:00Z  ...                  1                   0\n",
              "1   WC6922469  1999-01-07T11:00:00Z  ...                  1                   0\n",
              "2   WC5442654  1996-03-25T00:00:00Z  ...                  1                   0\n",
              "3   WC9796897  2005-06-22T13:00:00Z  ...                  1                   0\n",
              "4   WC2603726  1990-08-29T08:00:00Z  ...                  1                   0\n",
              "\n",
              "[5 rows x 23 columns]"
            ]
          },
          "metadata": {},
          "execution_count": 11
        }
      ]
    },
    {
      "cell_type": "markdown",
      "metadata": {
        "id": "BCM_nCRZJ4gu"
      },
      "source": [
        "### Train and test split"
      ]
    },
    {
      "cell_type": "code",
      "metadata": {
        "id": "FXbG4xo6L9Hf"
      },
      "source": [
        "x_features = ['WeeklyWages', 'HoursWorkedPerWeek', 'InitialIncurredCalimsCost']\n"
      ],
      "execution_count": 12,
      "outputs": []
    },
    {
      "cell_type": "code",
      "metadata": {
        "id": "Ne6Ymbyirzn-"
      },
      "source": [
        "from sklearn.model_selection import train_test_split\n",
        "X = df[x_features]\n",
        "y = df['UltimateIncurredClaimCost']\n",
        "\n",
        "X_train, X_test, y_train, y_test = train_test_split( X, y, test_size=0.33, random_state=42)\n"
      ],
      "execution_count": 13,
      "outputs": []
    },
    {
      "cell_type": "markdown",
      "metadata": {
        "id": "YiOENl5jr0C3"
      },
      "source": [
        "## Basic Modeling \n",
        "\n",
        "We’ll be exploring Linear Regression using scikit-learn in python.\n",
        "\n",
        "We will use the selected features to predict the results. \n",
        "\n",
        "Linear regression produces a model in the form:\n",
        "\n",
        "\n",
        " $$\n",
        " Y_{t}=\\beta _{0}+\\beta _{1}X_{1}+\\beta _{2}X_{2}+\\cdots +\\beta _{p}X_{p}+\\varepsilon\n",
        " $$\n",
        "\n",
        "The way this is accomplished is by minimising the residual sum of squares, given by the equation below:\n",
        "$$\n",
        "RSS=Σni=1(yi–y^i)2\n",
        "$$\n",
        "\n",
        "$$\n",
        "RSS=Σni=1(yi–β0^–β1^x1–β2^x2–…–βp^xp)\n",
        "$$\n",
        "\n",
        "\n",
        "Scikit-learn provides a LinearRegression function for doing this job.\n",
        "Linear Regression (Dummy Model)"
      ]
    },
    {
      "cell_type": "code",
      "metadata": {
        "colab": {
          "base_uri": "https://localhost:8080/"
        },
        "id": "bwateNbgwgP2",
        "outputId": "b205b497-e61b-4259-8b3a-7a38d21f69b5"
      },
      "source": [
        "from sklearn import linear_model\n",
        "model = linear_model.LinearRegression()\n",
        "model.fit(X_train, y_train)\n"
      ],
      "execution_count": 14,
      "outputs": [
        {
          "output_type": "execute_result",
          "data": {
            "text/plain": [
              "LinearRegression()"
            ]
          },
          "metadata": {},
          "execution_count": 14
        }
      ]
    },
    {
      "cell_type": "markdown",
      "metadata": {
        "id": "s1-7sJbex2GV"
      },
      "source": [
        "Now that our model is trained, we can view the coefficients of the model using regression_model.coef_, which is an array of tuples of coefficients."
      ]
    },
    {
      "cell_type": "code",
      "metadata": {
        "colab": {
          "base_uri": "https://localhost:8080/"
        },
        "id": "XiqrZXoqx6LB",
        "outputId": "683e7b5c-30bc-499e-e9d0-2c7cc0129ba1"
      },
      "source": [
        "for idx, col_name in enumerate(X_train.columns):\n",
        "    print(\"The coefficient for {} is {}\".format(col_name, model.coef_[idx]))"
      ],
      "execution_count": 15,
      "outputs": [
        {
          "output_type": "stream",
          "name": "stdout",
          "text": [
            "The coefficient for WeeklyWages is 9.794779343746388\n",
            "The coefficient for HoursWorkedPerWeek is -25.675661234818307\n",
            "The coefficient for InitialIncurredCalimsCost is 0.7743349854415342\n"
          ]
        }
      ]
    },
    {
      "cell_type": "markdown",
      "metadata": {
        "id": "8IxMzIU5x_6A"
      },
      "source": [
        "Note that, because we’ve not done any feature scaling or dimensionality reduction, we can’t say anything about the relative importance of each of our features given these coefficients because the features are not of the same scale."
      ]
    },
    {
      "cell_type": "code",
      "metadata": {
        "id": "ZBI8gNTLyUP-"
      },
      "source": [
        "y_pred = model.predict(X_test)"
      ],
      "execution_count": 16,
      "outputs": []
    },
    {
      "cell_type": "code",
      "metadata": {
        "colab": {
          "base_uri": "https://localhost:8080/"
        },
        "id": "xgjUsWp9yWj5",
        "outputId": "a443dbe1-7951-4e5b-fda8-5ed404847313"
      },
      "source": [
        "from sklearn import metrics\n",
        "print (\"MAE:\", metrics.mean_absolute_error(y_pred , y_test))\n",
        "print (\"MAPE:\", metrics.mean_absolute_percentage_error(y_pred , y_test))\n",
        "print (\"MSE:\", metrics.mean_squared_error(y_pred , y_test))\n",
        "print (\"R^2:\", metrics.r2_score(y_pred , y_test))\n"
      ],
      "execution_count": 17,
      "outputs": [
        {
          "output_type": "stream",
          "name": "stdout",
          "text": [
            "MAE: 7979.755264779615\n",
            "MAPE: 0.8024366465210745\n",
            "MSE: 547594288.9830517\n",
            "R^2: -1.5990659116870134\n"
          ]
        }
      ]
    },
    {
      "cell_type": "markdown",
      "metadata": {
        "id": "XqeJVOqoIaeT"
      },
      "source": [
        "# 1. BaseLine (kNN or DecisionTrees)"
      ]
    },
    {
      "cell_type": "markdown",
      "metadata": {
        "id": "7SXj3U9SIqvd"
      },
      "source": [
        "- Feature Selection\n",
        "- CrossValidation \n",
        "   - kNN: k, weights, metric (manhattan, euclidean)\n",
        "   - Decisiontrees: max_depth\n"
      ]
    },
    {
      "cell_type": "markdown",
      "source": [
        "####Feature Selection\n"
      ],
      "metadata": {
        "id": "mhjSUYiT4oeO"
      }
    },
    {
      "cell_type": "code",
      "source": [
        "from sklearn.datasets import make_regression\n",
        "from sklearn.model_selection import train_test_split\n",
        "from sklearn.feature_selection import SelectKBest\n",
        "from sklearn.feature_selection import f_regression\n",
        "from matplotlib import pyplot\n",
        " \n",
        "def select_features(X_train, y_train, X_test):\n",
        "\t# configure to select all features\n",
        "\tfs = SelectKBest(score_func=f_regression, k='all')\n",
        "\t# learn relationship from training data\n",
        "\tfs.fit(X_train, y_train)\n",
        "\t# transform train input data\n",
        "\tX_train_fs = fs.transform(X_train)\n",
        "\t# transform test input data\n",
        "\tX_test_fs = fs.transform(X_test)\n",
        "\treturn X_train_fs, X_test_fs, fs\n",
        "\n",
        "X, y = make_regression(n_samples=30000, n_features=14, n_informative=10, noise=0.1, random_state=42)\n",
        "# split into train and test sets\n",
        "X_train, X_test, y_train, y_test = train_test_split(X, y, test_size=0.33, random_state=42)\n",
        "# feature selection\n",
        "X_train_fs, X_test_fs, fs = select_features(X_train, y_train, X_test)\n",
        "# what are scores for the features\n",
        "for i in range(len(fs.scores_)):\n",
        "\tprint('Feature %d: %f' % (i, fs.scores_[i]))\n",
        "# plot the scores\n",
        "pyplot.bar([i for i in range(len(fs.scores_))], fs.scores_)\n",
        "pyplot.show()\n",
        "\n",
        " "
      ],
      "metadata": {
        "id": "yCBLKRrV4tCB",
        "outputId": "ad1a8a32-3492-4527-e6db-230889ab7079",
        "colab": {
          "base_uri": "https://localhost:8080/",
          "height": 503
        }
      },
      "execution_count": 57,
      "outputs": [
        {
          "output_type": "stream",
          "name": "stdout",
          "text": [
            "Feature 0: 0.732583\n",
            "Feature 1: 1564.329098\n",
            "Feature 2: 749.574925\n",
            "Feature 3: 0.279625\n",
            "Feature 4: 0.054579\n",
            "Feature 5: 68.987792\n",
            "Feature 6: 4547.396388\n",
            "Feature 7: 4105.057271\n",
            "Feature 8: 211.976187\n",
            "Feature 9: 4021.261110\n",
            "Feature 10: 4568.377806\n",
            "Feature 11: 0.634457\n",
            "Feature 12: 598.764591\n",
            "Feature 13: 2882.657353\n"
          ]
        },
        {
          "output_type": "display_data",
          "data": {
            "image/png": "[encoded data removed]",
            "text/plain": [
              "<Figure size 432x288 with 1 Axes>"
            ]
          },
          "metadata": {
            "needs_background": "light"
          }
        }
      ]
    },
    {
      "cell_type": "markdown",
      "source": [
        "####Cross validaton\n"
      ],
      "metadata": {
        "id": "ijya0x4P6vQT"
      }
    },
    {
      "cell_type": "code",
      "source": [
        "\n",
        "# evaluate a logistic regression model using repeated k-fold cross-validation\n",
        "from numpy import mean\n",
        "from numpy import std\n",
        "from sklearn.datasets import make_classification\n",
        "from sklearn.model_selection import RepeatedKFold\n",
        "from sklearn.model_selection import cross_val_score\n",
        "from sklearn.linear_model import LogisticRegression\n",
        "from sklearn import metrics\n",
        "\n",
        "\n",
        "cv = KFold(n_splits = 10, shuffle = False)\n",
        "for i, weights in enumerate(['uniform', 'distance']):\n",
        "   total_scores = []\n",
        "   for n_neighbors in range(1,30):\n",
        "       fold_accuracy = []\n",
        "       knn = neighbors.KNeighborsRegressor(n_neighbors, weights=weights)\n",
        "       for train_index, test_index in cv.split(X):\n",
        "          print(\"Train:\", train_index, \"Validation:\",test_index)\n",
        "          X_train, X_test = X[train_index], X[test_index] \n",
        "          y_train, y_test = y[train_index], y[test_index]\n",
        "          # entrenamiento y ejecución del modelo\n",
        "          knn.fit(X_train, y_train)\n",
        "          y_pred = knn.predict(X_test, axis = 1)\n",
        "          # evaluación del modelo\n",
        "          mae = metrics.mean_absolute_error(y_pred , y_test)\n",
        "          fold_accuracy.append(mae)\n",
        "       total_scores.append(sum(fold_accuracy)/len(fold_accuracy))\n",
        "   \n",
        "   plt.plot(range(1,len(total_scores)+1), total_scores, \n",
        "             marker='o', label=weights)\n",
        "   print ('Min Value ' +  weights + \" : \" +  str(min(total_scores)) +\" (\" + str(np.argmin(total_scores) + 1) + \")\")\n",
        "   plt.ylabel('MAE')      \n",
        "    \n",
        "\n",
        "plt.legend()\n",
        "plt.show() \n"
      ],
      "metadata": {
        "id": "jhq1u5kr6Jqk",
        "outputId": "2b703459-0b38-4dee-d73a-0bb7fa669438",
        "colab": {
          "base_uri": "https://localhost:8080/",
          "height": 1000
        }
      },
      "execution_count": 64,
      "outputs": [
        {
          "output_type": "stream",
          "name": "stdout",
          "text": [
            "Train: [ 3000  3001  3002 ... 29997 29998 29999] Validation: [   0    1    2 ... 2997 2998 2999]\n",
            "Train: [    0     1     2 ... 29997 29998 29999] Validation: [3000 3001 3002 ... 5997 5998 5999]\n",
            "Train: [    0     1     2 ... 29997 29998 29999] Validation: [6000 6001 6002 ... 8997 8998 8999]\n",
            "Train: [    0     1     2 ... 29997 29998 29999] Validation: [ 9000  9001  9002 ... 11997 11998 11999]\n",
            "Train: [    0     1     2 ... 29997 29998 29999] Validation: [12000 12001 12002 ... 14997 14998 14999]\n",
            "Train: [    0     1     2 ... 29997 29998 29999] Validation: [15000 15001 15002 ... 17997 17998 17999]\n",
            "Train: [    0     1     2 ... 29997 29998 29999] Validation: [18000 18001 18002 ... 20997 20998 20999]\n",
            "Train: [    0     1     2 ... 29997 29998 29999] Validation: [21000 21001 21002 ... 23997 23998 23999]\n",
            "Train: [    0     1     2 ... 29997 29998 29999] Validation: [24000 24001 24002 ... 26997 26998 26999]\n",
            "Train: [    0     1     2 ... 26997 26998 26999] Validation: [27000 27001 27002 ... 29997 29998 29999]\n",
            "Train: [ 3000  3001  3002 ... 29997 29998 29999] Validation: [   0    1    2 ... 2997 2998 2999]\n",
            "Train: [    0     1     2 ... 29997 29998 29999] Validation: [3000 3001 3002 ... 5997 5998 5999]\n",
            "Train: [    0     1     2 ... 29997 29998 29999] Validation: [6000 6001 6002 ... 8997 8998 8999]\n",
            "Train: [    0     1     2 ... 29997 29998 29999] Validation: [ 9000  9001  9002 ... 11997 11998 11999]\n",
            "Train: [    0     1     2 ... 29997 29998 29999] Validation: [12000 12001 12002 ... 14997 14998 14999]\n",
            "Train: [    0     1     2 ... 29997 29998 29999] Validation: [15000 15001 15002 ... 17997 17998 17999]\n",
            "Train: [    0     1     2 ... 29997 29998 29999] Validation: [18000 18001 18002 ... 20997 20998 20999]\n",
            "Train: [    0     1     2 ... 29997 29998 29999] Validation: [21000 21001 21002 ... 23997 23998 23999]\n",
            "Train: [    0     1     2 ... 29997 29998 29999] Validation: [24000 24001 24002 ... 26997 26998 26999]\n",
            "Train: [    0     1     2 ... 26997 26998 26999] Validation: [27000 27001 27002 ... 29997 29998 29999]\n",
            "Train: [ 3000  3001  3002 ... 29997 29998 29999] Validation: [   0    1    2 ... 2997 2998 2999]\n",
            "Train: [    0     1     2 ... 29997 29998 29999] Validation: [3000 3001 3002 ... 5997 5998 5999]\n",
            "Train: [    0     1     2 ... 29997 29998 29999] Validation: [6000 6001 6002 ... 8997 8998 8999]\n",
            "Train: [    0     1     2 ... 29997 29998 29999] Validation: [ 9000  9001  9002 ... 11997 11998 11999]\n",
            "Train: [    0     1     2 ... 29997 29998 29999] Validation: [12000 12001 12002 ... 14997 14998 14999]\n",
            "Train: [    0     1     2 ... 29997 29998 29999] Validation: [15000 15001 15002 ... 17997 17998 17999]\n",
            "Train: [    0     1     2 ... 29997 29998 29999] Validation: [18000 18001 18002 ... 20997 20998 20999]\n",
            "Train: [    0     1     2 ... 29997 29998 29999] Validation: [21000 21001 21002 ... 23997 23998 23999]\n",
            "Train: [    0     1     2 ... 29997 29998 29999] Validation: [24000 24001 24002 ... 26997 26998 26999]\n",
            "Train: [    0     1     2 ... 26997 26998 26999] Validation: [27000 27001 27002 ... 29997 29998 29999]\n",
            "Train: [ 3000  3001  3002 ... 29997 29998 29999] Validation: [   0    1    2 ... 2997 2998 2999]\n",
            "Train: [    0     1     2 ... 29997 29998 29999] Validation: [3000 3001 3002 ... 5997 5998 5999]\n",
            "Train: [    0     1     2 ... 29997 29998 29999] Validation: [6000 6001 6002 ... 8997 8998 8999]\n",
            "Train: [    0     1     2 ... 29997 29998 29999] Validation: [ 9000  9001  9002 ... 11997 11998 11999]\n",
            "Train: [    0     1     2 ... 29997 29998 29999] Validation: [12000 12001 12002 ... 14997 14998 14999]\n",
            "Train: [    0     1     2 ... 29997 29998 29999] Validation: [15000 15001 15002 ... 17997 17998 17999]\n",
            "Train: [    0     1     2 ... 29997 29998 29999] Validation: [18000 18001 18002 ... 20997 20998 20999]\n",
            "Train: [    0     1     2 ... 29997 29998 29999] Validation: [21000 21001 21002 ... 23997 23998 23999]\n",
            "Train: [    0     1     2 ... 29997 29998 29999] Validation: [24000 24001 24002 ... 26997 26998 26999]\n",
            "Train: [    0     1     2 ... 26997 26998 26999] Validation: [27000 27001 27002 ... 29997 29998 29999]\n",
            "Train: [ 3000  3001  3002 ... 29997 29998 29999] Validation: [   0    1    2 ... 2997 2998 2999]\n",
            "Train: [    0     1     2 ... 29997 29998 29999] Validation: [3000 3001 3002 ... 5997 5998 5999]\n",
            "Train: [    0     1     2 ... 29997 29998 29999] Validation: [6000 6001 6002 ... 8997 8998 8999]\n",
            "Train: [    0     1     2 ... 29997 29998 29999] Validation: [ 9000  9001  9002 ... 11997 11998 11999]\n",
            "Train: [    0     1     2 ... 29997 29998 29999] Validation: [12000 12001 12002 ... 14997 14998 14999]\n",
            "Train: [    0     1     2 ... 29997 29998 29999] Validation: [15000 15001 15002 ... 17997 17998 17999]\n",
            "Train: [    0     1     2 ... 29997 29998 29999] Validation: [18000 18001 18002 ... 20997 20998 20999]\n",
            "Train: [    0     1     2 ... 29997 29998 29999] Validation: [21000 21001 21002 ... 23997 23998 23999]\n",
            "Train: [    0     1     2 ... 29997 29998 29999] Validation: [24000 24001 24002 ... 26997 26998 26999]\n",
            "Train: [    0     1     2 ... 26997 26998 26999] Validation: [27000 27001 27002 ... 29997 29998 29999]\n",
            "Train: [ 3000  3001  3002 ... 29997 29998 29999] Validation: [   0    1    2 ... 2997 2998 2999]\n",
            "Train: [    0     1     2 ... 29997 29998 29999] Validation: [3000 3001 3002 ... 5997 5998 5999]\n",
            "Train: [    0     1     2 ... 29997 29998 29999] Validation: [6000 6001 6002 ... 8997 8998 8999]\n",
            "Train: [    0     1     2 ... 29997 29998 29999] Validation: [ 9000  9001  9002 ... 11997 11998 11999]\n",
            "Train: [    0     1     2 ... 29997 29998 29999] Validation: [12000 12001 12002 ... 14997 14998 14999]\n",
            "Train: [    0     1     2 ... 29997 29998 29999] Validation: [15000 15001 15002 ... 17997 17998 17999]\n",
            "Train: [    0     1     2 ... 29997 29998 29999] Validation: [18000 18001 18002 ... 20997 20998 20999]\n",
            "Train: [    0     1     2 ... 29997 29998 29999] Validation: [21000 21001 21002 ... 23997 23998 23999]\n"
          ]
        },
        {
          "output_type": "error",
          "ename": "KeyboardInterrupt",
          "evalue": "ignored",
          "traceback": [
            "\u001b[0;31m---------------------------------------------------------------------------\u001b[0m",
            "\u001b[0;31mKeyboardInterrupt\u001b[0m                         Traceback (most recent call last)",
            "\u001b[0;32m<ipython-input-64-eb6820ea9dec>\u001b[0m in \u001b[0;36m<module>\u001b[0;34m()\u001b[0m\n\u001b[1;32m     22\u001b[0m           \u001b[0;31m# entrenamiento y ejecución del modelo\u001b[0m\u001b[0;34m\u001b[0m\u001b[0;34m\u001b[0m\u001b[0;34m\u001b[0m\u001b[0m\n\u001b[1;32m     23\u001b[0m           \u001b[0mknn\u001b[0m\u001b[0;34m.\u001b[0m\u001b[0mfit\u001b[0m\u001b[0;34m(\u001b[0m\u001b[0mX_train\u001b[0m\u001b[0;34m,\u001b[0m \u001b[0my_train\u001b[0m\u001b[0;34m)\u001b[0m\u001b[0;34m\u001b[0m\u001b[0;34m\u001b[0m\u001b[0m\n\u001b[0;32m---> 24\u001b[0;31m           \u001b[0my_pred\u001b[0m \u001b[0;34m=\u001b[0m \u001b[0mknn\u001b[0m\u001b[0;34m.\u001b[0m\u001b[0mpredict\u001b[0m\u001b[0;34m(\u001b[0m\u001b[0mX_test\u001b[0m\u001b[0;34m)\u001b[0m\u001b[0;34m\u001b[0m\u001b[0;34m\u001b[0m\u001b[0m\n\u001b[0m\u001b[1;32m     25\u001b[0m           \u001b[0;31m# evaluación del modelo\u001b[0m\u001b[0;34m\u001b[0m\u001b[0;34m\u001b[0m\u001b[0;34m\u001b[0m\u001b[0m\n\u001b[1;32m     26\u001b[0m           \u001b[0mmae\u001b[0m \u001b[0;34m=\u001b[0m \u001b[0mmetrics\u001b[0m\u001b[0;34m.\u001b[0m\u001b[0mmean_absolute_error\u001b[0m\u001b[0;34m(\u001b[0m\u001b[0my_pred\u001b[0m \u001b[0;34m,\u001b[0m \u001b[0my_test\u001b[0m\u001b[0;34m)\u001b[0m\u001b[0;34m\u001b[0m\u001b[0;34m\u001b[0m\u001b[0m\n",
            "\u001b[0;32m/usr/local/lib/python3.7/dist-packages/sklearn/neighbors/_regression.py\u001b[0m in \u001b[0;36mpredict\u001b[0;34m(self, X)\u001b[0m\n\u001b[1;32m    227\u001b[0m             \u001b[0mTarget\u001b[0m \u001b[0mvalues\u001b[0m\u001b[0;34m.\u001b[0m\u001b[0;34m\u001b[0m\u001b[0;34m\u001b[0m\u001b[0m\n\u001b[1;32m    228\u001b[0m         \"\"\"\n\u001b[0;32m--> 229\u001b[0;31m         \u001b[0mneigh_dist\u001b[0m\u001b[0;34m,\u001b[0m \u001b[0mneigh_ind\u001b[0m \u001b[0;34m=\u001b[0m \u001b[0mself\u001b[0m\u001b[0;34m.\u001b[0m\u001b[0mkneighbors\u001b[0m\u001b[0;34m(\u001b[0m\u001b[0mX\u001b[0m\u001b[0;34m)\u001b[0m\u001b[0;34m\u001b[0m\u001b[0;34m\u001b[0m\u001b[0m\n\u001b[0m\u001b[1;32m    230\u001b[0m \u001b[0;34m\u001b[0m\u001b[0m\n\u001b[1;32m    231\u001b[0m         \u001b[0mweights\u001b[0m \u001b[0;34m=\u001b[0m \u001b[0m_get_weights\u001b[0m\u001b[0;34m(\u001b[0m\u001b[0mneigh_dist\u001b[0m\u001b[0;34m,\u001b[0m \u001b[0mself\u001b[0m\u001b[0;34m.\u001b[0m\u001b[0mweights\u001b[0m\u001b[0;34m)\u001b[0m\u001b[0;34m\u001b[0m\u001b[0;34m\u001b[0m\u001b[0m\n",
            "\u001b[0;32m/usr/local/lib/python3.7/dist-packages/sklearn/neighbors/_base.py\u001b[0m in \u001b[0;36mkneighbors\u001b[0;34m(self, X, n_neighbors, return_distance)\u001b[0m\n\u001b[1;32m    757\u001b[0m                     \u001b[0mmetric\u001b[0m\u001b[0;34m=\u001b[0m\u001b[0mself\u001b[0m\u001b[0;34m.\u001b[0m\u001b[0meffective_metric_\u001b[0m\u001b[0;34m,\u001b[0m\u001b[0;34m\u001b[0m\u001b[0;34m\u001b[0m\u001b[0m\n\u001b[1;32m    758\u001b[0m                     \u001b[0mn_jobs\u001b[0m\u001b[0;34m=\u001b[0m\u001b[0mn_jobs\u001b[0m\u001b[0;34m,\u001b[0m\u001b[0;34m\u001b[0m\u001b[0;34m\u001b[0m\u001b[0m\n\u001b[0;32m--> 759\u001b[0;31m                     \u001b[0;34m**\u001b[0m\u001b[0mkwds\u001b[0m\u001b[0;34m,\u001b[0m\u001b[0;34m\u001b[0m\u001b[0;34m\u001b[0m\u001b[0m\n\u001b[0m\u001b[1;32m    760\u001b[0m                 )\n\u001b[1;32m    761\u001b[0m             )\n",
            "\u001b[0;32m/usr/local/lib/python3.7/dist-packages/sklearn/metrics/pairwise.py\u001b[0m in \u001b[0;36mpairwise_distances_chunked\u001b[0;34m(X, Y, reduce_func, metric, n_jobs, working_memory, **kwds)\u001b[0m\n\u001b[1;32m   1724\u001b[0m         \u001b[0;32mif\u001b[0m \u001b[0mreduce_func\u001b[0m \u001b[0;32mis\u001b[0m \u001b[0;32mnot\u001b[0m \u001b[0;32mNone\u001b[0m\u001b[0;34m:\u001b[0m\u001b[0;34m\u001b[0m\u001b[0;34m\u001b[0m\u001b[0m\n\u001b[1;32m   1725\u001b[0m             \u001b[0mchunk_size\u001b[0m \u001b[0;34m=\u001b[0m \u001b[0mD_chunk\u001b[0m\u001b[0;34m.\u001b[0m\u001b[0mshape\u001b[0m\u001b[0;34m[\u001b[0m\u001b[0;36m0\u001b[0m\u001b[0;34m]\u001b[0m\u001b[0;34m\u001b[0m\u001b[0;34m\u001b[0m\u001b[0m\n\u001b[0;32m-> 1726\u001b[0;31m             \u001b[0mD_chunk\u001b[0m \u001b[0;34m=\u001b[0m \u001b[0mreduce_func\u001b[0m\u001b[0;34m(\u001b[0m\u001b[0mD_chunk\u001b[0m\u001b[0;34m,\u001b[0m \u001b[0msl\u001b[0m\u001b[0;34m.\u001b[0m\u001b[0mstart\u001b[0m\u001b[0;34m)\u001b[0m\u001b[0;34m\u001b[0m\u001b[0;34m\u001b[0m\u001b[0m\n\u001b[0m\u001b[1;32m   1727\u001b[0m             \u001b[0m_check_chunk_size\u001b[0m\u001b[0;34m(\u001b[0m\u001b[0mD_chunk\u001b[0m\u001b[0;34m,\u001b[0m \u001b[0mchunk_size\u001b[0m\u001b[0;34m)\u001b[0m\u001b[0;34m\u001b[0m\u001b[0;34m\u001b[0m\u001b[0m\n\u001b[1;32m   1728\u001b[0m         \u001b[0;32myield\u001b[0m \u001b[0mD_chunk\u001b[0m\u001b[0;34m\u001b[0m\u001b[0;34m\u001b[0m\u001b[0m\n",
            "\u001b[0;32m/usr/local/lib/python3.7/dist-packages/sklearn/neighbors/_base.py\u001b[0m in \u001b[0;36m_kneighbors_reduce_func\u001b[0;34m(self, dist, start, n_neighbors, return_distance)\u001b[0m\n\u001b[1;32m    632\u001b[0m         \"\"\"\n\u001b[1;32m    633\u001b[0m         \u001b[0msample_range\u001b[0m \u001b[0;34m=\u001b[0m \u001b[0mnp\u001b[0m\u001b[0;34m.\u001b[0m\u001b[0marange\u001b[0m\u001b[0;34m(\u001b[0m\u001b[0mdist\u001b[0m\u001b[0;34m.\u001b[0m\u001b[0mshape\u001b[0m\u001b[0;34m[\u001b[0m\u001b[0;36m0\u001b[0m\u001b[0;34m]\u001b[0m\u001b[0;34m)\u001b[0m\u001b[0;34m[\u001b[0m\u001b[0;34m:\u001b[0m\u001b[0;34m,\u001b[0m \u001b[0;32mNone\u001b[0m\u001b[0;34m]\u001b[0m\u001b[0;34m\u001b[0m\u001b[0;34m\u001b[0m\u001b[0m\n\u001b[0;32m--> 634\u001b[0;31m         \u001b[0mneigh_ind\u001b[0m \u001b[0;34m=\u001b[0m \u001b[0mnp\u001b[0m\u001b[0;34m.\u001b[0m\u001b[0margpartition\u001b[0m\u001b[0;34m(\u001b[0m\u001b[0mdist\u001b[0m\u001b[0;34m,\u001b[0m \u001b[0mn_neighbors\u001b[0m \u001b[0;34m-\u001b[0m \u001b[0;36m1\u001b[0m\u001b[0;34m,\u001b[0m \u001b[0maxis\u001b[0m\u001b[0;34m=\u001b[0m\u001b[0;36m1\u001b[0m\u001b[0;34m)\u001b[0m\u001b[0;34m\u001b[0m\u001b[0;34m\u001b[0m\u001b[0m\n\u001b[0m\u001b[1;32m    635\u001b[0m         \u001b[0mneigh_ind\u001b[0m \u001b[0;34m=\u001b[0m \u001b[0mneigh_ind\u001b[0m\u001b[0;34m[\u001b[0m\u001b[0;34m:\u001b[0m\u001b[0;34m,\u001b[0m \u001b[0;34m:\u001b[0m\u001b[0mn_neighbors\u001b[0m\u001b[0;34m]\u001b[0m\u001b[0;34m\u001b[0m\u001b[0;34m\u001b[0m\u001b[0m\n\u001b[1;32m    636\u001b[0m         \u001b[0;31m# argpartition doesn't guarantee sorted order, so we sort again\u001b[0m\u001b[0;34m\u001b[0m\u001b[0;34m\u001b[0m\u001b[0;34m\u001b[0m\u001b[0m\n",
            "\u001b[0;32m<__array_function__ internals>\u001b[0m in \u001b[0;36margpartition\u001b[0;34m(*args, **kwargs)\u001b[0m\n",
            "\u001b[0;32m/usr/local/lib/python3.7/dist-packages/numpy/core/fromnumeric.py\u001b[0m in \u001b[0;36margpartition\u001b[0;34m(a, kth, axis, kind, order)\u001b[0m\n\u001b[1;32m    830\u001b[0m \u001b[0;34m\u001b[0m\u001b[0m\n\u001b[1;32m    831\u001b[0m     \"\"\"\n\u001b[0;32m--> 832\u001b[0;31m     \u001b[0;32mreturn\u001b[0m \u001b[0m_wrapfunc\u001b[0m\u001b[0;34m(\u001b[0m\u001b[0ma\u001b[0m\u001b[0;34m,\u001b[0m \u001b[0;34m'argpartition'\u001b[0m\u001b[0;34m,\u001b[0m \u001b[0mkth\u001b[0m\u001b[0;34m,\u001b[0m \u001b[0maxis\u001b[0m\u001b[0;34m=\u001b[0m\u001b[0maxis\u001b[0m\u001b[0;34m,\u001b[0m \u001b[0mkind\u001b[0m\u001b[0;34m=\u001b[0m\u001b[0mkind\u001b[0m\u001b[0;34m,\u001b[0m \u001b[0morder\u001b[0m\u001b[0;34m=\u001b[0m\u001b[0morder\u001b[0m\u001b[0;34m)\u001b[0m\u001b[0;34m\u001b[0m\u001b[0;34m\u001b[0m\u001b[0m\n\u001b[0m\u001b[1;32m    833\u001b[0m \u001b[0;34m\u001b[0m\u001b[0m\n\u001b[1;32m    834\u001b[0m \u001b[0;34m\u001b[0m\u001b[0m\n",
            "\u001b[0;32m/usr/local/lib/python3.7/dist-packages/numpy/core/fromnumeric.py\u001b[0m in \u001b[0;36m_wrapfunc\u001b[0;34m(obj, method, *args, **kwds)\u001b[0m\n\u001b[1;32m     56\u001b[0m \u001b[0;34m\u001b[0m\u001b[0m\n\u001b[1;32m     57\u001b[0m     \u001b[0;32mtry\u001b[0m\u001b[0;34m:\u001b[0m\u001b[0;34m\u001b[0m\u001b[0;34m\u001b[0m\u001b[0m\n\u001b[0;32m---> 58\u001b[0;31m         \u001b[0;32mreturn\u001b[0m \u001b[0mbound\u001b[0m\u001b[0;34m(\u001b[0m\u001b[0;34m*\u001b[0m\u001b[0margs\u001b[0m\u001b[0;34m,\u001b[0m \u001b[0;34m**\u001b[0m\u001b[0mkwds\u001b[0m\u001b[0;34m)\u001b[0m\u001b[0;34m\u001b[0m\u001b[0;34m\u001b[0m\u001b[0m\n\u001b[0m\u001b[1;32m     59\u001b[0m     \u001b[0;32mexcept\u001b[0m \u001b[0mTypeError\u001b[0m\u001b[0;34m:\u001b[0m\u001b[0;34m\u001b[0m\u001b[0;34m\u001b[0m\u001b[0m\n\u001b[1;32m     60\u001b[0m         \u001b[0;31m# A TypeError occurs if the object does have such a method in its\u001b[0m\u001b[0;34m\u001b[0m\u001b[0;34m\u001b[0m\u001b[0;34m\u001b[0m\u001b[0m\n",
            "\u001b[0;31mKeyboardInterrupt\u001b[0m: "
          ]
        }
      ]
    },
    {
      "cell_type": "markdown",
      "metadata": {
        "id": "uf4vlllSIdgK"
      },
      "source": [
        "# 2. Optimized Model (RandomForests, Boosting + Hyperparameter Optimization)"
      ]
    },
    {
      "cell_type": "markdown",
      "metadata": {
        "id": "8efLC2ZSIlea"
      },
      "source": [
        "# 3. Improvements (Include text data, other changes)"
      ]
    }
  ]
}