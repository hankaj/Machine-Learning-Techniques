{
  "nbformat": 4,
  "nbformat_minor": 0,
  "metadata": {
    "colab": {
      "name": "ML2021_Second_Assignment.ipynb",
      "provenance": [],
      "collapsed_sections": [],
      "authorship_tag": "ABX9TyN2ySbrt028MYL7duH5jUK/",
      "include_colab_link": true
    },
    "kernelspec": {
      "name": "python3",
      "display_name": "Python 3"
    },
    "language_info": {
      "name": "python"
    }
  },
  "cells": [
    {
      "cell_type": "markdown",
      "metadata": {
        "id": "view-in-github",
        "colab_type": "text"
      },
      "source": [
        "<a href=\"https://colab.research.google.com/github/hankaj/Machine-Learning-Techniques/blob/master/ML2021_Second_Assignment.ipynb\" target=\"_parent\"><img src=\"https://colab.research.google.com/assets/colab-badge.svg\" alt=\"Open In Colab\"/></a>"
      ]
    },
    {
      "cell_type": "code",
      "execution_count": 1,
      "metadata": {
        "id": "jLR6b-T5mtPc"
      },
      "outputs": [],
      "source": [
        "url='https://raw.githubusercontent.com/hankaj/Machine-Learning-Techniques/master/comments.csv'"
      ]
    },
    {
      "cell_type": "code",
      "source": [
        "import pandas as pd\n",
        "df1 = pd.read_csv(url)\n",
        "df1"
      ],
      "metadata": {
        "colab": {
          "base_uri": "https://localhost:8080/",
          "height": 424
        },
        "id": "MrtBUEbJm1uL",
        "outputId": "560a3d3e-55b7-4173-d9bd-aa68c163881c"
      },
      "execution_count": 2,
      "outputs": [
        {
          "output_type": "execute_result",
          "data": {
            "text/html": [
              "\n",
              "  <div id=\"df-9f731174-a34a-4cff-a999-9554eef9069e\">\n",
              "    <div class=\"colab-df-container\">\n",
              "      <div>\n",
              "<style scoped>\n",
              "    .dataframe tbody tr th:only-of-type {\n",
              "        vertical-align: middle;\n",
              "    }\n",
              "\n",
              "    .dataframe tbody tr th {\n",
              "        vertical-align: top;\n",
              "    }\n",
              "\n",
              "    .dataframe thead th {\n",
              "        text-align: right;\n",
              "    }\n",
              "</style>\n",
              "<table border=\"1\" class=\"dataframe\">\n",
              "  <thead>\n",
              "    <tr style=\"text-align: right;\">\n",
              "      <th></th>\n",
              "      <th>class</th>\n",
              "      <th>text</th>\n",
              "    </tr>\n",
              "  </thead>\n",
              "  <tbody>\n",
              "    <tr>\n",
              "      <th>0</th>\n",
              "      <td>Auto</td>\n",
              "      <td>I have recently purchased a J30T with moderat...</td>\n",
              "    </tr>\n",
              "    <tr>\n",
              "      <th>1</th>\n",
              "      <td>Camera</td>\n",
              "      <td>I bought this product because I need instant ...</td>\n",
              "    </tr>\n",
              "    <tr>\n",
              "      <th>2</th>\n",
              "      <td>Auto</td>\n",
              "      <td>I have owned my Buick since 53000 km and I am...</td>\n",
              "    </tr>\n",
              "    <tr>\n",
              "      <th>3</th>\n",
              "      <td>Camera</td>\n",
              "      <td>This was my first Digital camera so I did qui...</td>\n",
              "    </tr>\n",
              "    <tr>\n",
              "      <th>4</th>\n",
              "      <td>Camera</td>\n",
              "      <td>Minolta DiMAGE 7Hi is in a digital SLR with 5...</td>\n",
              "    </tr>\n",
              "    <tr>\n",
              "      <th>...</th>\n",
              "      <td>...</td>\n",
              "      <td>...</td>\n",
              "    </tr>\n",
              "    <tr>\n",
              "      <th>595</th>\n",
              "      <td>Auto</td>\n",
              "      <td>Recently our 12 year old Nissan Stanza decide...</td>\n",
              "    </tr>\n",
              "    <tr>\n",
              "      <th>596</th>\n",
              "      <td>Camera</td>\n",
              "      <td>I always do a lot of research before I buy an...</td>\n",
              "    </tr>\n",
              "    <tr>\n",
              "      <th>597</th>\n",
              "      <td>Auto</td>\n",
              "      <td>This car is an all around good buy  If you ar...</td>\n",
              "    </tr>\n",
              "    <tr>\n",
              "      <th>598</th>\n",
              "      <td>Auto</td>\n",
              "      <td>I waited to write this until I have had 4 mon...</td>\n",
              "    </tr>\n",
              "    <tr>\n",
              "      <th>599</th>\n",
              "      <td>Auto</td>\n",
              "      <td>I have been a Montero owner since about 1985 ...</td>\n",
              "    </tr>\n",
              "  </tbody>\n",
              "</table>\n",
              "<p>600 rows × 2 columns</p>\n",
              "</div>\n",
              "      <button class=\"colab-df-convert\" onclick=\"convertToInteractive('df-9f731174-a34a-4cff-a999-9554eef9069e')\"\n",
              "              title=\"Convert this dataframe to an interactive table.\"\n",
              "              style=\"display:none;\">\n",
              "        \n",
              "  <svg xmlns=\"http://www.w3.org/2000/svg\" height=\"24px\"viewBox=\"0 0 24 24\"\n",
              "       width=\"24px\">\n",
              "    <path d=\"M0 0h24v24H0V0z\" fill=\"none\"/>\n",
              "    <path d=\"M18.56 5.44l.94 2.06.94-2.06 2.06-.94-2.06-.94-.94-2.06-.94 2.06-2.06.94zm-11 1L8.5 8.5l.94-2.06 2.06-.94-2.06-.94L8.5 2.5l-.94 2.06-2.06.94zm10 10l.94 2.06.94-2.06 2.06-.94-2.06-.94-.94-2.06-.94 2.06-2.06.94z\"/><path d=\"M17.41 7.96l-1.37-1.37c-.4-.4-.92-.59-1.43-.59-.52 0-1.04.2-1.43.59L10.3 9.45l-7.72 7.72c-.78.78-.78 2.05 0 2.83L4 21.41c.39.39.9.59 1.41.59.51 0 1.02-.2 1.41-.59l7.78-7.78 2.81-2.81c.8-.78.8-2.07 0-2.86zM5.41 20L4 18.59l7.72-7.72 1.47 1.35L5.41 20z\"/>\n",
              "  </svg>\n",
              "      </button>\n",
              "      \n",
              "  <style>\n",
              "    .colab-df-container {\n",
              "      display:flex;\n",
              "      flex-wrap:wrap;\n",
              "      gap: 12px;\n",
              "    }\n",
              "\n",
              "    .colab-df-convert {\n",
              "      background-color: #E8F0FE;\n",
              "      border: none;\n",
              "      border-radius: 50%;\n",
              "      cursor: pointer;\n",
              "      display: none;\n",
              "      fill: #1967D2;\n",
              "      height: 32px;\n",
              "      padding: 0 0 0 0;\n",
              "      width: 32px;\n",
              "    }\n",
              "\n",
              "    .colab-df-convert:hover {\n",
              "      background-color: #E2EBFA;\n",
              "      box-shadow: 0px 1px 2px rgba(60, 64, 67, 0.3), 0px 1px 3px 1px rgba(60, 64, 67, 0.15);\n",
              "      fill: #174EA6;\n",
              "    }\n",
              "\n",
              "    [theme=dark] .colab-df-convert {\n",
              "      background-color: #3B4455;\n",
              "      fill: #D2E3FC;\n",
              "    }\n",
              "\n",
              "    [theme=dark] .colab-df-convert:hover {\n",
              "      background-color: #434B5C;\n",
              "      box-shadow: 0px 1px 3px 1px rgba(0, 0, 0, 0.15);\n",
              "      filter: drop-shadow(0px 1px 2px rgba(0, 0, 0, 0.3));\n",
              "      fill: #FFFFFF;\n",
              "    }\n",
              "  </style>\n",
              "\n",
              "      <script>\n",
              "        const buttonEl =\n",
              "          document.querySelector('#df-9f731174-a34a-4cff-a999-9554eef9069e button.colab-df-convert');\n",
              "        buttonEl.style.display =\n",
              "          google.colab.kernel.accessAllowed ? 'block' : 'none';\n",
              "\n",
              "        async function convertToInteractive(key) {\n",
              "          const element = document.querySelector('#df-9f731174-a34a-4cff-a999-9554eef9069e');\n",
              "          const dataTable =\n",
              "            await google.colab.kernel.invokeFunction('convertToInteractive',\n",
              "                                                     [key], {});\n",
              "          if (!dataTable) return;\n",
              "\n",
              "          const docLinkHtml = 'Like what you see? Visit the ' +\n",
              "            '<a target=\"_blank\" href=https://colab.research.google.com/notebooks/data_table.ipynb>data table notebook</a>'\n",
              "            + ' to learn more about interactive tables.';\n",
              "          element.innerHTML = '';\n",
              "          dataTable['output_type'] = 'display_data';\n",
              "          await google.colab.output.renderOutput(dataTable, element);\n",
              "          const docLink = document.createElement('div');\n",
              "          docLink.innerHTML = docLinkHtml;\n",
              "          element.appendChild(docLink);\n",
              "        }\n",
              "      </script>\n",
              "    </div>\n",
              "  </div>\n",
              "  "
            ],
            "text/plain": [
              "      class                                               text\n",
              "0      Auto   I have recently purchased a J30T with moderat...\n",
              "1    Camera   I bought this product because I need instant ...\n",
              "2      Auto   I have owned my Buick since 53000 km and I am...\n",
              "3    Camera   This was my first Digital camera so I did qui...\n",
              "4    Camera   Minolta DiMAGE 7Hi is in a digital SLR with 5...\n",
              "..      ...                                                ...\n",
              "595    Auto   Recently our 12 year old Nissan Stanza decide...\n",
              "596  Camera   I always do a lot of research before I buy an...\n",
              "597    Auto   This car is an all around good buy  If you ar...\n",
              "598    Auto   I waited to write this until I have had 4 mon...\n",
              "599    Auto   I have been a Montero owner since about 1985 ...\n",
              "\n",
              "[600 rows x 2 columns]"
            ]
          },
          "metadata": {},
          "execution_count": 2
        }
      ]
    },
    {
      "cell_type": "code",
      "source": [
        "y = df1.iloc[:,0]\n",
        "y"
      ],
      "metadata": {
        "colab": {
          "base_uri": "https://localhost:8080/"
        },
        "id": "DVPRKR7zn0bN",
        "outputId": "d68feb0f-9640-433c-b939-26ed40cfdab8"
      },
      "execution_count": 3,
      "outputs": [
        {
          "output_type": "execute_result",
          "data": {
            "text/plain": [
              "0        Auto\n",
              "1      Camera\n",
              "2        Auto\n",
              "3      Camera\n",
              "4      Camera\n",
              "        ...  \n",
              "595      Auto\n",
              "596    Camera\n",
              "597      Auto\n",
              "598      Auto\n",
              "599      Auto\n",
              "Name: class, Length: 600, dtype: object"
            ]
          },
          "metadata": {},
          "execution_count": 3
        }
      ]
    },
    {
      "cell_type": "code",
      "source": [
        "X = df1.iloc[:, 1]\n",
        "X"
      ],
      "metadata": {
        "colab": {
          "base_uri": "https://localhost:8080/"
        },
        "id": "iiW-2Kkln_K4",
        "outputId": "3fafee80-5e22-4ea0-9314-f9bf4d1a36f3"
      },
      "execution_count": 4,
      "outputs": [
        {
          "output_type": "execute_result",
          "data": {
            "text/plain": [
              "0       I have recently purchased a J30T with moderat...\n",
              "1       I bought this product because I need instant ...\n",
              "2       I have owned my Buick since 53000 km and I am...\n",
              "3       This was my first Digital camera so I did qui...\n",
              "4       Minolta DiMAGE 7Hi is in a digital SLR with 5...\n",
              "                             ...                        \n",
              "595     Recently our 12 year old Nissan Stanza decide...\n",
              "596     I always do a lot of research before I buy an...\n",
              "597     This car is an all around good buy  If you ar...\n",
              "598     I waited to write this until I have had 4 mon...\n",
              "599     I have been a Montero owner since about 1985 ...\n",
              "Name: text, Length: 600, dtype: object"
            ]
          },
          "metadata": {},
          "execution_count": 4
        }
      ]
    },
    {
      "cell_type": "code",
      "source": [
        "import re\n",
        "import nltk\n",
        "import numpy as np\n",
        "from nltk.stem import WordNetLemmatizer\n",
        "nltk.download('wordnet')\n",
        "nltk.download('averaged_perceptron_tagger')\n",
        "nltk.download('punkt')\n",
        "lemmatizer = WordNetLemmatizer()\n",
        "from nltk.tokenize import word_tokenize, sent_tokenize\n",
        "\n",
        "new_features = pd.DataFrame(np.zeros((X.shape[0], 2)), columns=['pos', 'number of words'])\n",
        "\n",
        "for com_idx, comment in enumerate(X):\n",
        "  # remove useless data: !\"_$%&/()=_ˆ*¡@\n",
        "  comment = re.sub('[!@#$%^&*()_+<>]', '', comment)\n",
        "\n",
        "  # convert to lowercase\n",
        "  comment = comment.lower()\n",
        "\n",
        "  # substitute multiple spaces with single space\n",
        "  comment = re.sub(r'\\s+', ' ', comment, flags=re.I)\n",
        "\n",
        "  # lemmatize and get features\n",
        "  tokens = word_tokenize(comment)\n",
        "  n_words = len(tokens)\n",
        "  comment = [lemmatizer.lemmatize(t, pos = 'v') for t in tokens]\n",
        "  tags = nltk.pos_tag(tokens)\n",
        "  comment = ' '.join(comment)\n",
        "  tags = ' '.join([word[1] for word in tags])\n",
        "\n",
        "  X[com_idx] = comment\n",
        "  new_features.iloc[com_idx, 0] = tags\n",
        "  new_features.iloc[com_idx, 1] = n_words\n",
        "\n",
        "X=pd.concat([X, new_features], axis=1)\n",
        "X"
      ],
      "metadata": {
        "colab": {
          "base_uri": "https://localhost:8080/",
          "height": 552
        },
        "id": "GATjs8HgupfZ",
        "outputId": "8d39638f-cc8a-475e-f414-6bceacb2ee80"
      },
      "execution_count": 5,
      "outputs": [
        {
          "output_type": "stream",
          "name": "stdout",
          "text": [
            "[nltk_data] Downloading package wordnet to /root/nltk_data...\n",
            "[nltk_data]   Unzipping corpora/wordnet.zip.\n",
            "[nltk_data] Downloading package averaged_perceptron_tagger to\n",
            "[nltk_data]     /root/nltk_data...\n",
            "[nltk_data]   Unzipping taggers/averaged_perceptron_tagger.zip.\n",
            "[nltk_data] Downloading package punkt to /root/nltk_data...\n",
            "[nltk_data]   Unzipping tokenizers/punkt.zip.\n"
          ]
        },
        {
          "output_type": "execute_result",
          "data": {
            "text/html": [
              "\n",
              "  <div id=\"df-f07e03fa-bf24-4e9f-ac53-89c5a1e034a7\">\n",
              "    <div class=\"colab-df-container\">\n",
              "      <div>\n",
              "<style scoped>\n",
              "    .dataframe tbody tr th:only-of-type {\n",
              "        vertical-align: middle;\n",
              "    }\n",
              "\n",
              "    .dataframe tbody tr th {\n",
              "        vertical-align: top;\n",
              "    }\n",
              "\n",
              "    .dataframe thead th {\n",
              "        text-align: right;\n",
              "    }\n",
              "</style>\n",
              "<table border=\"1\" class=\"dataframe\">\n",
              "  <thead>\n",
              "    <tr style=\"text-align: right;\">\n",
              "      <th></th>\n",
              "      <th>text</th>\n",
              "      <th>pos</th>\n",
              "      <th>number of words</th>\n",
              "    </tr>\n",
              "  </thead>\n",
              "  <tbody>\n",
              "    <tr>\n",
              "      <th>0</th>\n",
              "      <td>i have recently purchase a j30t with moderate ...</td>\n",
              "      <td>NNS VBP RB VBN DT NN IN JJ NNS RB VBD IN DT NN...</td>\n",
              "      <td>221.0</td>\n",
              "    </tr>\n",
              "    <tr>\n",
              "      <th>1</th>\n",
              "      <td>i buy this product because i need instant grat...</td>\n",
              "      <td>NN VBD DT NN IN JJ VBP JJ NN NN MD VB VB DT NN...</td>\n",
              "      <td>536.0</td>\n",
              "    </tr>\n",
              "    <tr>\n",
              "      <th>2</th>\n",
              "      <td>i have own my buick since 53000 km and i be no...</td>\n",
              "      <td>NNS VBP VBN PRP$ NN IN CD NN CC VB VBP RB VBG ...</td>\n",
              "      <td>278.0</td>\n",
              "    </tr>\n",
              "    <tr>\n",
              "      <th>3</th>\n",
              "      <td>this be my first digital camera so i do quite ...</td>\n",
              "      <td>DT VBD PRP$ JJ JJ NN IN JJ VBD RB DT NN IN NN ...</td>\n",
              "      <td>202.0</td>\n",
              "    </tr>\n",
              "    <tr>\n",
              "      <th>4</th>\n",
              "      <td>minolta dimage 7hi be in a digital slr with 5 ...</td>\n",
              "      <td>JJ NN CD VBZ IN DT JJ NN IN CD NNS CD CD NN NN...</td>\n",
              "      <td>974.0</td>\n",
              "    </tr>\n",
              "    <tr>\n",
              "      <th>...</th>\n",
              "      <td>...</td>\n",
              "      <td>...</td>\n",
              "      <td>...</td>\n",
              "    </tr>\n",
              "    <tr>\n",
              "      <th>595</th>\n",
              "      <td>recently our 12 year old nissan stanza decide ...</td>\n",
              "      <td>RB PRP$ CD NN JJ JJ NN VBD PRP VBD NN TO VB RB...</td>\n",
              "      <td>408.0</td>\n",
              "    </tr>\n",
              "    <tr>\n",
              "      <th>596</th>\n",
              "      <td>i always do a lot of research before i buy any...</td>\n",
              "      <td>NN RB VBP DT NN IN NN IN JJ VBP NN RB PRP VBP ...</td>\n",
              "      <td>341.0</td>\n",
              "    </tr>\n",
              "    <tr>\n",
              "      <th>597</th>\n",
              "      <td>this car be an all around good buy if you be i...</td>\n",
              "      <td>DT NN VBZ DT RB RB JJ NN IN PRP VBP IN NNS PRP...</td>\n",
              "      <td>158.0</td>\n",
              "    </tr>\n",
              "    <tr>\n",
              "      <th>598</th>\n",
              "      <td>i wait to write this until i have have 4 month...</td>\n",
              "      <td>RB VBD TO VB DT IN NNS VBP VBD CD NNS IN VBG P...</td>\n",
              "      <td>461.0</td>\n",
              "    </tr>\n",
              "    <tr>\n",
              "      <th>599</th>\n",
              "      <td>i have be a montero owner since about 1985 and...</td>\n",
              "      <td>NNS VBP VBN DT NN NN IN IN CD CC VBP VBN DT NN...</td>\n",
              "      <td>237.0</td>\n",
              "    </tr>\n",
              "  </tbody>\n",
              "</table>\n",
              "<p>600 rows × 3 columns</p>\n",
              "</div>\n",
              "      <button class=\"colab-df-convert\" onclick=\"convertToInteractive('df-f07e03fa-bf24-4e9f-ac53-89c5a1e034a7')\"\n",
              "              title=\"Convert this dataframe to an interactive table.\"\n",
              "              style=\"display:none;\">\n",
              "        \n",
              "  <svg xmlns=\"http://www.w3.org/2000/svg\" height=\"24px\"viewBox=\"0 0 24 24\"\n",
              "       width=\"24px\">\n",
              "    <path d=\"M0 0h24v24H0V0z\" fill=\"none\"/>\n",
              "    <path d=\"M18.56 5.44l.94 2.06.94-2.06 2.06-.94-2.06-.94-.94-2.06-.94 2.06-2.06.94zm-11 1L8.5 8.5l.94-2.06 2.06-.94-2.06-.94L8.5 2.5l-.94 2.06-2.06.94zm10 10l.94 2.06.94-2.06 2.06-.94-2.06-.94-.94-2.06-.94 2.06-2.06.94z\"/><path d=\"M17.41 7.96l-1.37-1.37c-.4-.4-.92-.59-1.43-.59-.52 0-1.04.2-1.43.59L10.3 9.45l-7.72 7.72c-.78.78-.78 2.05 0 2.83L4 21.41c.39.39.9.59 1.41.59.51 0 1.02-.2 1.41-.59l7.78-7.78 2.81-2.81c.8-.78.8-2.07 0-2.86zM5.41 20L4 18.59l7.72-7.72 1.47 1.35L5.41 20z\"/>\n",
              "  </svg>\n",
              "      </button>\n",
              "      \n",
              "  <style>\n",
              "    .colab-df-container {\n",
              "      display:flex;\n",
              "      flex-wrap:wrap;\n",
              "      gap: 12px;\n",
              "    }\n",
              "\n",
              "    .colab-df-convert {\n",
              "      background-color: #E8F0FE;\n",
              "      border: none;\n",
              "      border-radius: 50%;\n",
              "      cursor: pointer;\n",
              "      display: none;\n",
              "      fill: #1967D2;\n",
              "      height: 32px;\n",
              "      padding: 0 0 0 0;\n",
              "      width: 32px;\n",
              "    }\n",
              "\n",
              "    .colab-df-convert:hover {\n",
              "      background-color: #E2EBFA;\n",
              "      box-shadow: 0px 1px 2px rgba(60, 64, 67, 0.3), 0px 1px 3px 1px rgba(60, 64, 67, 0.15);\n",
              "      fill: #174EA6;\n",
              "    }\n",
              "\n",
              "    [theme=dark] .colab-df-convert {\n",
              "      background-color: #3B4455;\n",
              "      fill: #D2E3FC;\n",
              "    }\n",
              "\n",
              "    [theme=dark] .colab-df-convert:hover {\n",
              "      background-color: #434B5C;\n",
              "      box-shadow: 0px 1px 3px 1px rgba(0, 0, 0, 0.15);\n",
              "      filter: drop-shadow(0px 1px 2px rgba(0, 0, 0, 0.3));\n",
              "      fill: #FFFFFF;\n",
              "    }\n",
              "  </style>\n",
              "\n",
              "      <script>\n",
              "        const buttonEl =\n",
              "          document.querySelector('#df-f07e03fa-bf24-4e9f-ac53-89c5a1e034a7 button.colab-df-convert');\n",
              "        buttonEl.style.display =\n",
              "          google.colab.kernel.accessAllowed ? 'block' : 'none';\n",
              "\n",
              "        async function convertToInteractive(key) {\n",
              "          const element = document.querySelector('#df-f07e03fa-bf24-4e9f-ac53-89c5a1e034a7');\n",
              "          const dataTable =\n",
              "            await google.colab.kernel.invokeFunction('convertToInteractive',\n",
              "                                                     [key], {});\n",
              "          if (!dataTable) return;\n",
              "\n",
              "          const docLinkHtml = 'Like what you see? Visit the ' +\n",
              "            '<a target=\"_blank\" href=https://colab.research.google.com/notebooks/data_table.ipynb>data table notebook</a>'\n",
              "            + ' to learn more about interactive tables.';\n",
              "          element.innerHTML = '';\n",
              "          dataTable['output_type'] = 'display_data';\n",
              "          await google.colab.output.renderOutput(dataTable, element);\n",
              "          const docLink = document.createElement('div');\n",
              "          docLink.innerHTML = docLinkHtml;\n",
              "          element.appendChild(docLink);\n",
              "        }\n",
              "      </script>\n",
              "    </div>\n",
              "  </div>\n",
              "  "
            ],
            "text/plain": [
              "                                                  text  ... number of words\n",
              "0    i have recently purchase a j30t with moderate ...  ...           221.0\n",
              "1    i buy this product because i need instant grat...  ...           536.0\n",
              "2    i have own my buick since 53000 km and i be no...  ...           278.0\n",
              "3    this be my first digital camera so i do quite ...  ...           202.0\n",
              "4    minolta dimage 7hi be in a digital slr with 5 ...  ...           974.0\n",
              "..                                                 ...  ...             ...\n",
              "595  recently our 12 year old nissan stanza decide ...  ...           408.0\n",
              "596  i always do a lot of research before i buy any...  ...           341.0\n",
              "597  this car be an all around good buy if you be i...  ...           158.0\n",
              "598  i wait to write this until i have have 4 month...  ...           461.0\n",
              "599  i have be a montero owner since about 1985 and...  ...           237.0\n",
              "\n",
              "[600 rows x 3 columns]"
            ]
          },
          "metadata": {},
          "execution_count": 5
        }
      ]
    },
    {
      "cell_type": "code",
      "source": [
        "from sklearn import model_selection\n",
        "\n",
        "X_train, X_test, y_train, y_test = model_selection.train_test_split(X, y, test_size=0.3)\n",
        "X_train"
      ],
      "metadata": {
        "colab": {
          "base_uri": "https://localhost:8080/",
          "height": 424
        },
        "id": "dWsyf4qt2s34",
        "outputId": "18bddaef-853f-449b-8366-2eb65851fbb2"
      },
      "execution_count": 6,
      "outputs": [
        {
          "output_type": "execute_result",
          "data": {
            "text/html": [
              "\n",
              "  <div id=\"df-9096604f-4ff2-4407-8655-4a36a78f74b0\">\n",
              "    <div class=\"colab-df-container\">\n",
              "      <div>\n",
              "<style scoped>\n",
              "    .dataframe tbody tr th:only-of-type {\n",
              "        vertical-align: middle;\n",
              "    }\n",
              "\n",
              "    .dataframe tbody tr th {\n",
              "        vertical-align: top;\n",
              "    }\n",
              "\n",
              "    .dataframe thead th {\n",
              "        text-align: right;\n",
              "    }\n",
              "</style>\n",
              "<table border=\"1\" class=\"dataframe\">\n",
              "  <thead>\n",
              "    <tr style=\"text-align: right;\">\n",
              "      <th></th>\n",
              "      <th>text</th>\n",
              "      <th>pos</th>\n",
              "      <th>number of words</th>\n",
              "    </tr>\n",
              "  </thead>\n",
              "  <tbody>\n",
              "    <tr>\n",
              "      <th>134</th>\n",
              "      <td>i get this camera for about 50 on ebay it reta...</td>\n",
              "      <td>NN VBD DT NN IN RB CD IN NN PRP VBZ IN IN CD C...</td>\n",
              "      <td>228.0</td>\n",
              "    </tr>\n",
              "    <tr>\n",
              "      <th>443</th>\n",
              "      <td>i have own a 1990 subaru legacy awd for 6 year...</td>\n",
              "      <td>NN VBD VBN DT CD NN NN NN IN CD NNS CC VBD RB ...</td>\n",
              "      <td>294.0</td>\n",
              "    </tr>\n",
              "    <tr>\n",
              "      <th>150</th>\n",
              "      <td>my wife and i be look for a 7 or more passenge...</td>\n",
              "      <td>PRP$ NN CC NN VBD VBG IN DT CD CC JJR NN NN CC...</td>\n",
              "      <td>301.0</td>\n",
              "    </tr>\n",
              "    <tr>\n",
              "      <th>1</th>\n",
              "      <td>i buy this product because i need instant grat...</td>\n",
              "      <td>NN VBD DT NN IN JJ VBP JJ NN NN MD VB VB DT NN...</td>\n",
              "      <td>536.0</td>\n",
              "    </tr>\n",
              "    <tr>\n",
              "      <th>371</th>\n",
              "      <td>about a year ago i purchase a 775 from dell 90...</td>\n",
              "      <td>IN DT NN RB NN VBD DT CD IN NN CD NNS RB VBP N...</td>\n",
              "      <td>371.0</td>\n",
              "    </tr>\n",
              "    <tr>\n",
              "      <th>...</th>\n",
              "      <td>...</td>\n",
              "      <td>...</td>\n",
              "      <td>...</td>\n",
              "    </tr>\n",
              "    <tr>\n",
              "      <th>389</th>\n",
              "      <td>the dodge viper be in a class all by itself wi...</td>\n",
              "      <td>DT NN NN VBZ IN DT NN DT IN PRP IN PRP$ NN NN ...</td>\n",
              "      <td>282.0</td>\n",
              "    </tr>\n",
              "    <tr>\n",
              "      <th>29</th>\n",
              "      <td>if you put on tons of miles but want to look g...</td>\n",
              "      <td>IN PRP VBP IN NNS IN NNS CC VBP TO VB JJ VBG P...</td>\n",
              "      <td>199.0</td>\n",
              "    </tr>\n",
              "    <tr>\n",
              "      <th>156</th>\n",
              "      <td>i be not new to digital cameras and in a way i...</td>\n",
              "      <td>NN VBP RB JJ TO JJ NNS CC IN DT NN NN VBP RB V...</td>\n",
              "      <td>1573.0</td>\n",
              "    </tr>\n",
              "    <tr>\n",
              "      <th>374</th>\n",
              "      <td>be use the canon digital elph s110 powershot a...</td>\n",
              "      <td>VBN VBG DT NN JJ NN NN NN IN VBG VBN DT NN VBD...</td>\n",
              "      <td>695.0</td>\n",
              "    </tr>\n",
              "    <tr>\n",
              "      <th>319</th>\n",
              "      <td>out of boredom i go to test drive an xterra i ...</td>\n",
              "      <td>IN IN NN NN VBD TO VB NN DT NN NN VBD VBN DT N...</td>\n",
              "      <td>366.0</td>\n",
              "    </tr>\n",
              "  </tbody>\n",
              "</table>\n",
              "<p>420 rows × 3 columns</p>\n",
              "</div>\n",
              "      <button class=\"colab-df-convert\" onclick=\"convertToInteractive('df-9096604f-4ff2-4407-8655-4a36a78f74b0')\"\n",
              "              title=\"Convert this dataframe to an interactive table.\"\n",
              "              style=\"display:none;\">\n",
              "        \n",
              "  <svg xmlns=\"http://www.w3.org/2000/svg\" height=\"24px\"viewBox=\"0 0 24 24\"\n",
              "       width=\"24px\">\n",
              "    <path d=\"M0 0h24v24H0V0z\" fill=\"none\"/>\n",
              "    <path d=\"M18.56 5.44l.94 2.06.94-2.06 2.06-.94-2.06-.94-.94-2.06-.94 2.06-2.06.94zm-11 1L8.5 8.5l.94-2.06 2.06-.94-2.06-.94L8.5 2.5l-.94 2.06-2.06.94zm10 10l.94 2.06.94-2.06 2.06-.94-2.06-.94-.94-2.06-.94 2.06-2.06.94z\"/><path d=\"M17.41 7.96l-1.37-1.37c-.4-.4-.92-.59-1.43-.59-.52 0-1.04.2-1.43.59L10.3 9.45l-7.72 7.72c-.78.78-.78 2.05 0 2.83L4 21.41c.39.39.9.59 1.41.59.51 0 1.02-.2 1.41-.59l7.78-7.78 2.81-2.81c.8-.78.8-2.07 0-2.86zM5.41 20L4 18.59l7.72-7.72 1.47 1.35L5.41 20z\"/>\n",
              "  </svg>\n",
              "      </button>\n",
              "      \n",
              "  <style>\n",
              "    .colab-df-container {\n",
              "      display:flex;\n",
              "      flex-wrap:wrap;\n",
              "      gap: 12px;\n",
              "    }\n",
              "\n",
              "    .colab-df-convert {\n",
              "      background-color: #E8F0FE;\n",
              "      border: none;\n",
              "      border-radius: 50%;\n",
              "      cursor: pointer;\n",
              "      display: none;\n",
              "      fill: #1967D2;\n",
              "      height: 32px;\n",
              "      padding: 0 0 0 0;\n",
              "      width: 32px;\n",
              "    }\n",
              "\n",
              "    .colab-df-convert:hover {\n",
              "      background-color: #E2EBFA;\n",
              "      box-shadow: 0px 1px 2px rgba(60, 64, 67, 0.3), 0px 1px 3px 1px rgba(60, 64, 67, 0.15);\n",
              "      fill: #174EA6;\n",
              "    }\n",
              "\n",
              "    [theme=dark] .colab-df-convert {\n",
              "      background-color: #3B4455;\n",
              "      fill: #D2E3FC;\n",
              "    }\n",
              "\n",
              "    [theme=dark] .colab-df-convert:hover {\n",
              "      background-color: #434B5C;\n",
              "      box-shadow: 0px 1px 3px 1px rgba(0, 0, 0, 0.15);\n",
              "      filter: drop-shadow(0px 1px 2px rgba(0, 0, 0, 0.3));\n",
              "      fill: #FFFFFF;\n",
              "    }\n",
              "  </style>\n",
              "\n",
              "      <script>\n",
              "        const buttonEl =\n",
              "          document.querySelector('#df-9096604f-4ff2-4407-8655-4a36a78f74b0 button.colab-df-convert');\n",
              "        buttonEl.style.display =\n",
              "          google.colab.kernel.accessAllowed ? 'block' : 'none';\n",
              "\n",
              "        async function convertToInteractive(key) {\n",
              "          const element = document.querySelector('#df-9096604f-4ff2-4407-8655-4a36a78f74b0');\n",
              "          const dataTable =\n",
              "            await google.colab.kernel.invokeFunction('convertToInteractive',\n",
              "                                                     [key], {});\n",
              "          if (!dataTable) return;\n",
              "\n",
              "          const docLinkHtml = 'Like what you see? Visit the ' +\n",
              "            '<a target=\"_blank\" href=https://colab.research.google.com/notebooks/data_table.ipynb>data table notebook</a>'\n",
              "            + ' to learn more about interactive tables.';\n",
              "          element.innerHTML = '';\n",
              "          dataTable['output_type'] = 'display_data';\n",
              "          await google.colab.output.renderOutput(dataTable, element);\n",
              "          const docLink = document.createElement('div');\n",
              "          docLink.innerHTML = docLinkHtml;\n",
              "          element.appendChild(docLink);\n",
              "        }\n",
              "      </script>\n",
              "    </div>\n",
              "  </div>\n",
              "  "
            ],
            "text/plain": [
              "                                                  text  ... number of words\n",
              "134  i get this camera for about 50 on ebay it reta...  ...           228.0\n",
              "443  i have own a 1990 subaru legacy awd for 6 year...  ...           294.0\n",
              "150  my wife and i be look for a 7 or more passenge...  ...           301.0\n",
              "1    i buy this product because i need instant grat...  ...           536.0\n",
              "371  about a year ago i purchase a 775 from dell 90...  ...           371.0\n",
              "..                                                 ...  ...             ...\n",
              "389  the dodge viper be in a class all by itself wi...  ...           282.0\n",
              "29   if you put on tons of miles but want to look g...  ...           199.0\n",
              "156  i be not new to digital cameras and in a way i...  ...          1573.0\n",
              "374  be use the canon digital elph s110 powershot a...  ...           695.0\n",
              "319  out of boredom i go to test drive an xterra i ...  ...           366.0\n",
              "\n",
              "[420 rows x 3 columns]"
            ]
          },
          "metadata": {},
          "execution_count": 6
        }
      ]
    },
    {
      "cell_type": "code",
      "source": [
        "# vectorization\n",
        "from sklearn.feature_extraction.text import TfidfVectorizer\n",
        "\n",
        "#TFIDF\n",
        "vectorizer = TfidfVectorizer()\n",
        "vectorizer.fit(X.iloc[:, 0])\n",
        "\n",
        "X_train_Tfidf = vectorizer.transform(X_train.iloc[:, 0])\n",
        "X_test_Tfidf = vectorizer.transform(X_test.iloc[:, 0])"
      ],
      "metadata": {
        "id": "C007T6Zi39sh"
      },
      "execution_count": 7,
      "outputs": []
    },
    {
      "cell_type": "code",
      "source": [
        "#TFIDF + N-grams\n",
        "vectorizer_NGrams = TfidfVectorizer(ngram_range=(1, 2))\n",
        "vectorizer_NGrams.fit(X['text'])\n",
        "\n",
        "X_train_Tfidf_NGrams = vectorizer.transform(X_train['text'])\n",
        "X_test_Tfidf_NGrams = vectorizer.transform(X_test['text'])"
      ],
      "metadata": {
        "id": "auVqMsmLBVk_"
      },
      "execution_count": 8,
      "outputs": []
    },
    {
      "cell_type": "code",
      "source": [
        "#TFIDF + N-grams + POS tagging\n",
        "import scipy.sparse as sp\n",
        "\n",
        "vectorizerPOS = TfidfVectorizer(ngram_range=(1, 2))\n",
        "vectorizerPOS.fit(X['pos'])\n",
        "X_train_POS = vectorizerPOS.transform(X_train['pos'])\n",
        "X_test_POS = vectorizerPOS.transform(X_test['pos'])\n",
        "\n",
        "X_train_Tfidf_NGrams_POS =  sp.hstack([X_train_Tfidf_NGrams, X_train_POS], format='csr')\n",
        "X_test_Tfidf_NGrams_POS =  sp.hstack([X_test_Tfidf_NGrams, X_test_POS], format='csr')\n"
      ],
      "metadata": {
        "id": "ynW4ziXiBxwV",
        "outputId": "317a5ae6-1627-40d1-c89e-f1a998d1fcd7",
        "colab": {
          "base_uri": "https://localhost:8080/"
        }
      },
      "execution_count": 24,
      "outputs": [
        {
          "output_type": "stream",
          "name": "stdout",
          "text": [
            "(420, 11312)\n",
            "(420, 3)\n"
          ]
        }
      ]
    },
    {
      "cell_type": "code",
      "source": [
        "#TFIDF + N-grams + POS tagging + number of words\n",
        "X_train_other = pd.DataFrame.sparse.from_spmatrix(X_train_Tfidf_NGrams_POS)\n",
        "X_test_other = pd.DataFrame.sparse.from_spmatrix(X_test_Tfidf_NGrams_POS)\n",
        "X_train_other['number of words'] = X_train['number of words']\n",
        "X_test_other['number of words'] = X_test['number of words']"
      ],
      "metadata": {
        "id": "JO2-BExGPJ60"
      },
      "execution_count": 48,
      "outputs": []
    },
    {
      "cell_type": "code",
      "source": [
        "from sklearn import svm\n",
        "SVM = svm.SVC(kernel='linear')\n",
        "SVM.fit(X_train_Tfidf, y_train)\n",
        "\n",
        "y_pred_Tfidf = SVM.predict(X_test_Tfidf)"
      ],
      "metadata": {
        "id": "LDoYnH2NBwu1"
      },
      "execution_count": 54,
      "outputs": []
    },
    {
      "cell_type": "code",
      "source": [
        "SVM.fit(X_train_Tfidf_NGrams, y_train)\n",
        "y_pred_Tfidf_Ngrams = SVM.predict(X_test_Tfidf_NGrams)"
      ],
      "metadata": {
        "id": "0zQnt9onKRcP"
      },
      "execution_count": 15,
      "outputs": []
    },
    {
      "cell_type": "code",
      "source": [
        "SVM.fit(X_train_Tfidf_NGrams_POS, y_train)\n",
        "y_pred_Tfidf_Ngrams_POS = SVM.predict(X_test_Tfidf_NGrams_POS)"
      ],
      "metadata": {
        "id": "CyMUnhjJLOX5"
      },
      "execution_count": 16,
      "outputs": []
    },
    {
      "cell_type": "code",
      "source": [
        "X_train_other.fillna(999, inplace=True)\n",
        "X_test_other.fillna(999, inplace=True)\n",
        "SVM.fit(X_train_other, y_train)\n",
        "y_pred_other = SVM.predict(X_test_other)"
      ],
      "metadata": {
        "id": "QtIw8NmuL35r",
        "outputId": "ea52b3c9-107a-4127-82fc-561b534fcbc4",
        "colab": {
          "base_uri": "https://localhost:8080/"
        }
      },
      "execution_count": 50,
      "outputs": [
        {
          "output_type": "stream",
          "name": "stderr",
          "text": [
            "/usr/local/lib/python3.7/dist-packages/sklearn/utils/validation.py:1692: FutureWarning: Feature names only support names that are all strings. Got feature names with dtypes: ['int', 'str']. An error will be raised in 1.2.\n",
            "  FutureWarning,\n",
            "/usr/local/lib/python3.7/dist-packages/sklearn/utils/validation.py:625: UserWarning: pandas.DataFrame with sparse columns found.It will be converted to a dense numpy array.\n",
            "  \"pandas.DataFrame with sparse columns found.\"\n",
            "/usr/local/lib/python3.7/dist-packages/sklearn/utils/validation.py:1692: FutureWarning: Feature names only support names that are all strings. Got feature names with dtypes: ['int', 'str']. An error will be raised in 1.2.\n",
            "  FutureWarning,\n",
            "/usr/local/lib/python3.7/dist-packages/sklearn/utils/validation.py:625: UserWarning: pandas.DataFrame with sparse columns found.It will be converted to a dense numpy array.\n",
            "  \"pandas.DataFrame with sparse columns found.\"\n"
          ]
        }
      ]
    },
    {
      "cell_type": "code",
      "source": [
        "from sklearn.metrics import classification_report, confusion_matrix, accuracy_score\n",
        "\n",
        "#TFIDF\n",
        "print(confusion_matrix(y_test,y_pred_Tfidf))\n",
        "print(classification_report(y_test,y_pred_Tfidf))\n",
        "print(accuracy_score(y_test, y_pred_Tfidf))"
      ],
      "metadata": {
        "colab": {
          "base_uri": "https://localhost:8080/"
        },
        "id": "Z0Bb7yg7Clti",
        "outputId": "4697c251-42bb-4544-ab6e-8290c5700a40"
      },
      "execution_count": 52,
      "outputs": [
        {
          "output_type": "stream",
          "name": "stdout",
          "text": [
            "[[ 78   0]\n",
            " [  0 102]]\n",
            "              precision    recall  f1-score   support\n",
            "\n",
            "        Auto       1.00      1.00      1.00        78\n",
            "      Camera       1.00      1.00      1.00       102\n",
            "\n",
            "    accuracy                           1.00       180\n",
            "   macro avg       1.00      1.00      1.00       180\n",
            "weighted avg       1.00      1.00      1.00       180\n",
            "\n",
            "1.0\n"
          ]
        }
      ]
    },
    {
      "cell_type": "code",
      "source": [
        "#TFIDF + N-grams\n",
        "print(confusion_matrix(y_test,y_pred_Tfidf_Ngrams))\n",
        "print(classification_report(y_test,y_pred_Tfidf_Ngrams))\n",
        "print(accuracy_score(y_test, y_pred_Tfidf_Ngrams))"
      ],
      "metadata": {
        "id": "BD5HtpCwlQI3",
        "outputId": "1acb3d47-b318-4bac-c53a-f7a515e24f22",
        "colab": {
          "base_uri": "https://localhost:8080/"
        }
      },
      "execution_count": 57,
      "outputs": [
        {
          "output_type": "stream",
          "name": "stdout",
          "text": [
            "[[ 78   0]\n",
            " [  0 102]]\n",
            "              precision    recall  f1-score   support\n",
            "\n",
            "        Auto       1.00      1.00      1.00        78\n",
            "      Camera       1.00      1.00      1.00       102\n",
            "\n",
            "    accuracy                           1.00       180\n",
            "   macro avg       1.00      1.00      1.00       180\n",
            "weighted avg       1.00      1.00      1.00       180\n",
            "\n",
            "1.0\n"
          ]
        }
      ]
    },
    {
      "cell_type": "code",
      "source": [
        "#TFIDF + N-grams + POS tagging\n",
        "print(confusion_matrix(y_test,y_pred_Tfidf_Ngrams_POS))\n",
        "print(classification_report(y_test,y_pred_Tfidf_Ngrams_POS))\n",
        "print(accuracy_score(y_test, y_pred_Tfidf_Ngrams_POS))"
      ],
      "metadata": {
        "id": "sm44k9qqn0Hi",
        "outputId": "987e0303-2e48-461b-87ce-9a6e2ebc26a3",
        "colab": {
          "base_uri": "https://localhost:8080/"
        }
      },
      "execution_count": 58,
      "outputs": [
        {
          "output_type": "stream",
          "name": "stdout",
          "text": [
            "[[ 78   0]\n",
            " [  0 102]]\n",
            "              precision    recall  f1-score   support\n",
            "\n",
            "        Auto       1.00      1.00      1.00        78\n",
            "      Camera       1.00      1.00      1.00       102\n",
            "\n",
            "    accuracy                           1.00       180\n",
            "   macro avg       1.00      1.00      1.00       180\n",
            "weighted avg       1.00      1.00      1.00       180\n",
            "\n",
            "1.0\n"
          ]
        }
      ]
    },
    {
      "cell_type": "code",
      "source": [
        "#TFIDF + N-grams + POS tagging + number of words\n",
        "print(confusion_matrix(y_test,y_pred_other))\n",
        "print(classification_report(y_test,y_pred_other))\n",
        "print(accuracy_score(y_test, y_pred_other))"
      ],
      "metadata": {
        "id": "PVi8l58Fn-ZN",
        "outputId": "f334d77a-57ed-4a60-8f6c-8c079d320d95",
        "colab": {
          "base_uri": "https://localhost:8080/"
        }
      },
      "execution_count": 59,
      "outputs": [
        {
          "output_type": "stream",
          "name": "stdout",
          "text": [
            "[[ 78   0]\n",
            " [  0 102]]\n",
            "              precision    recall  f1-score   support\n",
            "\n",
            "        Auto       1.00      1.00      1.00        78\n",
            "      Camera       1.00      1.00      1.00       102\n",
            "\n",
            "    accuracy                           1.00       180\n",
            "   macro avg       1.00      1.00      1.00       180\n",
            "weighted avg       1.00      1.00      1.00       180\n",
            "\n",
            "1.0\n"
          ]
        }
      ]
    },
    {
      "cell_type": "code",
      "source": [
        "from sklearn.ensemble import RandomForestClassifier\n",
        "classifier = RandomForestClassifier(n_estimators=1000, random_state=0)\n",
        "classifier.fit(X_train_Tfidf, y_train)\n",
        "y_pred_Tfidf = classifier.predict(X_test_Tfidf)"
      ],
      "metadata": {
        "id": "K4Rlr8OCDpLi"
      },
      "execution_count": 61,
      "outputs": []
    },
    {
      "cell_type": "code",
      "source": [
        "classifier.fit(X_train_Tfidf_NGrams, y_train)\n",
        "y_pred_Tfidf_NGrams = classifier.predict(X_test_Tfidf_NGrams)"
      ],
      "metadata": {
        "id": "Sqq4cfTaoZGc"
      },
      "execution_count": 62,
      "outputs": []
    },
    {
      "cell_type": "code",
      "source": [
        "classifier.fit(X_train_Tfidf_NGrams_POS, y_train)\n",
        "y_pred_Tfidf_NGrams_POS = classifier.predict(X_test_Tfidf_NGrams_POS)"
      ],
      "metadata": {
        "id": "T3k2vJmQos0I"
      },
      "execution_count": 63,
      "outputs": []
    },
    {
      "cell_type": "code",
      "source": [
        "classifier.fit(X_train_other, y_train)\n",
        "y_pred_other = classifier.predict(X_test_other)"
      ],
      "metadata": {
        "id": "IfBzvrcMoytE",
        "outputId": "a4d10205-a4de-4f59-a946-f0519e48f68a",
        "colab": {
          "base_uri": "https://localhost:8080/"
        }
      },
      "execution_count": 64,
      "outputs": [
        {
          "output_type": "stream",
          "name": "stderr",
          "text": [
            "/usr/local/lib/python3.7/dist-packages/sklearn/utils/validation.py:1692: FutureWarning: Feature names only support names that are all strings. Got feature names with dtypes: ['int', 'str']. An error will be raised in 1.2.\n",
            "  FutureWarning,\n",
            "/usr/local/lib/python3.7/dist-packages/sklearn/utils/validation.py:625: UserWarning: pandas.DataFrame with sparse columns found.It will be converted to a dense numpy array.\n",
            "  \"pandas.DataFrame with sparse columns found.\"\n",
            "/usr/local/lib/python3.7/dist-packages/sklearn/utils/validation.py:1692: FutureWarning: Feature names only support names that are all strings. Got feature names with dtypes: ['int', 'str']. An error will be raised in 1.2.\n",
            "  FutureWarning,\n",
            "/usr/local/lib/python3.7/dist-packages/sklearn/utils/validation.py:625: UserWarning: pandas.DataFrame with sparse columns found.It will be converted to a dense numpy array.\n",
            "  \"pandas.DataFrame with sparse columns found.\"\n"
          ]
        }
      ]
    },
    {
      "cell_type": "code",
      "source": [
        "#TFIDF\n",
        "print(confusion_matrix(y_test,y_pred_Tfidf))\n",
        "print(classification_report(y_test,y_pred_Tfidf))\n",
        "print(accuracy_score(y_test, y_pred_Tfidf))"
      ],
      "metadata": {
        "colab": {
          "base_uri": "https://localhost:8080/"
        },
        "id": "xHnIbT5YF2fd",
        "outputId": "fde2f3b8-c33e-4c7d-c301-cf1c46b4939a"
      },
      "execution_count": 65,
      "outputs": [
        {
          "output_type": "stream",
          "name": "stdout",
          "text": [
            "[[ 78   0]\n",
            " [  0 102]]\n",
            "              precision    recall  f1-score   support\n",
            "\n",
            "        Auto       1.00      1.00      1.00        78\n",
            "      Camera       1.00      1.00      1.00       102\n",
            "\n",
            "    accuracy                           1.00       180\n",
            "   macro avg       1.00      1.00      1.00       180\n",
            "weighted avg       1.00      1.00      1.00       180\n",
            "\n",
            "1.0\n"
          ]
        }
      ]
    },
    {
      "cell_type": "code",
      "source": [
        "#TFIDF + N-grams\n",
        "print(confusion_matrix(y_test,y_pred_Tfidf_Ngrams))\n",
        "print(classification_report(y_test,y_pred_Tfidf_Ngrams))\n",
        "print(accuracy_score(y_test, y_pred_Tfidf_Ngrams))"
      ],
      "metadata": {
        "id": "zpf0r_NWo-LH",
        "outputId": "dee51a36-f585-4a55-c1b4-078942711764",
        "colab": {
          "base_uri": "https://localhost:8080/"
        }
      },
      "execution_count": 66,
      "outputs": [
        {
          "output_type": "stream",
          "name": "stdout",
          "text": [
            "[[ 78   0]\n",
            " [  0 102]]\n",
            "              precision    recall  f1-score   support\n",
            "\n",
            "        Auto       1.00      1.00      1.00        78\n",
            "      Camera       1.00      1.00      1.00       102\n",
            "\n",
            "    accuracy                           1.00       180\n",
            "   macro avg       1.00      1.00      1.00       180\n",
            "weighted avg       1.00      1.00      1.00       180\n",
            "\n",
            "1.0\n"
          ]
        }
      ]
    },
    {
      "cell_type": "code",
      "source": [
        "#TFIDF + N-grams + POS tagging\n",
        "print(confusion_matrix(y_test,y_pred_Tfidf_Ngrams_POS))\n",
        "print(classification_report(y_test,y_pred_Tfidf_Ngrams_POS))\n",
        "print(accuracy_score(y_test, y_pred_Tfidf_Ngrams_POS))"
      ],
      "metadata": {
        "id": "_lM-6qyzpBUV",
        "outputId": "0a4b07d0-ab54-4d75-c4e5-4780c4fadf05",
        "colab": {
          "base_uri": "https://localhost:8080/"
        }
      },
      "execution_count": 67,
      "outputs": [
        {
          "output_type": "stream",
          "name": "stdout",
          "text": [
            "[[ 78   0]\n",
            " [  0 102]]\n",
            "              precision    recall  f1-score   support\n",
            "\n",
            "        Auto       1.00      1.00      1.00        78\n",
            "      Camera       1.00      1.00      1.00       102\n",
            "\n",
            "    accuracy                           1.00       180\n",
            "   macro avg       1.00      1.00      1.00       180\n",
            "weighted avg       1.00      1.00      1.00       180\n",
            "\n",
            "1.0\n"
          ]
        }
      ]
    },
    {
      "cell_type": "code",
      "source": [
        "#TFIDF + N-grams + POS tagging + number of words\n",
        "print(confusion_matrix(y_test,y_pred_other))\n",
        "print(classification_report(y_test,y_pred_other))\n",
        "print(accuracy_score(y_test, y_pred_other))"
      ],
      "metadata": {
        "id": "v9piOMW3pKEF",
        "outputId": "2d84db71-6aa1-4d2d-e067-0027cf825746",
        "colab": {
          "base_uri": "https://localhost:8080/"
        }
      },
      "execution_count": 68,
      "outputs": [
        {
          "output_type": "stream",
          "name": "stdout",
          "text": [
            "[[ 78   0]\n",
            " [  0 102]]\n",
            "              precision    recall  f1-score   support\n",
            "\n",
            "        Auto       1.00      1.00      1.00        78\n",
            "      Camera       1.00      1.00      1.00       102\n",
            "\n",
            "    accuracy                           1.00       180\n",
            "   macro avg       1.00      1.00      1.00       180\n",
            "weighted avg       1.00      1.00      1.00       180\n",
            "\n",
            "1.0\n"
          ]
        }
      ]
    }
  ]
}